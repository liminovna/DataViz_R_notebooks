{
  "nbformat": 4,
  "nbformat_minor": 0,
  "metadata": {
    "colab": {
      "provenance": [],
      "authorship_tag": "ABX9TyNyImHjuCb9fgJE/SQoydZe",
      "include_colab_link": true
    },
    "kernelspec": {
      "name": "ir",
      "display_name": "R"
    },
    "language_info": {
      "name": "R"
    }
  },
  "cells": [
    {
      "cell_type": "markdown",
      "metadata": {
        "id": "view-in-github",
        "colab_type": "text"
      },
      "source": [
        "<a href=\"https://colab.research.google.com/github/liminovna/DataViz_R_notebooks/blob/main/R_assgnt2.ipynb\" target=\"_parent\"><img src=\"https://colab.research.google.com/assets/colab-badge.svg\" alt=\"Open In Colab\"/></a>"
      ]
    },
    {
      "cell_type": "markdown",
      "source": [
        "# Часть 1"
      ],
      "metadata": {
        "id": "WkZ54EegesV-"
      }
    },
    {
      "cell_type": "code",
      "execution_count": 51,
      "metadata": {
        "colab": {
          "base_uri": "https://localhost:8080/"
        },
        "id": "zHa1dDo5jELw",
        "outputId": "323fa0e2-4a81-46ef-8c3e-5da4c1d63c40"
      },
      "outputs": [
        {
          "output_type": "stream",
          "name": "stderr",
          "text": [
            "\u001b[1m\u001b[22mNew names:\n",
            "\u001b[36m•\u001b[39m `` -> `...1`\n",
            "\u001b[1mRows: \u001b[22m\u001b[34m832\u001b[39m \u001b[1mColumns: \u001b[22m\u001b[34m8\u001b[39m\n",
            "\u001b[36m──\u001b[39m \u001b[1mColumn specification\u001b[22m \u001b[36m────────────────────────────────────────────────────────\u001b[39m\n",
            "\u001b[1mDelimiter:\u001b[22m \",\"\n",
            "\u001b[31mchr\u001b[39m (4): Lemma, Participant, Cond, Exponent\n",
            "\u001b[32mdbl\u001b[39m (4): ...1, LogDurationA, LogDurationW, Frequency\n",
            "\n",
            "\u001b[36mℹ\u001b[39m Use `spec()` to retrieve the full column specification for this data.\n",
            "\u001b[36mℹ\u001b[39m Specify the column types or set `show_col_types = FALSE` to quiet this message.\n"
          ]
        }
      ],
      "source": [
        "# 1.0 Загрузка данных\n",
        "\n",
        "library(tidyverse)\n",
        "dur_word_freq <- read_csv(\"https://raw.githubusercontent.com/LingData2019/LingData2020/master/data/dur_word_frequency.csv\")"
      ]
    },
    {
      "cell_type": "code",
      "source": [
        "dur_word_freq"
      ],
      "metadata": {
        "colab": {
          "base_uri": "https://localhost:8080/",
          "height": 1000
        },
        "id": "5R1GyyFguzpx",
        "outputId": "07dbe20d-4af6-498c-f0cb-75cedc5e1623"
      },
      "execution_count": 130,
      "outputs": [
        {
          "output_type": "display_data",
          "data": {
            "text/html": [
              "<table class=\"dataframe\">\n",
              "<caption>A spec_tbl_df: 832 × 8</caption>\n",
              "<thead>\n",
              "\t<tr><th scope=col>...1</th><th scope=col>LogDurationA</th><th scope=col>LogDurationW</th><th scope=col>Lemma</th><th scope=col>Participant</th><th scope=col>Cond</th><th scope=col>Exponent</th><th scope=col>Frequency</th></tr>\n",
              "\t<tr><th scope=col>&lt;dbl&gt;</th><th scope=col>&lt;dbl&gt;</th><th scope=col>&lt;dbl&gt;</th><th scope=col>&lt;chr&gt;</th><th scope=col>&lt;chr&gt;</th><th scope=col>&lt;chr&gt;</th><th scope=col>&lt;chr&gt;</th><th scope=col>&lt;dbl&gt;</th></tr>\n",
              "</thead>\n",
              "<tbody>\n",
              "\t<tr><td> 11431</td><td>-1.324496</td><td>-0.4768593</td><td>schab </td><td>Art_02_S01</td><td>slow</td><td>t </td><td>-6.980044</td></tr>\n",
              "\t<tr><td>     1</td><td>-1.357757</td><td>-0.3595504</td><td>blas  </td><td>Art_02_S01</td><td>slow</td><td>n </td><td>-5.740760</td></tr>\n",
              "\t<tr><td>   136</td><td>-1.496422</td><td>-0.2701372</td><td>schlaf</td><td>Art_02_S01</td><td>slow</td><td>en</td><td>-4.676302</td></tr>\n",
              "\t<tr><td>    71</td><td>-1.284340</td><td>-0.3773472</td><td>lahm  </td><td>Art_02_S01</td><td>slow</td><td>en</td><td>-6.263638</td></tr>\n",
              "\t<tr><td> 11581</td><td>-1.331510</td><td>-0.4471271</td><td>lahm  </td><td>Art_02_S01</td><td>slow</td><td>t </td><td>-6.469370</td></tr>\n",
              "\t<tr><td>    33</td><td>-1.413991</td><td>-0.2609115</td><td>fahnd </td><td>Art_02_S01</td><td>slow</td><td>en</td><td>-6.149386</td></tr>\n",
              "\t<tr><td>   100</td><td>-1.289365</td><td>-0.3359784</td><td>mahn  </td><td>Art_02_S01</td><td>slow</td><td>en</td><td>-5.813832</td></tr>\n",
              "\t<tr><td> 16957</td><td>-1.183980</td><td>-0.4085488</td><td>bahn  </td><td>Art_02_S01</td><td>slow</td><td>t </td><td>-5.762719</td></tr>\n",
              "\t<tr><td>   127</td><td>-1.293339</td><td>-0.4660275</td><td>schad </td><td>Art_02_S01</td><td>slow</td><td>n </td><td>-4.996467</td></tr>\n",
              "\t<tr><td>   163</td><td>-1.472099</td><td>-0.3424762</td><td>wat   </td><td>Art_02_S01</td><td>slow</td><td>n </td><td>-6.427830</td></tr>\n",
              "\t<tr><td>   218</td><td>-1.635442</td><td>-0.3634746</td><td>fahnd </td><td>Art_02_S01</td><td>fast</td><td>n </td><td>-6.149386</td></tr>\n",
              "\t<tr><td>   227</td><td>-1.450412</td><td>-0.5977836</td><td>lahm  </td><td>Art_02_S01</td><td>fast</td><td>en</td><td>-6.263638</td></tr>\n",
              "\t<tr><td>   197</td><td>-1.534487</td><td>-0.4155003</td><td>blas  </td><td>Art_02_S01</td><td>fast</td><td>n </td><td>-5.740760</td></tr>\n",
              "\t<tr><td>   245</td><td>-1.520789</td><td>-0.4887875</td><td>mahn  </td><td>Art_02_S01</td><td>fast</td><td>en</td><td>-5.813832</td></tr>\n",
              "\t<tr><td>   286</td><td>-1.324823</td><td>-0.5259920</td><td>schad </td><td>Art_02_S01</td><td>fast</td><td>n </td><td>-4.996467</td></tr>\n",
              "\t<tr><td>   299</td><td>-1.651535</td><td>-0.4294139</td><td>schlaf</td><td>Art_02_S01</td><td>fast</td><td>n </td><td>-4.676302</td></tr>\n",
              "\t<tr><td> 96981</td><td>-1.437124</td><td>-0.7693752</td><td>lahm  </td><td>Art_02_S01</td><td>fast</td><td>t </td><td>-6.469370</td></tr>\n",
              "\t<tr><td> 99431</td><td>-1.399540</td><td>-0.6007510</td><td>schab </td><td>Art_02_S01</td><td>fast</td><td>t </td><td>-6.980044</td></tr>\n",
              "\t<tr><td>   312</td><td>-1.420513</td><td>-0.6093427</td><td>wat   </td><td>Art_02_S01</td><td>fast</td><td>n </td><td>-6.427830</td></tr>\n",
              "\t<tr><td>106971</td><td>-1.308132</td><td>-0.6832709</td><td>bahn  </td><td>Art_02_S01</td><td>fast</td><td>t </td><td>-5.762719</td></tr>\n",
              "\t<tr><td>   415</td><td>-1.560648</td><td>-0.2231311</td><td>tafeln</td><td>Art_02_S01</td><td>slow</td><td>en</td><td>-6.969703</td></tr>\n",
              "\t<tr><td>   335</td><td>-1.237874</td><td>-0.3218378</td><td>bahn  </td><td>Art_02_S01</td><td>slow</td><td>en</td><td>-5.792931</td></tr>\n",
              "\t<tr><td>   402</td><td>-1.609438</td><td>-0.4780197</td><td>latsch</td><td>Art_02_S01</td><td>slow</td><td>n </td><td>-6.731805</td></tr>\n",
              "\t<tr><td>125942</td><td>-1.384318</td><td>-0.4620196</td><td>zahn  </td><td>Art_02_S01</td><td>slow</td><td>t </td><td>-7.537394</td></tr>\n",
              "\t<tr><td>   364</td><td>-1.511255</td><td>-0.2744237</td><td>faseln</td><td>Art_02_S01</td><td>slow</td><td>en</td><td>-6.641444</td></tr>\n",
              "\t<tr><td>   447</td><td>-1.412266</td><td>-0.4729204</td><td>bahn  </td><td>Art_02_S01</td><td>fast</td><td>en</td><td>-5.792931</td></tr>\n",
              "\t<tr><td>   483</td><td>-1.654282</td><td>-0.5108090</td><td>latsch</td><td>Art_02_S01</td><td>fast</td><td>n </td><td>-6.731805</td></tr>\n",
              "\t<tr><td>   471</td><td>-1.431659</td><td>-0.3371024</td><td>faseln</td><td>Art_02_S01</td><td>fast</td><td>en</td><td>-6.641444</td></tr>\n",
              "\t<tr><td>   501</td><td>-1.708082</td><td>-0.4155003</td><td>tafeln</td><td>Art_02_S01</td><td>fast</td><td>n </td><td>-6.969703</td></tr>\n",
              "\t<tr><td>112443</td><td>-1.511876</td><td>-0.5276158</td><td>zahn  </td><td>Art_02_S01</td><td>fast</td><td>t </td><td>-7.537394</td></tr>\n",
              "\t<tr><td>⋮</td><td>⋮</td><td>⋮</td><td>⋮</td><td>⋮</td><td>⋮</td><td>⋮</td><td>⋮</td></tr>\n",
              "\t<tr><td>    9829</td><td>-1.474180</td><td>-0.3702983</td><td>bahn   </td><td>Art_02_S24</td><td>slow</td><td>en</td><td>-5.792931</td></tr>\n",
              "\t<tr><td>    9873</td><td>-1.706824</td><td>-0.4547390</td><td>latsch </td><td>Art_02_S24</td><td>slow</td><td>n </td><td>-6.731805</td></tr>\n",
              "\t<tr><td>    9851</td><td>-1.523444</td><td>-0.2613518</td><td>faseln </td><td>Art_02_S24</td><td>slow</td><td>en</td><td>-6.641444</td></tr>\n",
              "\t<tr><td>    9891</td><td>-1.833551</td><td>-0.2323611</td><td>tafeln </td><td>Art_02_S24</td><td>slow</td><td>en</td><td>-6.969703</td></tr>\n",
              "\t<tr><td> 1994949</td><td>-1.696799</td><td>-0.3856478</td><td>zahn   </td><td>Art_02_S24</td><td>slow</td><td>t </td><td>-7.537394</td></tr>\n",
              "\t<tr><td>  929308</td><td>-1.661149</td><td>-0.5798006</td><td>zahn   </td><td>Art_02_S24</td><td>fast</td><td>t </td><td>-7.537394</td></tr>\n",
              "\t<tr><td>    9907</td><td>-1.668293</td><td>-0.7339483</td><td>bahn   </td><td>Art_02_S24</td><td>fast</td><td>en</td><td>-5.792931</td></tr>\n",
              "\t<tr><td>    9960</td><td>-1.937669</td><td>-0.4307675</td><td>tafeln </td><td>Art_02_S24</td><td>fast</td><td>en</td><td>-6.969703</td></tr>\n",
              "\t<tr><td>    9944</td><td>-1.839250</td><td>-0.4942799</td><td>latsch </td><td>Art_02_S24</td><td>fast</td><td>en</td><td>-6.731805</td></tr>\n",
              "\t<tr><td>    9926</td><td>-1.689927</td><td>-0.5621014</td><td>faseln </td><td>Art_02_S24</td><td>fast</td><td>n </td><td>-6.641444</td></tr>\n",
              "\t<tr><td>    9998</td><td>-1.585958</td><td>-0.5798006</td><td>schab  </td><td>Art_02_S24</td><td>slow</td><td>n </td><td>-6.697725</td></tr>\n",
              "\t<tr><td>   10036</td><td>-1.464470</td><td>-0.3010916</td><td>tadeln </td><td>Art_02_S24</td><td>slow</td><td>en</td><td>-6.202766</td></tr>\n",
              "\t<tr><td>   10080</td><td>-1.476286</td><td>-0.3010916</td><td>zahn   </td><td>Art_02_S24</td><td>slow</td><td>n </td><td>-7.598092</td></tr>\n",
              "\t<tr><td>  708993</td><td>-1.529287</td><td>-0.2357097</td><td>schlaf </td><td>Art_02_S24</td><td>slow</td><td>t </td><td>-6.759243</td></tr>\n",
              "\t<tr><td> 1034493</td><td>-1.468374</td><td>-0.2484485</td><td>latsch </td><td>Art_02_S24</td><td>slow</td><td>t </td><td>-7.143247</td></tr>\n",
              "\t<tr><td>    9974</td><td>-1.443176</td><td>-0.4975442</td><td>bad    </td><td>Art_02_S24</td><td>slow</td><td>n </td><td>-5.417679</td></tr>\n",
              "\t<tr><td>11413108</td><td>-1.417017</td><td> 0.4637403</td><td>blas   </td><td>Art_02_S24</td><td>slow</td><td>t </td><td>-7.501182</td></tr>\n",
              "\t<tr><td>   10018</td><td>-1.728712</td><td>-0.2684193</td><td>stapeln</td><td>Art_02_S24</td><td>slow</td><td>en</td><td>-5.920485</td></tr>\n",
              "\t<tr><td> 1229986</td><td>-1.502953</td><td> 0.5187997</td><td>zahl   </td><td>Art_02_S24</td><td>slow</td><td>t </td><td>-4.753770</td></tr>\n",
              "\t<tr><td>   10059</td><td>-1.574289</td><td>-0.3424762</td><td>zahl   </td><td>Art_02_S24</td><td>slow</td><td>en</td><td>-4.275480</td></tr>\n",
              "\t<tr><td> 1830647</td><td>-1.469676</td><td>-0.3010916</td><td>mahn   </td><td>Art_02_S24</td><td>slow</td><td>t </td><td>-5.549650</td></tr>\n",
              "\t<tr><td>   10103</td><td>-1.442461</td><td>-0.6375567</td><td>bad    </td><td>Art_02_S24</td><td>fast</td><td>en</td><td>-5.417679</td></tr>\n",
              "\t<tr><td>   10159</td><td>-1.809259</td><td>-0.6965355</td><td>tadeln </td><td>Art_02_S24</td><td>fast</td><td>en</td><td>-6.202766</td></tr>\n",
              "\t<tr><td>   10175</td><td>-1.744214</td><td>-0.5621014</td><td>zahn   </td><td>Art_02_S24</td><td>fast</td><td>en</td><td>-7.598092</td></tr>\n",
              "\t<tr><td>   10126</td><td>-1.694161</td><td>-0.6629947</td><td>schab  </td><td>Art_02_S24</td><td>fast</td><td>n </td><td>-6.697725</td></tr>\n",
              "\t<tr><td>  585593</td><td>-1.617160</td><td>-0.6348594</td><td>mahn   </td><td>Art_02_S24</td><td>fast</td><td>t </td><td>-5.549650</td></tr>\n",
              "\t<tr><td>   10144</td><td>-1.887040</td><td>-0.4307675</td><td>stapeln</td><td>Art_02_S24</td><td>fast</td><td>en</td><td>-5.920485</td></tr>\n",
              "\t<tr><td>  760494</td><td>-1.700037</td><td>-0.6348594</td><td>blas   </td><td>Art_02_S24</td><td>fast</td><td>t </td><td>-7.501182</td></tr>\n",
              "\t<tr><td>  952496</td><td>-1.897120</td><td>-0.5447099</td><td>latsch </td><td>Art_02_S24</td><td>fast</td><td>t </td><td>-7.143247</td></tr>\n",
              "\t<tr><td> 1157596</td><td>-1.717029</td><td>-0.6539072</td><td>zahl   </td><td>Art_02_S24</td><td>fast</td><td>t </td><td>-4.753770</td></tr>\n",
              "</tbody>\n",
              "</table>\n"
            ],
            "text/markdown": "\nA spec_tbl_df: 832 × 8\n\n| ...1 &lt;dbl&gt; | LogDurationA &lt;dbl&gt; | LogDurationW &lt;dbl&gt; | Lemma &lt;chr&gt; | Participant &lt;chr&gt; | Cond &lt;chr&gt; | Exponent &lt;chr&gt; | Frequency &lt;dbl&gt; |\n|---|---|---|---|---|---|---|---|\n|  11431 | -1.324496 | -0.4768593 | schab  | Art_02_S01 | slow | t  | -6.980044 |\n|      1 | -1.357757 | -0.3595504 | blas   | Art_02_S01 | slow | n  | -5.740760 |\n|    136 | -1.496422 | -0.2701372 | schlaf | Art_02_S01 | slow | en | -4.676302 |\n|     71 | -1.284340 | -0.3773472 | lahm   | Art_02_S01 | slow | en | -6.263638 |\n|  11581 | -1.331510 | -0.4471271 | lahm   | Art_02_S01 | slow | t  | -6.469370 |\n|     33 | -1.413991 | -0.2609115 | fahnd  | Art_02_S01 | slow | en | -6.149386 |\n|    100 | -1.289365 | -0.3359784 | mahn   | Art_02_S01 | slow | en | -5.813832 |\n|  16957 | -1.183980 | -0.4085488 | bahn   | Art_02_S01 | slow | t  | -5.762719 |\n|    127 | -1.293339 | -0.4660275 | schad  | Art_02_S01 | slow | n  | -4.996467 |\n|    163 | -1.472099 | -0.3424762 | wat    | Art_02_S01 | slow | n  | -6.427830 |\n|    218 | -1.635442 | -0.3634746 | fahnd  | Art_02_S01 | fast | n  | -6.149386 |\n|    227 | -1.450412 | -0.5977836 | lahm   | Art_02_S01 | fast | en | -6.263638 |\n|    197 | -1.534487 | -0.4155003 | blas   | Art_02_S01 | fast | n  | -5.740760 |\n|    245 | -1.520789 | -0.4887875 | mahn   | Art_02_S01 | fast | en | -5.813832 |\n|    286 | -1.324823 | -0.5259920 | schad  | Art_02_S01 | fast | n  | -4.996467 |\n|    299 | -1.651535 | -0.4294139 | schlaf | Art_02_S01 | fast | n  | -4.676302 |\n|  96981 | -1.437124 | -0.7693752 | lahm   | Art_02_S01 | fast | t  | -6.469370 |\n|  99431 | -1.399540 | -0.6007510 | schab  | Art_02_S01 | fast | t  | -6.980044 |\n|    312 | -1.420513 | -0.6093427 | wat    | Art_02_S01 | fast | n  | -6.427830 |\n| 106971 | -1.308132 | -0.6832709 | bahn   | Art_02_S01 | fast | t  | -5.762719 |\n|    415 | -1.560648 | -0.2231311 | tafeln | Art_02_S01 | slow | en | -6.969703 |\n|    335 | -1.237874 | -0.3218378 | bahn   | Art_02_S01 | slow | en | -5.792931 |\n|    402 | -1.609438 | -0.4780197 | latsch | Art_02_S01 | slow | n  | -6.731805 |\n| 125942 | -1.384318 | -0.4620196 | zahn   | Art_02_S01 | slow | t  | -7.537394 |\n|    364 | -1.511255 | -0.2744237 | faseln | Art_02_S01 | slow | en | -6.641444 |\n|    447 | -1.412266 | -0.4729204 | bahn   | Art_02_S01 | fast | en | -5.792931 |\n|    483 | -1.654282 | -0.5108090 | latsch | Art_02_S01 | fast | n  | -6.731805 |\n|    471 | -1.431659 | -0.3371024 | faseln | Art_02_S01 | fast | en | -6.641444 |\n|    501 | -1.708082 | -0.4155003 | tafeln | Art_02_S01 | fast | n  | -6.969703 |\n| 112443 | -1.511876 | -0.5276158 | zahn   | Art_02_S01 | fast | t  | -7.537394 |\n| ⋮ | ⋮ | ⋮ | ⋮ | ⋮ | ⋮ | ⋮ | ⋮ |\n|     9829 | -1.474180 | -0.3702983 | bahn    | Art_02_S24 | slow | en | -5.792931 |\n|     9873 | -1.706824 | -0.4547390 | latsch  | Art_02_S24 | slow | n  | -6.731805 |\n|     9851 | -1.523444 | -0.2613518 | faseln  | Art_02_S24 | slow | en | -6.641444 |\n|     9891 | -1.833551 | -0.2323611 | tafeln  | Art_02_S24 | slow | en | -6.969703 |\n|  1994949 | -1.696799 | -0.3856478 | zahn    | Art_02_S24 | slow | t  | -7.537394 |\n|   929308 | -1.661149 | -0.5798006 | zahn    | Art_02_S24 | fast | t  | -7.537394 |\n|     9907 | -1.668293 | -0.7339483 | bahn    | Art_02_S24 | fast | en | -5.792931 |\n|     9960 | -1.937669 | -0.4307675 | tafeln  | Art_02_S24 | fast | en | -6.969703 |\n|     9944 | -1.839250 | -0.4942799 | latsch  | Art_02_S24 | fast | en | -6.731805 |\n|     9926 | -1.689927 | -0.5621014 | faseln  | Art_02_S24 | fast | n  | -6.641444 |\n|     9998 | -1.585958 | -0.5798006 | schab   | Art_02_S24 | slow | n  | -6.697725 |\n|    10036 | -1.464470 | -0.3010916 | tadeln  | Art_02_S24 | slow | en | -6.202766 |\n|    10080 | -1.476286 | -0.3010916 | zahn    | Art_02_S24 | slow | n  | -7.598092 |\n|   708993 | -1.529287 | -0.2357097 | schlaf  | Art_02_S24 | slow | t  | -6.759243 |\n|  1034493 | -1.468374 | -0.2484485 | latsch  | Art_02_S24 | slow | t  | -7.143247 |\n|     9974 | -1.443176 | -0.4975442 | bad     | Art_02_S24 | slow | n  | -5.417679 |\n| 11413108 | -1.417017 |  0.4637403 | blas    | Art_02_S24 | slow | t  | -7.501182 |\n|    10018 | -1.728712 | -0.2684193 | stapeln | Art_02_S24 | slow | en | -5.920485 |\n|  1229986 | -1.502953 |  0.5187997 | zahl    | Art_02_S24 | slow | t  | -4.753770 |\n|    10059 | -1.574289 | -0.3424762 | zahl    | Art_02_S24 | slow | en | -4.275480 |\n|  1830647 | -1.469676 | -0.3010916 | mahn    | Art_02_S24 | slow | t  | -5.549650 |\n|    10103 | -1.442461 | -0.6375567 | bad     | Art_02_S24 | fast | en | -5.417679 |\n|    10159 | -1.809259 | -0.6965355 | tadeln  | Art_02_S24 | fast | en | -6.202766 |\n|    10175 | -1.744214 | -0.5621014 | zahn    | Art_02_S24 | fast | en | -7.598092 |\n|    10126 | -1.694161 | -0.6629947 | schab   | Art_02_S24 | fast | n  | -6.697725 |\n|   585593 | -1.617160 | -0.6348594 | mahn    | Art_02_S24 | fast | t  | -5.549650 |\n|    10144 | -1.887040 | -0.4307675 | stapeln | Art_02_S24 | fast | en | -5.920485 |\n|   760494 | -1.700037 | -0.6348594 | blas    | Art_02_S24 | fast | t  | -7.501182 |\n|   952496 | -1.897120 | -0.5447099 | latsch  | Art_02_S24 | fast | t  | -7.143247 |\n|  1157596 | -1.717029 | -0.6539072 | zahl    | Art_02_S24 | fast | t  | -4.753770 |\n\n",
            "text/latex": "A spec\\_tbl\\_df: 832 × 8\n\\begin{tabular}{llllllll}\n ...1 & LogDurationA & LogDurationW & Lemma & Participant & Cond & Exponent & Frequency\\\\\n <dbl> & <dbl> & <dbl> & <chr> & <chr> & <chr> & <chr> & <dbl>\\\\\n\\hline\n\t  11431 & -1.324496 & -0.4768593 & schab  & Art\\_02\\_S01 & slow & t  & -6.980044\\\\\n\t      1 & -1.357757 & -0.3595504 & blas   & Art\\_02\\_S01 & slow & n  & -5.740760\\\\\n\t    136 & -1.496422 & -0.2701372 & schlaf & Art\\_02\\_S01 & slow & en & -4.676302\\\\\n\t     71 & -1.284340 & -0.3773472 & lahm   & Art\\_02\\_S01 & slow & en & -6.263638\\\\\n\t  11581 & -1.331510 & -0.4471271 & lahm   & Art\\_02\\_S01 & slow & t  & -6.469370\\\\\n\t     33 & -1.413991 & -0.2609115 & fahnd  & Art\\_02\\_S01 & slow & en & -6.149386\\\\\n\t    100 & -1.289365 & -0.3359784 & mahn   & Art\\_02\\_S01 & slow & en & -5.813832\\\\\n\t  16957 & -1.183980 & -0.4085488 & bahn   & Art\\_02\\_S01 & slow & t  & -5.762719\\\\\n\t    127 & -1.293339 & -0.4660275 & schad  & Art\\_02\\_S01 & slow & n  & -4.996467\\\\\n\t    163 & -1.472099 & -0.3424762 & wat    & Art\\_02\\_S01 & slow & n  & -6.427830\\\\\n\t    218 & -1.635442 & -0.3634746 & fahnd  & Art\\_02\\_S01 & fast & n  & -6.149386\\\\\n\t    227 & -1.450412 & -0.5977836 & lahm   & Art\\_02\\_S01 & fast & en & -6.263638\\\\\n\t    197 & -1.534487 & -0.4155003 & blas   & Art\\_02\\_S01 & fast & n  & -5.740760\\\\\n\t    245 & -1.520789 & -0.4887875 & mahn   & Art\\_02\\_S01 & fast & en & -5.813832\\\\\n\t    286 & -1.324823 & -0.5259920 & schad  & Art\\_02\\_S01 & fast & n  & -4.996467\\\\\n\t    299 & -1.651535 & -0.4294139 & schlaf & Art\\_02\\_S01 & fast & n  & -4.676302\\\\\n\t  96981 & -1.437124 & -0.7693752 & lahm   & Art\\_02\\_S01 & fast & t  & -6.469370\\\\\n\t  99431 & -1.399540 & -0.6007510 & schab  & Art\\_02\\_S01 & fast & t  & -6.980044\\\\\n\t    312 & -1.420513 & -0.6093427 & wat    & Art\\_02\\_S01 & fast & n  & -6.427830\\\\\n\t 106971 & -1.308132 & -0.6832709 & bahn   & Art\\_02\\_S01 & fast & t  & -5.762719\\\\\n\t    415 & -1.560648 & -0.2231311 & tafeln & Art\\_02\\_S01 & slow & en & -6.969703\\\\\n\t    335 & -1.237874 & -0.3218378 & bahn   & Art\\_02\\_S01 & slow & en & -5.792931\\\\\n\t    402 & -1.609438 & -0.4780197 & latsch & Art\\_02\\_S01 & slow & n  & -6.731805\\\\\n\t 125942 & -1.384318 & -0.4620196 & zahn   & Art\\_02\\_S01 & slow & t  & -7.537394\\\\\n\t    364 & -1.511255 & -0.2744237 & faseln & Art\\_02\\_S01 & slow & en & -6.641444\\\\\n\t    447 & -1.412266 & -0.4729204 & bahn   & Art\\_02\\_S01 & fast & en & -5.792931\\\\\n\t    483 & -1.654282 & -0.5108090 & latsch & Art\\_02\\_S01 & fast & n  & -6.731805\\\\\n\t    471 & -1.431659 & -0.3371024 & faseln & Art\\_02\\_S01 & fast & en & -6.641444\\\\\n\t    501 & -1.708082 & -0.4155003 & tafeln & Art\\_02\\_S01 & fast & n  & -6.969703\\\\\n\t 112443 & -1.511876 & -0.5276158 & zahn   & Art\\_02\\_S01 & fast & t  & -7.537394\\\\\n\t ⋮ & ⋮ & ⋮ & ⋮ & ⋮ & ⋮ & ⋮ & ⋮\\\\\n\t     9829 & -1.474180 & -0.3702983 & bahn    & Art\\_02\\_S24 & slow & en & -5.792931\\\\\n\t     9873 & -1.706824 & -0.4547390 & latsch  & Art\\_02\\_S24 & slow & n  & -6.731805\\\\\n\t     9851 & -1.523444 & -0.2613518 & faseln  & Art\\_02\\_S24 & slow & en & -6.641444\\\\\n\t     9891 & -1.833551 & -0.2323611 & tafeln  & Art\\_02\\_S24 & slow & en & -6.969703\\\\\n\t  1994949 & -1.696799 & -0.3856478 & zahn    & Art\\_02\\_S24 & slow & t  & -7.537394\\\\\n\t   929308 & -1.661149 & -0.5798006 & zahn    & Art\\_02\\_S24 & fast & t  & -7.537394\\\\\n\t     9907 & -1.668293 & -0.7339483 & bahn    & Art\\_02\\_S24 & fast & en & -5.792931\\\\\n\t     9960 & -1.937669 & -0.4307675 & tafeln  & Art\\_02\\_S24 & fast & en & -6.969703\\\\\n\t     9944 & -1.839250 & -0.4942799 & latsch  & Art\\_02\\_S24 & fast & en & -6.731805\\\\\n\t     9926 & -1.689927 & -0.5621014 & faseln  & Art\\_02\\_S24 & fast & n  & -6.641444\\\\\n\t     9998 & -1.585958 & -0.5798006 & schab   & Art\\_02\\_S24 & slow & n  & -6.697725\\\\\n\t    10036 & -1.464470 & -0.3010916 & tadeln  & Art\\_02\\_S24 & slow & en & -6.202766\\\\\n\t    10080 & -1.476286 & -0.3010916 & zahn    & Art\\_02\\_S24 & slow & n  & -7.598092\\\\\n\t   708993 & -1.529287 & -0.2357097 & schlaf  & Art\\_02\\_S24 & slow & t  & -6.759243\\\\\n\t  1034493 & -1.468374 & -0.2484485 & latsch  & Art\\_02\\_S24 & slow & t  & -7.143247\\\\\n\t     9974 & -1.443176 & -0.4975442 & bad     & Art\\_02\\_S24 & slow & n  & -5.417679\\\\\n\t 11413108 & -1.417017 &  0.4637403 & blas    & Art\\_02\\_S24 & slow & t  & -7.501182\\\\\n\t    10018 & -1.728712 & -0.2684193 & stapeln & Art\\_02\\_S24 & slow & en & -5.920485\\\\\n\t  1229986 & -1.502953 &  0.5187997 & zahl    & Art\\_02\\_S24 & slow & t  & -4.753770\\\\\n\t    10059 & -1.574289 & -0.3424762 & zahl    & Art\\_02\\_S24 & slow & en & -4.275480\\\\\n\t  1830647 & -1.469676 & -0.3010916 & mahn    & Art\\_02\\_S24 & slow & t  & -5.549650\\\\\n\t    10103 & -1.442461 & -0.6375567 & bad     & Art\\_02\\_S24 & fast & en & -5.417679\\\\\n\t    10159 & -1.809259 & -0.6965355 & tadeln  & Art\\_02\\_S24 & fast & en & -6.202766\\\\\n\t    10175 & -1.744214 & -0.5621014 & zahn    & Art\\_02\\_S24 & fast & en & -7.598092\\\\\n\t    10126 & -1.694161 & -0.6629947 & schab   & Art\\_02\\_S24 & fast & n  & -6.697725\\\\\n\t   585593 & -1.617160 & -0.6348594 & mahn    & Art\\_02\\_S24 & fast & t  & -5.549650\\\\\n\t    10144 & -1.887040 & -0.4307675 & stapeln & Art\\_02\\_S24 & fast & en & -5.920485\\\\\n\t   760494 & -1.700037 & -0.6348594 & blas    & Art\\_02\\_S24 & fast & t  & -7.501182\\\\\n\t   952496 & -1.897120 & -0.5447099 & latsch  & Art\\_02\\_S24 & fast & t  & -7.143247\\\\\n\t  1157596 & -1.717029 & -0.6539072 & zahl    & Art\\_02\\_S24 & fast & t  & -4.753770\\\\\n\\end{tabular}\n",
            "text/plain": [
              "    ...1     LogDurationA LogDurationW Lemma   Participant Cond Exponent\n",
              "1    11431   -1.324496    -0.4768593   schab   Art_02_S01  slow t       \n",
              "2        1   -1.357757    -0.3595504   blas    Art_02_S01  slow n       \n",
              "3      136   -1.496422    -0.2701372   schlaf  Art_02_S01  slow en      \n",
              "4       71   -1.284340    -0.3773472   lahm    Art_02_S01  slow en      \n",
              "5    11581   -1.331510    -0.4471271   lahm    Art_02_S01  slow t       \n",
              "6       33   -1.413991    -0.2609115   fahnd   Art_02_S01  slow en      \n",
              "7      100   -1.289365    -0.3359784   mahn    Art_02_S01  slow en      \n",
              "8    16957   -1.183980    -0.4085488   bahn    Art_02_S01  slow t       \n",
              "9      127   -1.293339    -0.4660275   schad   Art_02_S01  slow n       \n",
              "10     163   -1.472099    -0.3424762   wat     Art_02_S01  slow n       \n",
              "11     218   -1.635442    -0.3634746   fahnd   Art_02_S01  fast n       \n",
              "12     227   -1.450412    -0.5977836   lahm    Art_02_S01  fast en      \n",
              "13     197   -1.534487    -0.4155003   blas    Art_02_S01  fast n       \n",
              "14     245   -1.520789    -0.4887875   mahn    Art_02_S01  fast en      \n",
              "15     286   -1.324823    -0.5259920   schad   Art_02_S01  fast n       \n",
              "16     299   -1.651535    -0.4294139   schlaf  Art_02_S01  fast n       \n",
              "17   96981   -1.437124    -0.7693752   lahm    Art_02_S01  fast t       \n",
              "18   99431   -1.399540    -0.6007510   schab   Art_02_S01  fast t       \n",
              "19     312   -1.420513    -0.6093427   wat     Art_02_S01  fast n       \n",
              "20  106971   -1.308132    -0.6832709   bahn    Art_02_S01  fast t       \n",
              "21     415   -1.560648    -0.2231311   tafeln  Art_02_S01  slow en      \n",
              "22     335   -1.237874    -0.3218378   bahn    Art_02_S01  slow en      \n",
              "23     402   -1.609438    -0.4780197   latsch  Art_02_S01  slow n       \n",
              "24  125942   -1.384318    -0.4620196   zahn    Art_02_S01  slow t       \n",
              "25     364   -1.511255    -0.2744237   faseln  Art_02_S01  slow en      \n",
              "26     447   -1.412266    -0.4729204   bahn    Art_02_S01  fast en      \n",
              "27     483   -1.654282    -0.5108090   latsch  Art_02_S01  fast n       \n",
              "28     471   -1.431659    -0.3371024   faseln  Art_02_S01  fast en      \n",
              "29     501   -1.708082    -0.4155003   tafeln  Art_02_S01  fast n       \n",
              "30  112443   -1.511876    -0.5276158   zahn    Art_02_S01  fast t       \n",
              "⋮   ⋮        ⋮            ⋮            ⋮       ⋮           ⋮    ⋮       \n",
              "803     9829 -1.474180    -0.3702983   bahn    Art_02_S24  slow en      \n",
              "804     9873 -1.706824    -0.4547390   latsch  Art_02_S24  slow n       \n",
              "805     9851 -1.523444    -0.2613518   faseln  Art_02_S24  slow en      \n",
              "806     9891 -1.833551    -0.2323611   tafeln  Art_02_S24  slow en      \n",
              "807  1994949 -1.696799    -0.3856478   zahn    Art_02_S24  slow t       \n",
              "808   929308 -1.661149    -0.5798006   zahn    Art_02_S24  fast t       \n",
              "809     9907 -1.668293    -0.7339483   bahn    Art_02_S24  fast en      \n",
              "810     9960 -1.937669    -0.4307675   tafeln  Art_02_S24  fast en      \n",
              "811     9944 -1.839250    -0.4942799   latsch  Art_02_S24  fast en      \n",
              "812     9926 -1.689927    -0.5621014   faseln  Art_02_S24  fast n       \n",
              "813     9998 -1.585958    -0.5798006   schab   Art_02_S24  slow n       \n",
              "814    10036 -1.464470    -0.3010916   tadeln  Art_02_S24  slow en      \n",
              "815    10080 -1.476286    -0.3010916   zahn    Art_02_S24  slow n       \n",
              "816   708993 -1.529287    -0.2357097   schlaf  Art_02_S24  slow t       \n",
              "817  1034493 -1.468374    -0.2484485   latsch  Art_02_S24  slow t       \n",
              "818     9974 -1.443176    -0.4975442   bad     Art_02_S24  slow n       \n",
              "819 11413108 -1.417017     0.4637403   blas    Art_02_S24  slow t       \n",
              "820    10018 -1.728712    -0.2684193   stapeln Art_02_S24  slow en      \n",
              "821  1229986 -1.502953     0.5187997   zahl    Art_02_S24  slow t       \n",
              "822    10059 -1.574289    -0.3424762   zahl    Art_02_S24  slow en      \n",
              "823  1830647 -1.469676    -0.3010916   mahn    Art_02_S24  slow t       \n",
              "824    10103 -1.442461    -0.6375567   bad     Art_02_S24  fast en      \n",
              "825    10159 -1.809259    -0.6965355   tadeln  Art_02_S24  fast en      \n",
              "826    10175 -1.744214    -0.5621014   zahn    Art_02_S24  fast en      \n",
              "827    10126 -1.694161    -0.6629947   schab   Art_02_S24  fast n       \n",
              "828   585593 -1.617160    -0.6348594   mahn    Art_02_S24  fast t       \n",
              "829    10144 -1.887040    -0.4307675   stapeln Art_02_S24  fast en      \n",
              "830   760494 -1.700037    -0.6348594   blas    Art_02_S24  fast t       \n",
              "831   952496 -1.897120    -0.5447099   latsch  Art_02_S24  fast t       \n",
              "832  1157596 -1.717029    -0.6539072   zahl    Art_02_S24  fast t       \n",
              "    Frequency\n",
              "1   -6.980044\n",
              "2   -5.740760\n",
              "3   -4.676302\n",
              "4   -6.263638\n",
              "5   -6.469370\n",
              "6   -6.149386\n",
              "7   -5.813832\n",
              "8   -5.762719\n",
              "9   -4.996467\n",
              "10  -6.427830\n",
              "11  -6.149386\n",
              "12  -6.263638\n",
              "13  -5.740760\n",
              "14  -5.813832\n",
              "15  -4.996467\n",
              "16  -4.676302\n",
              "17  -6.469370\n",
              "18  -6.980044\n",
              "19  -6.427830\n",
              "20  -5.762719\n",
              "21  -6.969703\n",
              "22  -5.792931\n",
              "23  -6.731805\n",
              "24  -7.537394\n",
              "25  -6.641444\n",
              "26  -5.792931\n",
              "27  -6.731805\n",
              "28  -6.641444\n",
              "29  -6.969703\n",
              "30  -7.537394\n",
              "⋮   ⋮        \n",
              "803 -5.792931\n",
              "804 -6.731805\n",
              "805 -6.641444\n",
              "806 -6.969703\n",
              "807 -7.537394\n",
              "808 -7.537394\n",
              "809 -5.792931\n",
              "810 -6.969703\n",
              "811 -6.731805\n",
              "812 -6.641444\n",
              "813 -6.697725\n",
              "814 -6.202766\n",
              "815 -7.598092\n",
              "816 -6.759243\n",
              "817 -7.143247\n",
              "818 -5.417679\n",
              "819 -7.501182\n",
              "820 -5.920485\n",
              "821 -4.753770\n",
              "822 -4.275480\n",
              "823 -5.549650\n",
              "824 -5.417679\n",
              "825 -6.202766\n",
              "826 -7.598092\n",
              "827 -6.697725\n",
              "828 -5.549650\n",
              "829 -5.920485\n",
              "830 -7.501182\n",
              "831 -7.143247\n",
              "832 -4.753770"
            ]
          },
          "metadata": {}
        }
      ]
    },
    {
      "cell_type": "code",
      "source": [
        "# 1.1 Исследуем набор данных\n",
        "dur_word_freq %>%\n",
        "  distinct(Lemma)"
      ],
      "metadata": {
        "colab": {
          "base_uri": "https://localhost:8080/",
          "height": 649
        },
        "id": "Xb4c6aVkmLR9",
        "outputId": "c6f2ea74-ea8f-4d04-e174-03f5f6a1007b"
      },
      "execution_count": 16,
      "outputs": [
        {
          "output_type": "display_data",
          "data": {
            "text/html": [
              "<table class=\"dataframe\">\n",
              "<caption>A tibble: 17 × 1</caption>\n",
              "<thead>\n",
              "\t<tr><th scope=col>Lemma</th></tr>\n",
              "\t<tr><th scope=col>&lt;chr&gt;</th></tr>\n",
              "</thead>\n",
              "<tbody>\n",
              "\t<tr><td>schab  </td></tr>\n",
              "\t<tr><td>blas   </td></tr>\n",
              "\t<tr><td>schlaf </td></tr>\n",
              "\t<tr><td>lahm   </td></tr>\n",
              "\t<tr><td>fahnd  </td></tr>\n",
              "\t<tr><td>mahn   </td></tr>\n",
              "\t<tr><td>bahn   </td></tr>\n",
              "\t<tr><td>schad  </td></tr>\n",
              "\t<tr><td>wat    </td></tr>\n",
              "\t<tr><td>tafeln </td></tr>\n",
              "\t<tr><td>latsch </td></tr>\n",
              "\t<tr><td>zahn   </td></tr>\n",
              "\t<tr><td>faseln </td></tr>\n",
              "\t<tr><td>tadeln </td></tr>\n",
              "\t<tr><td>bad    </td></tr>\n",
              "\t<tr><td>zahl   </td></tr>\n",
              "\t<tr><td>stapeln</td></tr>\n",
              "</tbody>\n",
              "</table>\n"
            ],
            "text/markdown": "\nA tibble: 17 × 1\n\n| Lemma &lt;chr&gt; |\n|---|\n| schab   |\n| blas    |\n| schlaf  |\n| lahm    |\n| fahnd   |\n| mahn    |\n| bahn    |\n| schad   |\n| wat     |\n| tafeln  |\n| latsch  |\n| zahn    |\n| faseln  |\n| tadeln  |\n| bad     |\n| zahl    |\n| stapeln |\n\n",
            "text/latex": "A tibble: 17 × 1\n\\begin{tabular}{l}\n Lemma\\\\\n <chr>\\\\\n\\hline\n\t schab  \\\\\n\t blas   \\\\\n\t schlaf \\\\\n\t lahm   \\\\\n\t fahnd  \\\\\n\t mahn   \\\\\n\t bahn   \\\\\n\t schad  \\\\\n\t wat    \\\\\n\t tafeln \\\\\n\t latsch \\\\\n\t zahn   \\\\\n\t faseln \\\\\n\t tadeln \\\\\n\t bad    \\\\\n\t zahl   \\\\\n\t stapeln\\\\\n\\end{tabular}\n",
            "text/plain": [
              "   Lemma  \n",
              "1  schab  \n",
              "2  blas   \n",
              "3  schlaf \n",
              "4  lahm   \n",
              "5  fahnd  \n",
              "6  mahn   \n",
              "7  bahn   \n",
              "8  schad  \n",
              "9  wat    \n",
              "10 tafeln \n",
              "11 latsch \n",
              "12 zahn   \n",
              "13 faseln \n",
              "14 tadeln \n",
              "15 bad    \n",
              "16 zahl   \n",
              "17 stapeln"
            ]
          },
          "metadata": {}
        }
      ]
    },
    {
      "cell_type": "code",
      "source": [
        "# 1.2 Пропущенные значения\n",
        "dur_word_freq %>%\n",
        "  map_int(function(x) sum(is.na(x)))"
      ],
      "metadata": {
        "colab": {
          "base_uri": "https://localhost:8080/",
          "height": 52
        },
        "id": "dUDGcedaxTlN",
        "outputId": "6b82cbdb-cfe2-4c72-b9a1-9c7dbfe6c32a"
      },
      "execution_count": 60,
      "outputs": [
        {
          "output_type": "display_data",
          "data": {
            "text/html": [
              "<style>\n",
              ".dl-inline {width: auto; margin:0; padding: 0}\n",
              ".dl-inline>dt, .dl-inline>dd {float: none; width: auto; display: inline-block}\n",
              ".dl-inline>dt::after {content: \":\\0020\"; padding-right: .5ex}\n",
              ".dl-inline>dt:not(:first-of-type) {padding-left: .5ex}\n",
              "</style><dl class=dl-inline><dt>...1</dt><dd>0</dd><dt>LogDurationA</dt><dd>0</dd><dt>LogDurationW</dt><dd>0</dd><dt>Lemma</dt><dd>0</dd><dt>Participant</dt><dd>0</dd><dt>Cond</dt><dd>0</dd><dt>Exponent</dt><dd>0</dd><dt>Frequency</dt><dd>0</dd></dl>\n"
            ],
            "text/markdown": "...1\n:   0LogDurationA\n:   0LogDurationW\n:   0Lemma\n:   0Participant\n:   0Cond\n:   0Exponent\n:   0Frequency\n:   0\n\n",
            "text/latex": "\\begin{description*}\n\\item[...1] 0\n\\item[LogDurationA] 0\n\\item[LogDurationW] 0\n\\item[Lemma] 0\n\\item[Participant] 0\n\\item[Cond] 0\n\\item[Exponent] 0\n\\item[Frequency] 0\n\\end{description*}\n",
            "text/plain": [
              "        ...1 LogDurationA LogDurationW        Lemma  Participant         Cond \n",
              "           0            0            0            0            0            0 \n",
              "    Exponent    Frequency \n",
              "           0            0 "
            ]
          },
          "metadata": {}
        }
      ]
    },
    {
      "cell_type": "code",
      "source": [
        "library(dplyr)"
      ],
      "metadata": {
        "id": "ZQ4e24jSC9vE"
      },
      "execution_count": 23,
      "outputs": []
    },
    {
      "cell_type": "code",
      "source": [
        "# 1.3 Данные как факторы\n",
        "dur_word_freq_fact <- dur_word_freq %>%\n",
        "  mutate(across(where(is.character), as.factor))"
      ],
      "metadata": {
        "id": "e79PDnh2D3cj"
      },
      "execution_count": 31,
      "outputs": []
    },
    {
      "cell_type": "code",
      "source": [
        "str(dur_word_freq_fact)"
      ],
      "metadata": {
        "colab": {
          "base_uri": "https://localhost:8080/"
        },
        "id": "6NePvQMr6c4n",
        "outputId": "f4206046-0982-4f9f-f97c-d1cbbc8dee88"
      },
      "execution_count": 29,
      "outputs": [
        {
          "output_type": "stream",
          "name": "stdout",
          "text": [
            "tibble [832 × 8] (S3: tbl_df/tbl/data.frame)\n",
            " $ ...1        : num [1:832] 11431 1 136 71 11581 ...\n",
            " $ LogDurationA: num [1:832] -1.32 -1.36 -1.5 -1.28 -1.33 ...\n",
            " $ LogDurationW: num [1:832] -0.477 -0.36 -0.27 -0.377 -0.447 ...\n",
            " $ Lemma       : Factor w/ 17 levels \"bad\",\"bahn\",\"blas\",..: 9 3 11 6 6 4 8 2 10 15 ...\n",
            " $ Participant : Factor w/ 17 levels \"Art_02_S01\",\"Art_02_S03\",..: 1 1 1 1 1 1 1 1 1 1 ...\n",
            " $ Cond        : Factor w/ 2 levels \"fast\",\"slow\": 2 2 2 2 2 2 2 2 2 2 ...\n",
            " $ Exponent    : Factor w/ 3 levels \"en\",\"n\",\"t\": 3 2 1 1 3 1 1 3 2 2 ...\n",
            " $ Frequency   : num [1:832] -6.98 -5.74 -4.68 -6.26 -6.47 ...\n"
          ]
        }
      ]
    },
    {
      "cell_type": "code",
      "source": [
        "# 1.4 Кодирование факторов\n",
        "\n",
        "#  Факторы кодируются в алфавитном порядке"
      ],
      "metadata": {
        "id": "Soj09_7Z8kkg"
      },
      "execution_count": null,
      "outputs": []
    },
    {
      "cell_type": "code",
      "source": [
        "# 1.5 Усредненные длительности сегмента и слова\n",
        "\n",
        "dur_word_freq %>%\n",
        "  group_by(Cond) %>%\n",
        "  summarise(meanLogDurA = mean(LogDurationA, na.rm = TRUE),\n",
        "            meanLogDurW = mean(LogDurationW, na.rm = TRUE))"
      ],
      "metadata": {
        "colab": {
          "base_uri": "https://localhost:8080/",
          "height": 161
        },
        "id": "zh2uPFGTESeo",
        "outputId": "14193ea6-f1f7-49c2-dda8-ccde19b00029"
      },
      "execution_count": 32,
      "outputs": [
        {
          "output_type": "display_data",
          "data": {
            "text/html": [
              "<table class=\"dataframe\">\n",
              "<caption>A tibble: 2 × 3</caption>\n",
              "<thead>\n",
              "\t<tr><th scope=col>Cond</th><th scope=col>meanLogDurA</th><th scope=col>meanLogDurW</th></tr>\n",
              "\t<tr><th scope=col>&lt;chr&gt;</th><th scope=col>&lt;dbl&gt;</th><th scope=col>&lt;dbl&gt;</th></tr>\n",
              "</thead>\n",
              "<tbody>\n",
              "\t<tr><td>fast</td><td>-1.738072</td><td>-0.5836253</td></tr>\n",
              "\t<tr><td>slow</td><td>-1.628756</td><td>-0.4483053</td></tr>\n",
              "</tbody>\n",
              "</table>\n"
            ],
            "text/markdown": "\nA tibble: 2 × 3\n\n| Cond &lt;chr&gt; | meanLogDurA &lt;dbl&gt; | meanLogDurW &lt;dbl&gt; |\n|---|---|---|\n| fast | -1.738072 | -0.5836253 |\n| slow | -1.628756 | -0.4483053 |\n\n",
            "text/latex": "A tibble: 2 × 3\n\\begin{tabular}{lll}\n Cond & meanLogDurA & meanLogDurW\\\\\n <chr> & <dbl> & <dbl>\\\\\n\\hline\n\t fast & -1.738072 & -0.5836253\\\\\n\t slow & -1.628756 & -0.4483053\\\\\n\\end{tabular}\n",
            "text/plain": [
              "  Cond meanLogDurA meanLogDurW\n",
              "1 fast -1.738072   -0.5836253 \n",
              "2 slow -1.628756   -0.4483053 "
            ]
          },
          "metadata": {}
        }
      ]
    },
    {
      "cell_type": "code",
      "source": [
        "# 1.6 Больше описательных статистик для длительности сегмента и слова\n",
        "\n",
        "dur_word_freq %>%\n",
        "  group_by(Cond) %>%\n",
        "  summarise(\n",
        "      meanLogDurA = mean(LogDurationA, na.rm = TRUE),\n",
        "      meanLogDurW = mean(LogDurationW, na.rm = TRUE),\n",
        "      minLogDurA = min(LogDurationA, na.rm = TRUE),\n",
        "      minLogDurW = min(LogDurationW, na.rm = TRUE),\n",
        "      maxLogDurA = max(LogDurationA, na.rm = TRUE),\n",
        "      maxLogDurW = max(LogDurationW, na.rm = TRUE),\n",
        "      medianLogDurA = median(LogDurationA, na.rm = TRUE),\n",
        "      medianLogDurW = median(LogDurationW, na.rm = TRUE)\n",
        "  )"
      ],
      "metadata": {
        "colab": {
          "base_uri": "https://localhost:8080/",
          "height": 161
        },
        "id": "IplydPZpHGXi",
        "outputId": "7f38aaea-a144-43ab-9667-6a1532c6b0b9"
      },
      "execution_count": 33,
      "outputs": [
        {
          "output_type": "display_data",
          "data": {
            "text/html": [
              "<table class=\"dataframe\">\n",
              "<caption>A tibble: 2 × 9</caption>\n",
              "<thead>\n",
              "\t<tr><th scope=col>Cond</th><th scope=col>meanLogDurA</th><th scope=col>meanLogDurW</th><th scope=col>minLogDurA</th><th scope=col>minLogDurW</th><th scope=col>maxLogDurA</th><th scope=col>maxLogDurW</th><th scope=col>medianLogDurA</th><th scope=col>medianLogDurW</th></tr>\n",
              "\t<tr><th scope=col>&lt;chr&gt;</th><th scope=col>&lt;dbl&gt;</th><th scope=col>&lt;dbl&gt;</th><th scope=col>&lt;dbl&gt;</th><th scope=col>&lt;dbl&gt;</th><th scope=col>&lt;dbl&gt;</th><th scope=col>&lt;dbl&gt;</th><th scope=col>&lt;dbl&gt;</th><th scope=col>&lt;dbl&gt;</th></tr>\n",
              "</thead>\n",
              "<tbody>\n",
              "\t<tr><td>fast</td><td>-1.738072</td><td>-0.5836253</td><td>-2.571097</td><td>-1.171151</td><td>-1.231057</td><td>-0.02140221</td><td>-1.720362</td><td>-0.5978188</td></tr>\n",
              "\t<tr><td>slow</td><td>-1.628756</td><td>-0.4483053</td><td>-3.506558</td><td>-1.237840</td><td>-1.096722</td><td> 0.57865252</td><td>-1.638736</td><td>-0.4462715</td></tr>\n",
              "</tbody>\n",
              "</table>\n"
            ],
            "text/markdown": "\nA tibble: 2 × 9\n\n| Cond &lt;chr&gt; | meanLogDurA &lt;dbl&gt; | meanLogDurW &lt;dbl&gt; | minLogDurA &lt;dbl&gt; | minLogDurW &lt;dbl&gt; | maxLogDurA &lt;dbl&gt; | maxLogDurW &lt;dbl&gt; | medianLogDurA &lt;dbl&gt; | medianLogDurW &lt;dbl&gt; |\n|---|---|---|---|---|---|---|---|---|\n| fast | -1.738072 | -0.5836253 | -2.571097 | -1.171151 | -1.231057 | -0.02140221 | -1.720362 | -0.5978188 |\n| slow | -1.628756 | -0.4483053 | -3.506558 | -1.237840 | -1.096722 |  0.57865252 | -1.638736 | -0.4462715 |\n\n",
            "text/latex": "A tibble: 2 × 9\n\\begin{tabular}{lllllllll}\n Cond & meanLogDurA & meanLogDurW & minLogDurA & minLogDurW & maxLogDurA & maxLogDurW & medianLogDurA & medianLogDurW\\\\\n <chr> & <dbl> & <dbl> & <dbl> & <dbl> & <dbl> & <dbl> & <dbl> & <dbl>\\\\\n\\hline\n\t fast & -1.738072 & -0.5836253 & -2.571097 & -1.171151 & -1.231057 & -0.02140221 & -1.720362 & -0.5978188\\\\\n\t slow & -1.628756 & -0.4483053 & -3.506558 & -1.237840 & -1.096722 &  0.57865252 & -1.638736 & -0.4462715\\\\\n\\end{tabular}\n",
            "text/plain": [
              "  Cond meanLogDurA meanLogDurW minLogDurA minLogDurW maxLogDurA maxLogDurW \n",
              "1 fast -1.738072   -0.5836253  -2.571097  -1.171151  -1.231057  -0.02140221\n",
              "2 slow -1.628756   -0.4483053  -3.506558  -1.237840  -1.096722   0.57865252\n",
              "  medianLogDurA medianLogDurW\n",
              "1 -1.720362     -0.5978188   \n",
              "2 -1.638736     -0.4462715   "
            ]
          },
          "metadata": {}
        }
      ]
    },
    {
      "cell_type": "code",
      "source": [
        "# 1.7 Длинный и короткий формат\n",
        "\n",
        "dur_word_freq %>%\n",
        "  filter(Cond == 'slow' & Exponent == 't') %>%\n",
        "  select(Participant, Lemma, LogDurationW) %>%\n",
        "  pivot_wider(names_from = Lemma, values_from = LogDurationW)"
      ],
      "metadata": {
        "colab": {
          "base_uri": "https://localhost:8080/",
          "height": 631
        },
        "id": "4CAESQ1XHziR",
        "outputId": "1e88560d-4950-4548-8f78-a2f2e29f57be"
      },
      "execution_count": 38,
      "outputs": [
        {
          "output_type": "display_data",
          "data": {
            "text/html": [
              "<table class=\"dataframe\">\n",
              "<caption>A tibble: 17 × 10</caption>\n",
              "<thead>\n",
              "\t<tr><th scope=col>Participant</th><th scope=col>schab</th><th scope=col>lahm</th><th scope=col>bahn</th><th scope=col>zahn</th><th scope=col>latsch</th><th scope=col>zahl</th><th scope=col>blas</th><th scope=col>mahn</th><th scope=col>schlaf</th></tr>\n",
              "\t<tr><th scope=col>&lt;chr&gt;</th><th scope=col>&lt;dbl&gt;</th><th scope=col>&lt;dbl&gt;</th><th scope=col>&lt;dbl&gt;</th><th scope=col>&lt;dbl&gt;</th><th scope=col>&lt;dbl&gt;</th><th scope=col>&lt;dbl&gt;</th><th scope=col>&lt;dbl&gt;</th><th scope=col>&lt;dbl&gt;</th><th scope=col>&lt;dbl&gt;</th></tr>\n",
              "</thead>\n",
              "<tbody>\n",
              "\t<tr><td>Art_02_S01</td><td>-0.4768593</td><td>-0.4471271</td><td>-0.4085488</td><td>-0.4620196</td><td>-0.2231311</td><td>-0.5108090</td><td>-0.4155003</td><td>-0.5798006</td><td>-0.4307675</td></tr>\n",
              "\t<tr><td>Art_02_S03</td><td>-0.4780197</td><td>-0.5621014</td><td>-0.5621014</td><td>-0.6161676</td><td>-0.6931272</td><td>-0.5276158</td><td>-0.5276158</td><td>-0.6161676</td><td>-1.2378399</td></tr>\n",
              "\t<tr><td>Art_02_S04</td><td>-0.5798006</td><td>-0.7550013</td><td>-0.7133295</td><td>-0.5798006</td><td>-0.6161676</td><td>-0.5978188</td><td>-0.5447099</td><td>-0.7133295</td><td>-0.5447099</td></tr>\n",
              "\t<tr><td>Art_02_S05</td><td>-0.6539072</td><td>-0.7126705</td><td>-0.4780197</td><td>-0.6348594</td><td>-0.2662896</td><td>-0.4307675</td><td>-0.6539072</td><td>-0.7339483</td><td>-0.7339483</td></tr>\n",
              "\t<tr><td>Art_02_S08</td><td>-0.4620196</td><td>-0.6733249</td><td>-0.6161676</td><td>-0.3010916</td><td>-0.4942799</td><td>-0.4155003</td><td>-0.3566607</td><td>-0.5978188</td><td>-0.2484485</td></tr>\n",
              "\t<tr><td>Art_02_S09</td><td>-0.5447099</td><td>-0.8915737</td><td>-0.4004626</td><td>-0.4462715</td><td>-0.6348594</td><td>-0.7765071</td><td>-0.4462715</td><td>-0.9415829</td><td>-0.3146970</td></tr>\n",
              "\t<tr><td>Art_02_S10</td><td>-0.5276158</td><td>-0.6931272</td><td>-0.5621014</td><td>-0.6931272</td><td>-0.6161676</td><td>-0.6161676</td><td>-0.5108090</td><td>-0.5276158</td><td>-0.5108090</td></tr>\n",
              "\t<tr><td>Art_02_S12</td><td>-0.7550013</td><td>-0.5108090</td><td>-0.5108090</td><td>-0.3566607</td><td>-0.5276158</td><td>-0.5798006</td><td>-0.6348594</td><td>-0.5798006</td><td>-0.2231311</td></tr>\n",
              "\t<tr><td>Art_02_S15</td><td>-0.4004626</td><td>-0.5447099</td><td>-0.5447099</td><td>-0.4462715</td><td>-0.5447099</td><td>-0.6733249</td><td>-0.4462715</td><td>-0.7133295</td><td>-0.4620196</td></tr>\n",
              "\t<tr><td>Art_02_S16</td><td>-0.5798006</td><td>-0.6161676</td><td>-0.5276158</td><td>-0.4942799</td><td>-0.2107087</td><td>-0.3566607</td><td>-0.5108090</td><td>-0.5108090</td><td>-0.3856478</td></tr>\n",
              "\t<tr><td>Art_02_S17</td><td>-0.5978188</td><td>-0.7382372</td><td>-0.6539072</td><td>-0.6539072</td><td>-0.3710492</td><td>-0.6161676</td><td>-0.6027634</td><td>-0.7339483</td><td>-0.5276158</td></tr>\n",
              "\t<tr><td>Art_02_S18</td><td>-0.3010916</td><td>-0.1625072</td><td>-0.3856478</td><td>-0.2107087</td><td>-0.4620196</td><td>-0.2613518</td><td>-0.1984387</td><td>-0.4307675</td><td>-0.2613518</td></tr>\n",
              "\t<tr><td>Art_02_S20</td><td>-0.5276158</td><td>-0.6539072</td><td>-0.4942799</td><td>-0.4004626</td><td>-0.1625072</td><td>-0.4307675</td><td>-0.7550013</td><td>-0.6733249</td><td>-0.4155003</td></tr>\n",
              "\t<tr><td>Art_02_S21</td><td>-0.7133295</td><td>-0.8915737</td><td>-0.5276158</td><td>-0.5276158</td><td>-0.6348594</td><td>-0.5621014</td><td>-0.4620196</td><td>-0.6733249</td><td>        NA</td></tr>\n",
              "\t<tr><td>Art_02_S22</td><td>-0.5108090</td><td>-0.4307675</td><td>-0.5276158</td><td>-0.4620196</td><td>-0.2357097</td><td>        NA</td><td>-0.4620196</td><td>-0.3566607</td><td>-0.4004626</td></tr>\n",
              "\t<tr><td>Art_02_S23</td><td>-0.5978188</td><td>-0.6539072</td><td>-0.6733249</td><td>-0.5108090</td><td>        NA</td><td>-0.5447099</td><td>-0.4155003</td><td>-0.7550013</td><td>        NA</td></tr>\n",
              "\t<tr><td>Art_02_S24</td><td>-0.1053494</td><td>-0.6348594</td><td>-0.4620196</td><td>-0.3856478</td><td>-0.2484485</td><td> 0.5187997</td><td> 0.4637403</td><td>-0.3010916</td><td>-0.2357097</td></tr>\n",
              "</tbody>\n",
              "</table>\n"
            ],
            "text/markdown": "\nA tibble: 17 × 10\n\n| Participant &lt;chr&gt; | schab &lt;dbl&gt; | lahm &lt;dbl&gt; | bahn &lt;dbl&gt; | zahn &lt;dbl&gt; | latsch &lt;dbl&gt; | zahl &lt;dbl&gt; | blas &lt;dbl&gt; | mahn &lt;dbl&gt; | schlaf &lt;dbl&gt; |\n|---|---|---|---|---|---|---|---|---|---|\n| Art_02_S01 | -0.4768593 | -0.4471271 | -0.4085488 | -0.4620196 | -0.2231311 | -0.5108090 | -0.4155003 | -0.5798006 | -0.4307675 |\n| Art_02_S03 | -0.4780197 | -0.5621014 | -0.5621014 | -0.6161676 | -0.6931272 | -0.5276158 | -0.5276158 | -0.6161676 | -1.2378399 |\n| Art_02_S04 | -0.5798006 | -0.7550013 | -0.7133295 | -0.5798006 | -0.6161676 | -0.5978188 | -0.5447099 | -0.7133295 | -0.5447099 |\n| Art_02_S05 | -0.6539072 | -0.7126705 | -0.4780197 | -0.6348594 | -0.2662896 | -0.4307675 | -0.6539072 | -0.7339483 | -0.7339483 |\n| Art_02_S08 | -0.4620196 | -0.6733249 | -0.6161676 | -0.3010916 | -0.4942799 | -0.4155003 | -0.3566607 | -0.5978188 | -0.2484485 |\n| Art_02_S09 | -0.5447099 | -0.8915737 | -0.4004626 | -0.4462715 | -0.6348594 | -0.7765071 | -0.4462715 | -0.9415829 | -0.3146970 |\n| Art_02_S10 | -0.5276158 | -0.6931272 | -0.5621014 | -0.6931272 | -0.6161676 | -0.6161676 | -0.5108090 | -0.5276158 | -0.5108090 |\n| Art_02_S12 | -0.7550013 | -0.5108090 | -0.5108090 | -0.3566607 | -0.5276158 | -0.5798006 | -0.6348594 | -0.5798006 | -0.2231311 |\n| Art_02_S15 | -0.4004626 | -0.5447099 | -0.5447099 | -0.4462715 | -0.5447099 | -0.6733249 | -0.4462715 | -0.7133295 | -0.4620196 |\n| Art_02_S16 | -0.5798006 | -0.6161676 | -0.5276158 | -0.4942799 | -0.2107087 | -0.3566607 | -0.5108090 | -0.5108090 | -0.3856478 |\n| Art_02_S17 | -0.5978188 | -0.7382372 | -0.6539072 | -0.6539072 | -0.3710492 | -0.6161676 | -0.6027634 | -0.7339483 | -0.5276158 |\n| Art_02_S18 | -0.3010916 | -0.1625072 | -0.3856478 | -0.2107087 | -0.4620196 | -0.2613518 | -0.1984387 | -0.4307675 | -0.2613518 |\n| Art_02_S20 | -0.5276158 | -0.6539072 | -0.4942799 | -0.4004626 | -0.1625072 | -0.4307675 | -0.7550013 | -0.6733249 | -0.4155003 |\n| Art_02_S21 | -0.7133295 | -0.8915737 | -0.5276158 | -0.5276158 | -0.6348594 | -0.5621014 | -0.4620196 | -0.6733249 |         NA |\n| Art_02_S22 | -0.5108090 | -0.4307675 | -0.5276158 | -0.4620196 | -0.2357097 |         NA | -0.4620196 | -0.3566607 | -0.4004626 |\n| Art_02_S23 | -0.5978188 | -0.6539072 | -0.6733249 | -0.5108090 |         NA | -0.5447099 | -0.4155003 | -0.7550013 |         NA |\n| Art_02_S24 | -0.1053494 | -0.6348594 | -0.4620196 | -0.3856478 | -0.2484485 |  0.5187997 |  0.4637403 | -0.3010916 | -0.2357097 |\n\n",
            "text/latex": "A tibble: 17 × 10\n\\begin{tabular}{llllllllll}\n Participant & schab & lahm & bahn & zahn & latsch & zahl & blas & mahn & schlaf\\\\\n <chr> & <dbl> & <dbl> & <dbl> & <dbl> & <dbl> & <dbl> & <dbl> & <dbl> & <dbl>\\\\\n\\hline\n\t Art\\_02\\_S01 & -0.4768593 & -0.4471271 & -0.4085488 & -0.4620196 & -0.2231311 & -0.5108090 & -0.4155003 & -0.5798006 & -0.4307675\\\\\n\t Art\\_02\\_S03 & -0.4780197 & -0.5621014 & -0.5621014 & -0.6161676 & -0.6931272 & -0.5276158 & -0.5276158 & -0.6161676 & -1.2378399\\\\\n\t Art\\_02\\_S04 & -0.5798006 & -0.7550013 & -0.7133295 & -0.5798006 & -0.6161676 & -0.5978188 & -0.5447099 & -0.7133295 & -0.5447099\\\\\n\t Art\\_02\\_S05 & -0.6539072 & -0.7126705 & -0.4780197 & -0.6348594 & -0.2662896 & -0.4307675 & -0.6539072 & -0.7339483 & -0.7339483\\\\\n\t Art\\_02\\_S08 & -0.4620196 & -0.6733249 & -0.6161676 & -0.3010916 & -0.4942799 & -0.4155003 & -0.3566607 & -0.5978188 & -0.2484485\\\\\n\t Art\\_02\\_S09 & -0.5447099 & -0.8915737 & -0.4004626 & -0.4462715 & -0.6348594 & -0.7765071 & -0.4462715 & -0.9415829 & -0.3146970\\\\\n\t Art\\_02\\_S10 & -0.5276158 & -0.6931272 & -0.5621014 & -0.6931272 & -0.6161676 & -0.6161676 & -0.5108090 & -0.5276158 & -0.5108090\\\\\n\t Art\\_02\\_S12 & -0.7550013 & -0.5108090 & -0.5108090 & -0.3566607 & -0.5276158 & -0.5798006 & -0.6348594 & -0.5798006 & -0.2231311\\\\\n\t Art\\_02\\_S15 & -0.4004626 & -0.5447099 & -0.5447099 & -0.4462715 & -0.5447099 & -0.6733249 & -0.4462715 & -0.7133295 & -0.4620196\\\\\n\t Art\\_02\\_S16 & -0.5798006 & -0.6161676 & -0.5276158 & -0.4942799 & -0.2107087 & -0.3566607 & -0.5108090 & -0.5108090 & -0.3856478\\\\\n\t Art\\_02\\_S17 & -0.5978188 & -0.7382372 & -0.6539072 & -0.6539072 & -0.3710492 & -0.6161676 & -0.6027634 & -0.7339483 & -0.5276158\\\\\n\t Art\\_02\\_S18 & -0.3010916 & -0.1625072 & -0.3856478 & -0.2107087 & -0.4620196 & -0.2613518 & -0.1984387 & -0.4307675 & -0.2613518\\\\\n\t Art\\_02\\_S20 & -0.5276158 & -0.6539072 & -0.4942799 & -0.4004626 & -0.1625072 & -0.4307675 & -0.7550013 & -0.6733249 & -0.4155003\\\\\n\t Art\\_02\\_S21 & -0.7133295 & -0.8915737 & -0.5276158 & -0.5276158 & -0.6348594 & -0.5621014 & -0.4620196 & -0.6733249 &         NA\\\\\n\t Art\\_02\\_S22 & -0.5108090 & -0.4307675 & -0.5276158 & -0.4620196 & -0.2357097 &         NA & -0.4620196 & -0.3566607 & -0.4004626\\\\\n\t Art\\_02\\_S23 & -0.5978188 & -0.6539072 & -0.6733249 & -0.5108090 &         NA & -0.5447099 & -0.4155003 & -0.7550013 &         NA\\\\\n\t Art\\_02\\_S24 & -0.1053494 & -0.6348594 & -0.4620196 & -0.3856478 & -0.2484485 &  0.5187997 &  0.4637403 & -0.3010916 & -0.2357097\\\\\n\\end{tabular}\n",
            "text/plain": [
              "   Participant schab      lahm       bahn       zahn       latsch    \n",
              "1  Art_02_S01  -0.4768593 -0.4471271 -0.4085488 -0.4620196 -0.2231311\n",
              "2  Art_02_S03  -0.4780197 -0.5621014 -0.5621014 -0.6161676 -0.6931272\n",
              "3  Art_02_S04  -0.5798006 -0.7550013 -0.7133295 -0.5798006 -0.6161676\n",
              "4  Art_02_S05  -0.6539072 -0.7126705 -0.4780197 -0.6348594 -0.2662896\n",
              "5  Art_02_S08  -0.4620196 -0.6733249 -0.6161676 -0.3010916 -0.4942799\n",
              "6  Art_02_S09  -0.5447099 -0.8915737 -0.4004626 -0.4462715 -0.6348594\n",
              "7  Art_02_S10  -0.5276158 -0.6931272 -0.5621014 -0.6931272 -0.6161676\n",
              "8  Art_02_S12  -0.7550013 -0.5108090 -0.5108090 -0.3566607 -0.5276158\n",
              "9  Art_02_S15  -0.4004626 -0.5447099 -0.5447099 -0.4462715 -0.5447099\n",
              "10 Art_02_S16  -0.5798006 -0.6161676 -0.5276158 -0.4942799 -0.2107087\n",
              "11 Art_02_S17  -0.5978188 -0.7382372 -0.6539072 -0.6539072 -0.3710492\n",
              "12 Art_02_S18  -0.3010916 -0.1625072 -0.3856478 -0.2107087 -0.4620196\n",
              "13 Art_02_S20  -0.5276158 -0.6539072 -0.4942799 -0.4004626 -0.1625072\n",
              "14 Art_02_S21  -0.7133295 -0.8915737 -0.5276158 -0.5276158 -0.6348594\n",
              "15 Art_02_S22  -0.5108090 -0.4307675 -0.5276158 -0.4620196 -0.2357097\n",
              "16 Art_02_S23  -0.5978188 -0.6539072 -0.6733249 -0.5108090         NA\n",
              "17 Art_02_S24  -0.1053494 -0.6348594 -0.4620196 -0.3856478 -0.2484485\n",
              "   zahl       blas       mahn       schlaf    \n",
              "1  -0.5108090 -0.4155003 -0.5798006 -0.4307675\n",
              "2  -0.5276158 -0.5276158 -0.6161676 -1.2378399\n",
              "3  -0.5978188 -0.5447099 -0.7133295 -0.5447099\n",
              "4  -0.4307675 -0.6539072 -0.7339483 -0.7339483\n",
              "5  -0.4155003 -0.3566607 -0.5978188 -0.2484485\n",
              "6  -0.7765071 -0.4462715 -0.9415829 -0.3146970\n",
              "7  -0.6161676 -0.5108090 -0.5276158 -0.5108090\n",
              "8  -0.5798006 -0.6348594 -0.5798006 -0.2231311\n",
              "9  -0.6733249 -0.4462715 -0.7133295 -0.4620196\n",
              "10 -0.3566607 -0.5108090 -0.5108090 -0.3856478\n",
              "11 -0.6161676 -0.6027634 -0.7339483 -0.5276158\n",
              "12 -0.2613518 -0.1984387 -0.4307675 -0.2613518\n",
              "13 -0.4307675 -0.7550013 -0.6733249 -0.4155003\n",
              "14 -0.5621014 -0.4620196 -0.6733249         NA\n",
              "15         NA -0.4620196 -0.3566607 -0.4004626\n",
              "16 -0.5447099 -0.4155003 -0.7550013         NA\n",
              "17  0.5187997  0.4637403 -0.3010916 -0.2357097"
            ]
          },
          "metadata": {}
        }
      ]
    },
    {
      "cell_type": "code",
      "source": [
        "# 1.8 Найдите глагол, для которого в заданных экспериментальных условиях нет данных минимум по двум испытуемым.\n",
        "\n",
        "# В заданных экспериментальных условиях нет данных по двум испытуемым для слова schlaf"
      ],
      "metadata": {
        "id": "OPA3jfAjMVZT"
      },
      "execution_count": null,
      "outputs": []
    },
    {
      "cell_type": "code",
      "source": [
        "# 1.9 Код для предыдущего задания\n",
        "# Считаем количество участников для каждого слова и сравниваем с максимальным количеством участников\n",
        "part_counts <- dur_word_freq %>%\n",
        "  filter(Cond == 'slow' & Exponent == 't') %>%\n",
        "    group_by(Lemma) %>% count()\n",
        "\n",
        "part_counts"
      ],
      "metadata": {
        "colab": {
          "base_uri": "https://localhost:8080/",
          "height": 398
        },
        "id": "7ScoIIuqZquF",
        "outputId": "f577c6c6-b34c-4b08-d347-eb44425a879e"
      },
      "execution_count": 79,
      "outputs": [
        {
          "output_type": "display_data",
          "data": {
            "text/html": [
              "<table class=\"dataframe\">\n",
              "<caption>A grouped_df: 9 × 2</caption>\n",
              "<thead>\n",
              "\t<tr><th scope=col>Lemma</th><th scope=col>n</th></tr>\n",
              "\t<tr><th scope=col>&lt;chr&gt;</th><th scope=col>&lt;int&gt;</th></tr>\n",
              "</thead>\n",
              "<tbody>\n",
              "\t<tr><td>bahn  </td><td>17</td></tr>\n",
              "\t<tr><td>blas  </td><td>17</td></tr>\n",
              "\t<tr><td>lahm  </td><td>17</td></tr>\n",
              "\t<tr><td>latsch</td><td>16</td></tr>\n",
              "\t<tr><td>mahn  </td><td>17</td></tr>\n",
              "\t<tr><td>schab </td><td>17</td></tr>\n",
              "\t<tr><td>schlaf</td><td>15</td></tr>\n",
              "\t<tr><td>zahl  </td><td>16</td></tr>\n",
              "\t<tr><td>zahn  </td><td>17</td></tr>\n",
              "</tbody>\n",
              "</table>\n"
            ],
            "text/markdown": "\nA grouped_df: 9 × 2\n\n| Lemma &lt;chr&gt; | n &lt;int&gt; |\n|---|---|\n| bahn   | 17 |\n| blas   | 17 |\n| lahm   | 17 |\n| latsch | 16 |\n| mahn   | 17 |\n| schab  | 17 |\n| schlaf | 15 |\n| zahl   | 16 |\n| zahn   | 17 |\n\n",
            "text/latex": "A grouped\\_df: 9 × 2\n\\begin{tabular}{ll}\n Lemma & n\\\\\n <chr> & <int>\\\\\n\\hline\n\t bahn   & 17\\\\\n\t blas   & 17\\\\\n\t lahm   & 17\\\\\n\t latsch & 16\\\\\n\t mahn   & 17\\\\\n\t schab  & 17\\\\\n\t schlaf & 15\\\\\n\t zahl   & 16\\\\\n\t zahn   & 17\\\\\n\\end{tabular}\n",
            "text/plain": [
              "  Lemma  n \n",
              "1 bahn   17\n",
              "2 blas   17\n",
              "3 lahm   17\n",
              "4 latsch 16\n",
              "5 mahn   17\n",
              "6 schab  17\n",
              "7 schlaf 15\n",
              "8 zahl   16\n",
              "9 zahn   17"
            ]
          },
          "metadata": {}
        }
      ]
    },
    {
      "cell_type": "code",
      "source": [
        "part_counts$max_n <- max(part_counts$n, na.rm = TRUE)\n",
        "part_counts"
      ],
      "metadata": {
        "colab": {
          "base_uri": "https://localhost:8080/",
          "height": 380
        },
        "id": "ccyc_flKbX3S",
        "outputId": "dbd16195-8770-41d6-8b4a-27c8a1dcdba5"
      },
      "execution_count": 96,
      "outputs": [
        {
          "output_type": "display_data",
          "data": {
            "text/html": [
              "<table class=\"dataframe\">\n",
              "<caption>A grouped_df: 9 × 3</caption>\n",
              "<thead>\n",
              "\t<tr><th scope=col>Lemma</th><th scope=col>n</th><th scope=col>max_n</th></tr>\n",
              "\t<tr><th scope=col>&lt;chr&gt;</th><th scope=col>&lt;int&gt;</th><th scope=col>&lt;int&gt;</th></tr>\n",
              "</thead>\n",
              "<tbody>\n",
              "\t<tr><td>bahn  </td><td>17</td><td>17</td></tr>\n",
              "\t<tr><td>blas  </td><td>17</td><td>17</td></tr>\n",
              "\t<tr><td>lahm  </td><td>17</td><td>17</td></tr>\n",
              "\t<tr><td>latsch</td><td>16</td><td>17</td></tr>\n",
              "\t<tr><td>mahn  </td><td>17</td><td>17</td></tr>\n",
              "\t<tr><td>schab </td><td>17</td><td>17</td></tr>\n",
              "\t<tr><td>schlaf</td><td>15</td><td>17</td></tr>\n",
              "\t<tr><td>zahl  </td><td>16</td><td>17</td></tr>\n",
              "\t<tr><td>zahn  </td><td>17</td><td>17</td></tr>\n",
              "</tbody>\n",
              "</table>\n"
            ],
            "text/markdown": "\nA grouped_df: 9 × 3\n\n| Lemma &lt;chr&gt; | n &lt;int&gt; | max_n &lt;int&gt; |\n|---|---|---|\n| bahn   | 17 | 17 |\n| blas   | 17 | 17 |\n| lahm   | 17 | 17 |\n| latsch | 16 | 17 |\n| mahn   | 17 | 17 |\n| schab  | 17 | 17 |\n| schlaf | 15 | 17 |\n| zahl   | 16 | 17 |\n| zahn   | 17 | 17 |\n\n",
            "text/latex": "A grouped\\_df: 9 × 3\n\\begin{tabular}{lll}\n Lemma & n & max\\_n\\\\\n <chr> & <int> & <int>\\\\\n\\hline\n\t bahn   & 17 & 17\\\\\n\t blas   & 17 & 17\\\\\n\t lahm   & 17 & 17\\\\\n\t latsch & 16 & 17\\\\\n\t mahn   & 17 & 17\\\\\n\t schab  & 17 & 17\\\\\n\t schlaf & 15 & 17\\\\\n\t zahl   & 16 & 17\\\\\n\t zahn   & 17 & 17\\\\\n\\end{tabular}\n",
            "text/plain": [
              "  Lemma  n  max_n\n",
              "1 bahn   17 17   \n",
              "2 blas   17 17   \n",
              "3 lahm   17 17   \n",
              "4 latsch 16 17   \n",
              "5 mahn   17 17   \n",
              "6 schab  17 17   \n",
              "7 schlaf 15 17   \n",
              "8 zahl   16 17   \n",
              "9 zahn   17 17   "
            ]
          },
          "metadata": {}
        }
      ]
    },
    {
      "cell_type": "code",
      "source": [
        "part_counts %>%\n",
        "  filter(max_n - n >= 2)"
      ],
      "metadata": {
        "colab": {
          "base_uri": "https://localhost:8080/",
          "height": 129
        },
        "id": "eaMwCergcXho",
        "outputId": "2833c23a-dfea-498b-fde0-80a1cfb0a37d"
      },
      "execution_count": 97,
      "outputs": [
        {
          "output_type": "display_data",
          "data": {
            "text/html": [
              "<table class=\"dataframe\">\n",
              "<caption>A grouped_df: 1 × 3</caption>\n",
              "<thead>\n",
              "\t<tr><th scope=col>Lemma</th><th scope=col>n</th><th scope=col>max_n</th></tr>\n",
              "\t<tr><th scope=col>&lt;chr&gt;</th><th scope=col>&lt;int&gt;</th><th scope=col>&lt;int&gt;</th></tr>\n",
              "</thead>\n",
              "<tbody>\n",
              "\t<tr><td>schlaf</td><td>15</td><td>17</td></tr>\n",
              "</tbody>\n",
              "</table>\n"
            ],
            "text/markdown": "\nA grouped_df: 1 × 3\n\n| Lemma &lt;chr&gt; | n &lt;int&gt; | max_n &lt;int&gt; |\n|---|---|---|\n| schlaf | 15 | 17 |\n\n",
            "text/latex": "A grouped\\_df: 1 × 3\n\\begin{tabular}{lll}\n Lemma & n & max\\_n\\\\\n <chr> & <int> & <int>\\\\\n\\hline\n\t schlaf & 15 & 17\\\\\n\\end{tabular}\n",
            "text/plain": [
              "  Lemma  n  max_n\n",
              "1 schlaf 15 17   "
            ]
          },
          "metadata": {}
        }
      ]
    },
    {
      "cell_type": "code",
      "source": [
        "# 1.10 Сколько примерно времени вы потратили на выполнение первой части домашнего задания?\n",
        "# (Округлите до получаса, считая чистое время без отвлечения на другие дела).\n",
        "\n",
        "# Ответ: примерно 2 часа"
      ],
      "metadata": {
        "id": "ddy5Mviddu2s"
      },
      "execution_count": null,
      "outputs": []
    },
    {
      "cell_type": "markdown",
      "source": [
        "# Часть 2"
      ],
      "metadata": {
        "id": "57TCViJzeyaJ"
      }
    },
    {
      "cell_type": "code",
      "source": [
        "topics <- read_tsv(\"https://raw.githubusercontent.com/olesar/2025dav4compling/refs/heads/main/data/students2025_topics.tsv\")"
      ],
      "metadata": {
        "colab": {
          "base_uri": "https://localhost:8080/"
        },
        "id": "-Chp-NZkeq2d",
        "outputId": "d1a0f2ab-e0f2-47af-fdfe-5d5d9406e07f"
      },
      "execution_count": 98,
      "outputs": [
        {
          "output_type": "stream",
          "name": "stderr",
          "text": [
            "\u001b[1mRows: \u001b[22m\u001b[34m21\u001b[39m \u001b[1mColumns: \u001b[22m\u001b[34m2\u001b[39m\n",
            "\u001b[36m──\u001b[39m \u001b[1mColumn specification\u001b[22m \u001b[36m────────────────────────────────────────────────────────\u001b[39m\n",
            "\u001b[1mDelimiter:\u001b[22m \"\\t\"\n",
            "\u001b[31mchr\u001b[39m (1): Topics\n",
            "\u001b[32mdbl\u001b[39m (1): ID\n",
            "\n",
            "\u001b[36mℹ\u001b[39m Use `spec()` to retrieve the full column specification for this data.\n",
            "\u001b[36mℹ\u001b[39m Specify the column types or set `show_col_types = FALSE` to quiet this message.\n"
          ]
        }
      ]
    },
    {
      "cell_type": "code",
      "source": [
        "# 2.1\n",
        "topics %>%\n",
        "  separate_rows(Topics, sep = \", \") %>%\n",
        "  mutate(value = TRUE) %>%\n",
        "  pivot_wider(names_from = \"Topics\",\n",
        "              values_from = \"value\", values_fill = FALSE)"
      ],
      "metadata": {
        "colab": {
          "base_uri": "https://localhost:8080/",
          "height": 829
        },
        "id": "_cyzToGvfVom",
        "outputId": "702a77f7-3fac-4a59-ee3a-829c7ab33288"
      },
      "execution_count": 102,
      "outputs": [
        {
          "output_type": "display_data",
          "data": {
            "text/html": [
              "<table class=\"dataframe\">\n",
              "<caption>A tibble: 21 × 12</caption>\n",
              "<thead>\n",
              "\t<tr><th scope=col>ID</th><th scope=col>фонетика и интонация</th><th scope=col>история языка</th><th scope=col>компаративистика</th><th scope=col>филогенетика</th><th scope=col>экспериментальная лингвистика</th><th scope=col>анализ данных в гуманитарных науках</th><th scope=col>грамматика и семантика</th><th scope=col>социолингвистика</th><th scope=col>NA</th><th scope=col>корпусная лингвистика</th><th scope=col>лингвогеография</th></tr>\n",
              "\t<tr><th scope=col>&lt;dbl&gt;</th><th scope=col>&lt;lgl&gt;</th><th scope=col>&lt;lgl&gt;</th><th scope=col>&lt;lgl&gt;</th><th scope=col>&lt;lgl&gt;</th><th scope=col>&lt;lgl&gt;</th><th scope=col>&lt;lgl&gt;</th><th scope=col>&lt;lgl&gt;</th><th scope=col>&lt;lgl&gt;</th><th scope=col>&lt;lgl&gt;</th><th scope=col>&lt;lgl&gt;</th><th scope=col>&lt;lgl&gt;</th></tr>\n",
              "</thead>\n",
              "<tbody>\n",
              "\t<tr><td> 1</td><td> TRUE</td><td> TRUE</td><td> TRUE</td><td> TRUE</td><td> TRUE</td><td> TRUE</td><td>FALSE</td><td>FALSE</td><td>FALSE</td><td>FALSE</td><td>FALSE</td></tr>\n",
              "\t<tr><td> 2</td><td>FALSE</td><td>FALSE</td><td>FALSE</td><td>FALSE</td><td>FALSE</td><td>FALSE</td><td> TRUE</td><td> TRUE</td><td>FALSE</td><td>FALSE</td><td>FALSE</td></tr>\n",
              "\t<tr><td> 3</td><td>FALSE</td><td> TRUE</td><td> TRUE</td><td> TRUE</td><td> TRUE</td><td>FALSE</td><td> TRUE</td><td> TRUE</td><td>FALSE</td><td>FALSE</td><td>FALSE</td></tr>\n",
              "\t<tr><td> 4</td><td> TRUE</td><td>FALSE</td><td>FALSE</td><td>FALSE</td><td> TRUE</td><td> TRUE</td><td>FALSE</td><td>FALSE</td><td>FALSE</td><td>FALSE</td><td>FALSE</td></tr>\n",
              "\t<tr><td> 5</td><td> TRUE</td><td>FALSE</td><td>FALSE</td><td>FALSE</td><td>FALSE</td><td> TRUE</td><td> TRUE</td><td> TRUE</td><td>FALSE</td><td>FALSE</td><td>FALSE</td></tr>\n",
              "\t<tr><td> 6</td><td>FALSE</td><td>FALSE</td><td>FALSE</td><td>FALSE</td><td> TRUE</td><td>FALSE</td><td> TRUE</td><td> TRUE</td><td>FALSE</td><td>FALSE</td><td>FALSE</td></tr>\n",
              "\t<tr><td> 7</td><td> TRUE</td><td>FALSE</td><td>FALSE</td><td>FALSE</td><td> TRUE</td><td>FALSE</td><td>FALSE</td><td>FALSE</td><td>FALSE</td><td>FALSE</td><td>FALSE</td></tr>\n",
              "\t<tr><td> 8</td><td>FALSE</td><td>FALSE</td><td>FALSE</td><td>FALSE</td><td>FALSE</td><td>FALSE</td><td>FALSE</td><td>FALSE</td><td> TRUE</td><td>FALSE</td><td>FALSE</td></tr>\n",
              "\t<tr><td> 9</td><td>FALSE</td><td>FALSE</td><td>FALSE</td><td>FALSE</td><td>FALSE</td><td> TRUE</td><td>FALSE</td><td> TRUE</td><td>FALSE</td><td>FALSE</td><td>FALSE</td></tr>\n",
              "\t<tr><td>10</td><td>FALSE</td><td>FALSE</td><td>FALSE</td><td>FALSE</td><td>FALSE</td><td> TRUE</td><td>FALSE</td><td>FALSE</td><td>FALSE</td><td>FALSE</td><td>FALSE</td></tr>\n",
              "\t<tr><td>11</td><td>FALSE</td><td>FALSE</td><td>FALSE</td><td>FALSE</td><td> TRUE</td><td>FALSE</td><td> TRUE</td><td>FALSE</td><td>FALSE</td><td>FALSE</td><td>FALSE</td></tr>\n",
              "\t<tr><td>12</td><td> TRUE</td><td>FALSE</td><td>FALSE</td><td>FALSE</td><td> TRUE</td><td>FALSE</td><td>FALSE</td><td> TRUE</td><td>FALSE</td><td>FALSE</td><td>FALSE</td></tr>\n",
              "\t<tr><td>13</td><td>FALSE</td><td>FALSE</td><td>FALSE</td><td>FALSE</td><td> TRUE</td><td> TRUE</td><td>FALSE</td><td>FALSE</td><td>FALSE</td><td>FALSE</td><td>FALSE</td></tr>\n",
              "\t<tr><td>14</td><td> TRUE</td><td>FALSE</td><td>FALSE</td><td>FALSE</td><td> TRUE</td><td>FALSE</td><td>FALSE</td><td> TRUE</td><td>FALSE</td><td>FALSE</td><td>FALSE</td></tr>\n",
              "\t<tr><td>15</td><td> TRUE</td><td>FALSE</td><td>FALSE</td><td>FALSE</td><td> TRUE</td><td>FALSE</td><td> TRUE</td><td>FALSE</td><td>FALSE</td><td>FALSE</td><td>FALSE</td></tr>\n",
              "\t<tr><td>16</td><td>FALSE</td><td> TRUE</td><td> TRUE</td><td> TRUE</td><td>FALSE</td><td>FALSE</td><td> TRUE</td><td>FALSE</td><td>FALSE</td><td> TRUE</td><td>FALSE</td></tr>\n",
              "\t<tr><td>17</td><td>FALSE</td><td>FALSE</td><td>FALSE</td><td>FALSE</td><td> TRUE</td><td>FALSE</td><td> TRUE</td><td>FALSE</td><td>FALSE</td><td>FALSE</td><td>FALSE</td></tr>\n",
              "\t<tr><td>18</td><td>FALSE</td><td>FALSE</td><td>FALSE</td><td>FALSE</td><td> TRUE</td><td> TRUE</td><td>FALSE</td><td> TRUE</td><td>FALSE</td><td>FALSE</td><td>FALSE</td></tr>\n",
              "\t<tr><td>19</td><td>FALSE</td><td> TRUE</td><td> TRUE</td><td> TRUE</td><td> TRUE</td><td>FALSE</td><td>FALSE</td><td> TRUE</td><td>FALSE</td><td>FALSE</td><td>FALSE</td></tr>\n",
              "\t<tr><td>20</td><td>FALSE</td><td>FALSE</td><td>FALSE</td><td>FALSE</td><td> TRUE</td><td>FALSE</td><td>FALSE</td><td> TRUE</td><td>FALSE</td><td>FALSE</td><td> TRUE</td></tr>\n",
              "\t<tr><td>21</td><td>FALSE</td><td>FALSE</td><td>FALSE</td><td>FALSE</td><td> TRUE</td><td> TRUE</td><td> TRUE</td><td>FALSE</td><td>FALSE</td><td>FALSE</td><td>FALSE</td></tr>\n",
              "</tbody>\n",
              "</table>\n"
            ],
            "text/markdown": "\nA tibble: 21 × 12\n\n| ID &lt;dbl&gt; | фонетика и интонация &lt;lgl&gt; | история языка &lt;lgl&gt; | компаративистика &lt;lgl&gt; | филогенетика &lt;lgl&gt; | экспериментальная лингвистика &lt;lgl&gt; | анализ данных в гуманитарных науках &lt;lgl&gt; | грамматика и семантика &lt;lgl&gt; | социолингвистика &lt;lgl&gt; | NA &lt;lgl&gt; | корпусная лингвистика &lt;lgl&gt; | лингвогеография &lt;lgl&gt; |\n|---|---|---|---|---|---|---|---|---|---|---|---|\n|  1 |  TRUE |  TRUE |  TRUE |  TRUE |  TRUE |  TRUE | FALSE | FALSE | FALSE | FALSE | FALSE |\n|  2 | FALSE | FALSE | FALSE | FALSE | FALSE | FALSE |  TRUE |  TRUE | FALSE | FALSE | FALSE |\n|  3 | FALSE |  TRUE |  TRUE |  TRUE |  TRUE | FALSE |  TRUE |  TRUE | FALSE | FALSE | FALSE |\n|  4 |  TRUE | FALSE | FALSE | FALSE |  TRUE |  TRUE | FALSE | FALSE | FALSE | FALSE | FALSE |\n|  5 |  TRUE | FALSE | FALSE | FALSE | FALSE |  TRUE |  TRUE |  TRUE | FALSE | FALSE | FALSE |\n|  6 | FALSE | FALSE | FALSE | FALSE |  TRUE | FALSE |  TRUE |  TRUE | FALSE | FALSE | FALSE |\n|  7 |  TRUE | FALSE | FALSE | FALSE |  TRUE | FALSE | FALSE | FALSE | FALSE | FALSE | FALSE |\n|  8 | FALSE | FALSE | FALSE | FALSE | FALSE | FALSE | FALSE | FALSE |  TRUE | FALSE | FALSE |\n|  9 | FALSE | FALSE | FALSE | FALSE | FALSE |  TRUE | FALSE |  TRUE | FALSE | FALSE | FALSE |\n| 10 | FALSE | FALSE | FALSE | FALSE | FALSE |  TRUE | FALSE | FALSE | FALSE | FALSE | FALSE |\n| 11 | FALSE | FALSE | FALSE | FALSE |  TRUE | FALSE |  TRUE | FALSE | FALSE | FALSE | FALSE |\n| 12 |  TRUE | FALSE | FALSE | FALSE |  TRUE | FALSE | FALSE |  TRUE | FALSE | FALSE | FALSE |\n| 13 | FALSE | FALSE | FALSE | FALSE |  TRUE |  TRUE | FALSE | FALSE | FALSE | FALSE | FALSE |\n| 14 |  TRUE | FALSE | FALSE | FALSE |  TRUE | FALSE | FALSE |  TRUE | FALSE | FALSE | FALSE |\n| 15 |  TRUE | FALSE | FALSE | FALSE |  TRUE | FALSE |  TRUE | FALSE | FALSE | FALSE | FALSE |\n| 16 | FALSE |  TRUE |  TRUE |  TRUE | FALSE | FALSE |  TRUE | FALSE | FALSE |  TRUE | FALSE |\n| 17 | FALSE | FALSE | FALSE | FALSE |  TRUE | FALSE |  TRUE | FALSE | FALSE | FALSE | FALSE |\n| 18 | FALSE | FALSE | FALSE | FALSE |  TRUE |  TRUE | FALSE |  TRUE | FALSE | FALSE | FALSE |\n| 19 | FALSE |  TRUE |  TRUE |  TRUE |  TRUE | FALSE | FALSE |  TRUE | FALSE | FALSE | FALSE |\n| 20 | FALSE | FALSE | FALSE | FALSE |  TRUE | FALSE | FALSE |  TRUE | FALSE | FALSE |  TRUE |\n| 21 | FALSE | FALSE | FALSE | FALSE |  TRUE |  TRUE |  TRUE | FALSE | FALSE | FALSE | FALSE |\n\n",
            "text/latex": "A tibble: 21 × 12\n\\begin{tabular}{llllllllllll}\n ID & фонетика и интонация & история языка & компаративистика & филогенетика & экспериментальная лингвистика & анализ данных в гуманитарных науках & грамматика и семантика & социолингвистика & NA & корпусная лингвистика & лингвогеография\\\\\n <dbl> & <lgl> & <lgl> & <lgl> & <lgl> & <lgl> & <lgl> & <lgl> & <lgl> & <lgl> & <lgl> & <lgl>\\\\\n\\hline\n\t  1 &  TRUE &  TRUE &  TRUE &  TRUE &  TRUE &  TRUE & FALSE & FALSE & FALSE & FALSE & FALSE\\\\\n\t  2 & FALSE & FALSE & FALSE & FALSE & FALSE & FALSE &  TRUE &  TRUE & FALSE & FALSE & FALSE\\\\\n\t  3 & FALSE &  TRUE &  TRUE &  TRUE &  TRUE & FALSE &  TRUE &  TRUE & FALSE & FALSE & FALSE\\\\\n\t  4 &  TRUE & FALSE & FALSE & FALSE &  TRUE &  TRUE & FALSE & FALSE & FALSE & FALSE & FALSE\\\\\n\t  5 &  TRUE & FALSE & FALSE & FALSE & FALSE &  TRUE &  TRUE &  TRUE & FALSE & FALSE & FALSE\\\\\n\t  6 & FALSE & FALSE & FALSE & FALSE &  TRUE & FALSE &  TRUE &  TRUE & FALSE & FALSE & FALSE\\\\\n\t  7 &  TRUE & FALSE & FALSE & FALSE &  TRUE & FALSE & FALSE & FALSE & FALSE & FALSE & FALSE\\\\\n\t  8 & FALSE & FALSE & FALSE & FALSE & FALSE & FALSE & FALSE & FALSE &  TRUE & FALSE & FALSE\\\\\n\t  9 & FALSE & FALSE & FALSE & FALSE & FALSE &  TRUE & FALSE &  TRUE & FALSE & FALSE & FALSE\\\\\n\t 10 & FALSE & FALSE & FALSE & FALSE & FALSE &  TRUE & FALSE & FALSE & FALSE & FALSE & FALSE\\\\\n\t 11 & FALSE & FALSE & FALSE & FALSE &  TRUE & FALSE &  TRUE & FALSE & FALSE & FALSE & FALSE\\\\\n\t 12 &  TRUE & FALSE & FALSE & FALSE &  TRUE & FALSE & FALSE &  TRUE & FALSE & FALSE & FALSE\\\\\n\t 13 & FALSE & FALSE & FALSE & FALSE &  TRUE &  TRUE & FALSE & FALSE & FALSE & FALSE & FALSE\\\\\n\t 14 &  TRUE & FALSE & FALSE & FALSE &  TRUE & FALSE & FALSE &  TRUE & FALSE & FALSE & FALSE\\\\\n\t 15 &  TRUE & FALSE & FALSE & FALSE &  TRUE & FALSE &  TRUE & FALSE & FALSE & FALSE & FALSE\\\\\n\t 16 & FALSE &  TRUE &  TRUE &  TRUE & FALSE & FALSE &  TRUE & FALSE & FALSE &  TRUE & FALSE\\\\\n\t 17 & FALSE & FALSE & FALSE & FALSE &  TRUE & FALSE &  TRUE & FALSE & FALSE & FALSE & FALSE\\\\\n\t 18 & FALSE & FALSE & FALSE & FALSE &  TRUE &  TRUE & FALSE &  TRUE & FALSE & FALSE & FALSE\\\\\n\t 19 & FALSE &  TRUE &  TRUE &  TRUE &  TRUE & FALSE & FALSE &  TRUE & FALSE & FALSE & FALSE\\\\\n\t 20 & FALSE & FALSE & FALSE & FALSE &  TRUE & FALSE & FALSE &  TRUE & FALSE & FALSE &  TRUE\\\\\n\t 21 & FALSE & FALSE & FALSE & FALSE &  TRUE &  TRUE &  TRUE & FALSE & FALSE & FALSE & FALSE\\\\\n\\end{tabular}\n",
            "text/plain": [
              "   ID фонетика и интонация история языка компаративистика филогенетика\n",
              "1   1  TRUE                 TRUE          TRUE             TRUE       \n",
              "2   2 FALSE                FALSE         FALSE            FALSE       \n",
              "3   3 FALSE                 TRUE          TRUE             TRUE       \n",
              "4   4  TRUE                FALSE         FALSE            FALSE       \n",
              "5   5  TRUE                FALSE         FALSE            FALSE       \n",
              "6   6 FALSE                FALSE         FALSE            FALSE       \n",
              "7   7  TRUE                FALSE         FALSE            FALSE       \n",
              "8   8 FALSE                FALSE         FALSE            FALSE       \n",
              "9   9 FALSE                FALSE         FALSE            FALSE       \n",
              "10 10 FALSE                FALSE         FALSE            FALSE       \n",
              "11 11 FALSE                FALSE         FALSE            FALSE       \n",
              "12 12  TRUE                FALSE         FALSE            FALSE       \n",
              "13 13 FALSE                FALSE         FALSE            FALSE       \n",
              "14 14  TRUE                FALSE         FALSE            FALSE       \n",
              "15 15  TRUE                FALSE         FALSE            FALSE       \n",
              "16 16 FALSE                 TRUE          TRUE             TRUE       \n",
              "17 17 FALSE                FALSE         FALSE            FALSE       \n",
              "18 18 FALSE                FALSE         FALSE            FALSE       \n",
              "19 19 FALSE                 TRUE          TRUE             TRUE       \n",
              "20 20 FALSE                FALSE         FALSE            FALSE       \n",
              "21 21 FALSE                FALSE         FALSE            FALSE       \n",
              "   экспериментальная лингвистика анализ данных в гуманитарных науках\n",
              "1   TRUE                          TRUE                              \n",
              "2  FALSE                         FALSE                              \n",
              "3   TRUE                         FALSE                              \n",
              "4   TRUE                          TRUE                              \n",
              "5  FALSE                          TRUE                              \n",
              "6   TRUE                         FALSE                              \n",
              "7   TRUE                         FALSE                              \n",
              "8  FALSE                         FALSE                              \n",
              "9  FALSE                          TRUE                              \n",
              "10 FALSE                          TRUE                              \n",
              "11  TRUE                         FALSE                              \n",
              "12  TRUE                         FALSE                              \n",
              "13  TRUE                          TRUE                              \n",
              "14  TRUE                         FALSE                              \n",
              "15  TRUE                         FALSE                              \n",
              "16 FALSE                         FALSE                              \n",
              "17  TRUE                         FALSE                              \n",
              "18  TRUE                          TRUE                              \n",
              "19  TRUE                         FALSE                              \n",
              "20  TRUE                         FALSE                              \n",
              "21  TRUE                          TRUE                              \n",
              "   грамматика и семантика социолингвистика NA    корпусная лингвистика\n",
              "1  FALSE                  FALSE            FALSE FALSE                \n",
              "2   TRUE                   TRUE            FALSE FALSE                \n",
              "3   TRUE                   TRUE            FALSE FALSE                \n",
              "4  FALSE                  FALSE            FALSE FALSE                \n",
              "5   TRUE                   TRUE            FALSE FALSE                \n",
              "6   TRUE                   TRUE            FALSE FALSE                \n",
              "7  FALSE                  FALSE            FALSE FALSE                \n",
              "8  FALSE                  FALSE             TRUE FALSE                \n",
              "9  FALSE                   TRUE            FALSE FALSE                \n",
              "10 FALSE                  FALSE            FALSE FALSE                \n",
              "11  TRUE                  FALSE            FALSE FALSE                \n",
              "12 FALSE                   TRUE            FALSE FALSE                \n",
              "13 FALSE                  FALSE            FALSE FALSE                \n",
              "14 FALSE                   TRUE            FALSE FALSE                \n",
              "15  TRUE                  FALSE            FALSE FALSE                \n",
              "16  TRUE                  FALSE            FALSE  TRUE                \n",
              "17  TRUE                  FALSE            FALSE FALSE                \n",
              "18 FALSE                   TRUE            FALSE FALSE                \n",
              "19 FALSE                   TRUE            FALSE FALSE                \n",
              "20 FALSE                   TRUE            FALSE FALSE                \n",
              "21  TRUE                  FALSE            FALSE FALSE                \n",
              "   лингвогеография\n",
              "1  FALSE          \n",
              "2  FALSE          \n",
              "3  FALSE          \n",
              "4  FALSE          \n",
              "5  FALSE          \n",
              "6  FALSE          \n",
              "7  FALSE          \n",
              "8  FALSE          \n",
              "9  FALSE          \n",
              "10 FALSE          \n",
              "11 FALSE          \n",
              "12 FALSE          \n",
              "13 FALSE          \n",
              "14 FALSE          \n",
              "15 FALSE          \n",
              "16 FALSE          \n",
              "17 FALSE          \n",
              "18 FALSE          \n",
              "19 FALSE          \n",
              "20  TRUE          \n",
              "21 FALSE          "
            ]
          },
          "metadata": {}
        }
      ]
    },
    {
      "cell_type": "code",
      "source": [
        "# 2.2\n",
        "\n",
        "topic_counts <- topics %>%\n",
        "  separate_rows(Topics, sep = \", \") %>%\n",
        "  mutate(value = TRUE) %>%\n",
        "  pivot_wider(names_from = \"Topics\",\n",
        "              values_from = \"value\", values_fill = FALSE) %>%\n",
        "                summarise(mutate(across(where(is.logical), sum)))\n",
        "\n",
        "topic_counts"
      ],
      "metadata": {
        "colab": {
          "base_uri": "https://localhost:8080/",
          "height": 201
        },
        "id": "EswFM1VTfz-N",
        "outputId": "af676443-dbb6-496e-d355-6823ddfe4434"
      },
      "execution_count": 106,
      "outputs": [
        {
          "output_type": "display_data",
          "data": {
            "text/html": [
              "<table class=\"dataframe\">\n",
              "<caption>A tibble: 1 × 11</caption>\n",
              "<thead>\n",
              "\t<tr><th scope=col>фонетика и интонация</th><th scope=col>история языка</th><th scope=col>компаративистика</th><th scope=col>филогенетика</th><th scope=col>экспериментальная лингвистика</th><th scope=col>анализ данных в гуманитарных науках</th><th scope=col>грамматика и семантика</th><th scope=col>социолингвистика</th><th scope=col>NA</th><th scope=col>корпусная лингвистика</th><th scope=col>лингвогеография</th></tr>\n",
              "\t<tr><th scope=col>&lt;int&gt;</th><th scope=col>&lt;int&gt;</th><th scope=col>&lt;int&gt;</th><th scope=col>&lt;int&gt;</th><th scope=col>&lt;int&gt;</th><th scope=col>&lt;int&gt;</th><th scope=col>&lt;int&gt;</th><th scope=col>&lt;int&gt;</th><th scope=col>&lt;int&gt;</th><th scope=col>&lt;int&gt;</th><th scope=col>&lt;int&gt;</th></tr>\n",
              "</thead>\n",
              "<tbody>\n",
              "\t<tr><td>7</td><td>4</td><td>4</td><td>4</td><td>15</td><td>8</td><td>9</td><td>10</td><td>1</td><td>1</td><td>1</td></tr>\n",
              "</tbody>\n",
              "</table>\n"
            ],
            "text/markdown": "\nA tibble: 1 × 11\n\n| фонетика и интонация &lt;int&gt; | история языка &lt;int&gt; | компаративистика &lt;int&gt; | филогенетика &lt;int&gt; | экспериментальная лингвистика &lt;int&gt; | анализ данных в гуманитарных науках &lt;int&gt; | грамматика и семантика &lt;int&gt; | социолингвистика &lt;int&gt; | NA &lt;int&gt; | корпусная лингвистика &lt;int&gt; | лингвогеография &lt;int&gt; |\n|---|---|---|---|---|---|---|---|---|---|---|\n| 7 | 4 | 4 | 4 | 15 | 8 | 9 | 10 | 1 | 1 | 1 |\n\n",
            "text/latex": "A tibble: 1 × 11\n\\begin{tabular}{lllllllllll}\n фонетика и интонация & история языка & компаративистика & филогенетика & экспериментальная лингвистика & анализ данных в гуманитарных науках & грамматика и семантика & социолингвистика & NA & корпусная лингвистика & лингвогеография\\\\\n <int> & <int> & <int> & <int> & <int> & <int> & <int> & <int> & <int> & <int> & <int>\\\\\n\\hline\n\t 7 & 4 & 4 & 4 & 15 & 8 & 9 & 10 & 1 & 1 & 1\\\\\n\\end{tabular}\n",
            "text/plain": [
              "  фонетика и интонация история языка компаративистика филогенетика\n",
              "1 7                    4             4                4           \n",
              "  экспериментальная лингвистика анализ данных в гуманитарных науках\n",
              "1 15                            8                                  \n",
              "  грамматика и семантика социолингвистика NA корпусная лингвистика\n",
              "1 9                      10               1  1                    \n",
              "  лингвогеография\n",
              "1 1              "
            ]
          },
          "metadata": {}
        }
      ]
    },
    {
      "cell_type": "code",
      "source": [
        "# 2.3\n",
        "topic_counts |>\n",
        "  pivot_longer(cols=everything(), names_to = \"topics\", values_to = \"counts\") %>%\n",
        "    filter(topics!='NA') %>%\n",
        "    ggplot(aes(x = counts, y=topics)) +\n",
        "    geom_col(fill='#77b6ff') +\n",
        "    theme_classic() +\n",
        "    xlab(\"Количество интересующихся темой\") + ylab(\"Темы\") + ggtitle(\"Интересы студентов МКЛНГ24\")\n"
      ],
      "metadata": {
        "colab": {
          "base_uri": "https://localhost:8080/",
          "height": 437
        },
        "id": "R20GUADjiUbv",
        "outputId": "ef12a880-ebb6-4a2d-f0db-e887f06a6948"
      },
      "execution_count": 131,
      "outputs": [
        {
          "output_type": "display_data",
          "data": {
            "text/plain": [
              "plot without title"
            ],
            "image/png": "[encoded data removed]"
          },
          "metadata": {
            "image/png": {
              "width": 420,
              "height": 420
            }
          }
        }
      ]
    },
    {
      "cell_type": "markdown",
      "source": [
        "# Часть 3"
      ],
      "metadata": {
        "id": "WipT0whDlIDQ"
      }
    },
    {
      "cell_type": "markdown",
      "source": [
        "Складываю домашние и семинарские работы сюда: https://github.com/liminovna/DataViz_R_notebooks/tree/main\n",
        "\n",
        "Домашние работы называю по маске `R_assgnt*.ipynb`\n",
        "\n",
        "А семинарские -- по маске `R_lab*.ipynb`"
      ],
      "metadata": {
        "id": "XkzgzAajlWbJ"
      }
    },
    {
      "cell_type": "code",
      "source": [],
      "metadata": {
        "id": "WoLzwhWOl0Ge"
      },
      "execution_count": null,
      "outputs": []
    }
  ]
}