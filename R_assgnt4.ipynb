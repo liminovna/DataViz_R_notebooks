{
  "nbformat": 4,
  "nbformat_minor": 0,
  "metadata": {
    "colab": {
      "provenance": [],
      "authorship_tag": "ABX9TyMfmOVsfcaDNQJeVhCukMKP",
      "include_colab_link": true
    },
    "kernelspec": {
      "name": "ir",
      "display_name": "R"
    },
    "language_info": {
      "name": "R"
    }
  },
  "cells": [
    {
      "cell_type": "markdown",
      "metadata": {
        "id": "view-in-github",
        "colab_type": "text"
      },
      "source": [
        "<a href=\"https://colab.research.google.com/github/liminovna/DataViz_R_notebooks/blob/main/R_assgnt4.ipynb\" target=\"_parent\"><img src=\"https://colab.research.google.com/assets/colab-badge.svg\" alt=\"Open In Colab\"/></a>"
      ]
    },
    {
      "cell_type": "markdown",
      "source": [
        "Работу выполнила\n",
        "```\n",
        "Ли-Мин Вадислава\n",
        "```"
      ],
      "metadata": {
        "id": "t3CcKg3aHllz"
      }
    },
    {
      "cell_type": "code",
      "execution_count": null,
      "metadata": {
        "colab": {
          "base_uri": "https://localhost:8080/"
        },
        "id": "r5dMuNn6XMCp",
        "outputId": "c820b3a6-f8dc-4950-9426-2decb09eae38"
      },
      "outputs": [
        {
          "output_type": "stream",
          "name": "stderr",
          "text": [
            "── \u001b[1mAttaching core tidyverse packages\u001b[22m ──────────────────────── tidyverse 2.0.0 ──\n",
            "\u001b[32m✔\u001b[39m \u001b[34mdplyr    \u001b[39m 1.1.4     \u001b[32m✔\u001b[39m \u001b[34mreadr    \u001b[39m 2.1.5\n",
            "\u001b[32m✔\u001b[39m \u001b[34mforcats  \u001b[39m 1.0.0     \u001b[32m✔\u001b[39m \u001b[34mstringr  \u001b[39m 1.5.1\n",
            "\u001b[32m✔\u001b[39m \u001b[34mggplot2  \u001b[39m 3.5.1     \u001b[32m✔\u001b[39m \u001b[34mtibble   \u001b[39m 3.2.1\n",
            "\u001b[32m✔\u001b[39m \u001b[34mlubridate\u001b[39m 1.9.4     \u001b[32m✔\u001b[39m \u001b[34mtidyr    \u001b[39m 1.3.1\n",
            "\u001b[32m✔\u001b[39m \u001b[34mpurrr    \u001b[39m 1.0.4     \n",
            "── \u001b[1mConflicts\u001b[22m ────────────────────────────────────────── tidyverse_conflicts() ──\n",
            "\u001b[31m✖\u001b[39m \u001b[34mdplyr\u001b[39m::\u001b[32mfilter()\u001b[39m masks \u001b[34mstats\u001b[39m::filter()\n",
            "\u001b[31m✖\u001b[39m \u001b[34mdplyr\u001b[39m::\u001b[32mlag()\u001b[39m    masks \u001b[34mstats\u001b[39m::lag()\n",
            "\u001b[36mℹ\u001b[39m Use the conflicted package (\u001b[3m\u001b[34m<http://conflicted.r-lib.org/>\u001b[39m\u001b[23m) to force all conflicts to become errors\n"
          ]
        }
      ],
      "source": [
        "library(tidyverse)"
      ]
    },
    {
      "cell_type": "code",
      "source": [
        "library(tibble)\n",
        "library(tidyr)"
      ],
      "metadata": {
        "id": "u6igSS8GIKuN"
      },
      "execution_count": null,
      "outputs": []
    },
    {
      "cell_type": "markdown",
      "source": [
        "## Данные"
      ],
      "metadata": {
        "id": "OgU3dXwTHvUX"
      }
    },
    {
      "cell_type": "markdown",
      "source": [
        "Загрузите данные из файла в переменную mono, переведя строковые данные в факторы. В переменной mono_socio сохраните данные социолингвистической анкеты. В переменной mono оставьте только данные самого эксперимента. Переименуйте заголовки в последней таблице в следующие: “ParticipantID”, “QuestionType”, “NQuestions”, “Likert”, “RT”."
      ],
      "metadata": {
        "id": "Ag238-yrHiGM"
      }
    },
    {
      "cell_type": "code",
      "source": [
        "# читаем данные в переменную mono\n",
        "mono = read_csv2('https://raw.githubusercontent.com/olesar/2025dav4compling/refs/heads/main/data/greek-word-order-mono-acceptability-coded-rt.txt')\n",
        "dplyr::sample_n(mono, 10)"
      ],
      "metadata": {
        "colab": {
          "base_uri": "https://localhost:8080/",
          "height": 585
        },
        "id": "LetCZP53HzmX",
        "outputId": "58747c0d-906a-4ffa-fd28-41fcf5af872b"
      },
      "execution_count": null,
      "outputs": [
        {
          "output_type": "stream",
          "name": "stderr",
          "text": [
            "\u001b[36mℹ\u001b[39m Using \u001b[34m\u001b[34m\"','\"\u001b[34m\u001b[39m as decimal and \u001b[34m\u001b[34m\"'.'\"\u001b[34m\u001b[39m as grouping mark. Use `read_delim()` for more control.\n",
            "\n",
            "\u001b[1mRows: \u001b[22m\u001b[34m7560\u001b[39m \u001b[1mColumns: \u001b[22m\u001b[34m6\u001b[39m\n",
            "\u001b[36m──\u001b[39m \u001b[1mColumn specification\u001b[22m \u001b[36m────────────────────────────────────────────────────────\u001b[39m\n",
            "\u001b[1mDelimiter:\u001b[22m \";\"\n",
            "\u001b[31mchr\u001b[39m (5): ParticipantID, TypeOfQuestion, TypeOfStimuli, WordOrder, ResponseAc...\n",
            "\u001b[32mdbl\u001b[39m (1): RT\n",
            "\n",
            "\u001b[36mℹ\u001b[39m Use `spec()` to retrieve the full column specification for this data.\n",
            "\u001b[36mℹ\u001b[39m Specify the column types or set `show_col_types = FALSE` to quiet this message.\n"
          ]
        },
        {
          "output_type": "display_data",
          "data": {
            "text/html": [
              "<table class=\"dataframe\">\n",
              "<caption>A spec_tbl_df: 10 × 6</caption>\n",
              "<thead>\n",
              "\t<tr><th scope=col>ParticipantID</th><th scope=col>TypeOfQuestion</th><th scope=col>TypeOfStimuli</th><th scope=col>WordOrder</th><th scope=col>ResponseAcceptabilityJudgement</th><th scope=col>RT</th></tr>\n",
              "\t<tr><th scope=col>&lt;chr&gt;</th><th scope=col>&lt;chr&gt;</th><th scope=col>&lt;chr&gt;</th><th scope=col>&lt;chr&gt;</th><th scope=col>&lt;chr&gt;</th><th scope=col>&lt;dbl&gt;</th></tr>\n",
              "</thead>\n",
              "<tbody>\n",
              "\t<tr><td>09b1c9e98227331746533f60cc9b2c2d</td><td>AcceptabilityJudgement</td><td>FillerUnacceptable        </td><td>NA         </td><td>Wrong  </td><td>2005</td></tr>\n",
              "\t<tr><td>62382998fef70b0e45f24054bdb9c1d3</td><td>AcceptabilityJudgement</td><td>SubjectiveComment-Material</td><td>Incongruent</td><td>Correct</td><td>3516</td></tr>\n",
              "\t<tr><td>bf37492932bd097cf6f24f42c3bdc3f4</td><td>AcceptabilityJudgement</td><td>FillerUnacceptable        </td><td>Incongruent</td><td>Wrong  </td><td>2123</td></tr>\n",
              "\t<tr><td>4a547eb1ce4621cbe6992375bb69c431</td><td>AcceptabilityJudgement</td><td>FillerAcceptable          </td><td>Incongruent</td><td>Correct</td><td>1706</td></tr>\n",
              "\t<tr><td>0e1d152c354265b6c4ee9f94e4d34502</td><td>AcceptabilityJudgement</td><td>FillerUnacceptable        </td><td>NA         </td><td>Wrong  </td><td>1812</td></tr>\n",
              "\t<tr><td>021a49cde484f8fa18439f026ec99459</td><td>AcceptabilityJudgement</td><td>Size-Nationality          </td><td>Incongruent</td><td>Correct</td><td>1719</td></tr>\n",
              "\t<tr><td>4a547eb1ce4621cbe6992375bb69c431</td><td>AcceptabilityJudgement</td><td>FillerUnacceptable        </td><td>Congruent  </td><td>Wrong  </td><td>1891</td></tr>\n",
              "\t<tr><td>4c36a305cd282b3a0345e1040c817b58</td><td>AcceptabilityJudgement</td><td>FillerUnacceptable        </td><td>Congruent  </td><td>Wrong  </td><td>2538</td></tr>\n",
              "\t<tr><td>6d4175156dbd671735742b3fc10bd336</td><td>AcceptabilityJudgement</td><td>FillerUnacceptable        </td><td>Congruent  </td><td>Correct</td><td>1452</td></tr>\n",
              "\t<tr><td>3d5ed9013b8939d31ffaf17e1fe0ea07</td><td>AcceptabilityJudgement</td><td>FillerUnacceptable        </td><td>Incongruent</td><td>Wrong  </td><td>1017</td></tr>\n",
              "</tbody>\n",
              "</table>\n"
            ],
            "text/markdown": "\nA spec_tbl_df: 10 × 6\n\n| ParticipantID &lt;chr&gt; | TypeOfQuestion &lt;chr&gt; | TypeOfStimuli &lt;chr&gt; | WordOrder &lt;chr&gt; | ResponseAcceptabilityJudgement &lt;chr&gt; | RT &lt;dbl&gt; |\n|---|---|---|---|---|---|\n| 09b1c9e98227331746533f60cc9b2c2d | AcceptabilityJudgement | FillerUnacceptable         | NA          | Wrong   | 2005 |\n| 62382998fef70b0e45f24054bdb9c1d3 | AcceptabilityJudgement | SubjectiveComment-Material | Incongruent | Correct | 3516 |\n| bf37492932bd097cf6f24f42c3bdc3f4 | AcceptabilityJudgement | FillerUnacceptable         | Incongruent | Wrong   | 2123 |\n| 4a547eb1ce4621cbe6992375bb69c431 | AcceptabilityJudgement | FillerAcceptable           | Incongruent | Correct | 1706 |\n| 0e1d152c354265b6c4ee9f94e4d34502 | AcceptabilityJudgement | FillerUnacceptable         | NA          | Wrong   | 1812 |\n| 021a49cde484f8fa18439f026ec99459 | AcceptabilityJudgement | Size-Nationality           | Incongruent | Correct | 1719 |\n| 4a547eb1ce4621cbe6992375bb69c431 | AcceptabilityJudgement | FillerUnacceptable         | Congruent   | Wrong   | 1891 |\n| 4c36a305cd282b3a0345e1040c817b58 | AcceptabilityJudgement | FillerUnacceptable         | Congruent   | Wrong   | 2538 |\n| 6d4175156dbd671735742b3fc10bd336 | AcceptabilityJudgement | FillerUnacceptable         | Congruent   | Correct | 1452 |\n| 3d5ed9013b8939d31ffaf17e1fe0ea07 | AcceptabilityJudgement | FillerUnacceptable         | Incongruent | Wrong   | 1017 |\n\n",
            "text/latex": "A spec\\_tbl\\_df: 10 × 6\n\\begin{tabular}{llllll}\n ParticipantID & TypeOfQuestion & TypeOfStimuli & WordOrder & ResponseAcceptabilityJudgement & RT\\\\\n <chr> & <chr> & <chr> & <chr> & <chr> & <dbl>\\\\\n\\hline\n\t 09b1c9e98227331746533f60cc9b2c2d & AcceptabilityJudgement & FillerUnacceptable         & NA          & Wrong   & 2005\\\\\n\t 62382998fef70b0e45f24054bdb9c1d3 & AcceptabilityJudgement & SubjectiveComment-Material & Incongruent & Correct & 3516\\\\\n\t bf37492932bd097cf6f24f42c3bdc3f4 & AcceptabilityJudgement & FillerUnacceptable         & Incongruent & Wrong   & 2123\\\\\n\t 4a547eb1ce4621cbe6992375bb69c431 & AcceptabilityJudgement & FillerAcceptable           & Incongruent & Correct & 1706\\\\\n\t 0e1d152c354265b6c4ee9f94e4d34502 & AcceptabilityJudgement & FillerUnacceptable         & NA          & Wrong   & 1812\\\\\n\t 021a49cde484f8fa18439f026ec99459 & AcceptabilityJudgement & Size-Nationality           & Incongruent & Correct & 1719\\\\\n\t 4a547eb1ce4621cbe6992375bb69c431 & AcceptabilityJudgement & FillerUnacceptable         & Congruent   & Wrong   & 1891\\\\\n\t 4c36a305cd282b3a0345e1040c817b58 & AcceptabilityJudgement & FillerUnacceptable         & Congruent   & Wrong   & 2538\\\\\n\t 6d4175156dbd671735742b3fc10bd336 & AcceptabilityJudgement & FillerUnacceptable         & Congruent   & Correct & 1452\\\\\n\t 3d5ed9013b8939d31ffaf17e1fe0ea07 & AcceptabilityJudgement & FillerUnacceptable         & Incongruent & Wrong   & 1017\\\\\n\\end{tabular}\n",
            "text/plain": [
              "   ParticipantID                    TypeOfQuestion        \n",
              "1  09b1c9e98227331746533f60cc9b2c2d AcceptabilityJudgement\n",
              "2  62382998fef70b0e45f24054bdb9c1d3 AcceptabilityJudgement\n",
              "3  bf37492932bd097cf6f24f42c3bdc3f4 AcceptabilityJudgement\n",
              "4  4a547eb1ce4621cbe6992375bb69c431 AcceptabilityJudgement\n",
              "5  0e1d152c354265b6c4ee9f94e4d34502 AcceptabilityJudgement\n",
              "6  021a49cde484f8fa18439f026ec99459 AcceptabilityJudgement\n",
              "7  4a547eb1ce4621cbe6992375bb69c431 AcceptabilityJudgement\n",
              "8  4c36a305cd282b3a0345e1040c817b58 AcceptabilityJudgement\n",
              "9  6d4175156dbd671735742b3fc10bd336 AcceptabilityJudgement\n",
              "10 3d5ed9013b8939d31ffaf17e1fe0ea07 AcceptabilityJudgement\n",
              "   TypeOfStimuli              WordOrder   ResponseAcceptabilityJudgement RT  \n",
              "1  FillerUnacceptable         NA          Wrong                          2005\n",
              "2  SubjectiveComment-Material Incongruent Correct                        3516\n",
              "3  FillerUnacceptable         Incongruent Wrong                          2123\n",
              "4  FillerAcceptable           Incongruent Correct                        1706\n",
              "5  FillerUnacceptable         NA          Wrong                          1812\n",
              "6  Size-Nationality           Incongruent Correct                        1719\n",
              "7  FillerUnacceptable         Congruent   Wrong                          1891\n",
              "8  FillerUnacceptable         Congruent   Wrong                          2538\n",
              "9  FillerUnacceptable         Congruent   Correct                        1452\n",
              "10 FillerUnacceptable         Incongruent Wrong                          1017"
            ]
          },
          "metadata": {}
        }
      ]
    },
    {
      "cell_type": "code",
      "source": [
        "# преобразовываем строковые данные в факторы\n",
        "mono <- mono %>%\n",
        "  mutate(across(where(is.character), as.factor))\n",
        "dplyr::sample_n(mono, 10)"
      ],
      "metadata": {
        "colab": {
          "base_uri": "https://localhost:8080/",
          "height": 412
        },
        "id": "sk7aBghMKjba",
        "outputId": "23a9c90b-5906-4f32-eb7b-602732437f8d"
      },
      "execution_count": null,
      "outputs": [
        {
          "output_type": "display_data",
          "data": {
            "text/html": [
              "<table class=\"dataframe\">\n",
              "<caption>A tibble: 10 × 6</caption>\n",
              "<thead>\n",
              "\t<tr><th scope=col>ParticipantID</th><th scope=col>TypeOfQuestion</th><th scope=col>TypeOfStimuli</th><th scope=col>WordOrder</th><th scope=col>ResponseAcceptabilityJudgement</th><th scope=col>RT</th></tr>\n",
              "\t<tr><th scope=col>&lt;fct&gt;</th><th scope=col>&lt;fct&gt;</th><th scope=col>&lt;fct&gt;</th><th scope=col>&lt;fct&gt;</th><th scope=col>&lt;fct&gt;</th><th scope=col>&lt;dbl&gt;</th></tr>\n",
              "</thead>\n",
              "<tbody>\n",
              "\t<tr><td>d5f41e13829f23761fc1836343283ce8</td><td>AcceptabilityJudgement</td><td>FillerAcceptable          </td><td>Incongruent</td><td>Correct</td><td>2939</td></tr>\n",
              "\t<tr><td>acea9e154b49d6848ca69104fab50468</td><td>AcceptabilityJudgement</td><td>FillerUnacceptable        </td><td>Incongruent</td><td>Wrong  </td><td>1772</td></tr>\n",
              "\t<tr><td>7d032f844f1c45ceed867ace66e7cc97</td><td>AcceptabilityJudgement</td><td>FillerUnacceptable        </td><td>Congruent  </td><td>Wrong  </td><td>1467</td></tr>\n",
              "\t<tr><td>13c2695b718d431669e2dd09e03082eb</td><td>AcceptabilityJudgement</td><td>FillerUnacceptable        </td><td>NA         </td><td>Wrong  </td><td>2335</td></tr>\n",
              "\t<tr><td>2b32edc168af0561adaba5ad874fe72f</td><td>AcceptabilityJudgement</td><td>Size-Nationality          </td><td>Incongruent</td><td>Correct</td><td>1474</td></tr>\n",
              "\t<tr><td>ce251e843b9616ee6d11d1574a961e4c</td><td>AcceptabilityJudgement</td><td>FillerUnacceptable        </td><td>Incongruent</td><td>Wrong  </td><td>2718</td></tr>\n",
              "\t<tr><td>84193db903134a97dfbf18b8fc77b778</td><td>AcceptabilityJudgement</td><td>FillerUnacceptable        </td><td>Congruent  </td><td>Wrong  </td><td>1650</td></tr>\n",
              "\t<tr><td>20dfeabde0b51cc5050a21e9397bcc84</td><td>AcceptabilityJudgement</td><td>SubjectiveComment-Material</td><td>Congruent  </td><td>Correct</td><td>4782</td></tr>\n",
              "\t<tr><td>428b71b8fc8713db5464599621da918b</td><td>AcceptabilityJudgement</td><td>FillerUnacceptable        </td><td>Congruent  </td><td>Wrong  </td><td>1952</td></tr>\n",
              "\t<tr><td>150fa7317c3f89a03999b01962a2ad62</td><td>AcceptabilityJudgement</td><td>Size-Nationality          </td><td>Congruent  </td><td>Correct</td><td>1569</td></tr>\n",
              "</tbody>\n",
              "</table>\n"
            ],
            "text/markdown": "\nA tibble: 10 × 6\n\n| ParticipantID &lt;fct&gt; | TypeOfQuestion &lt;fct&gt; | TypeOfStimuli &lt;fct&gt; | WordOrder &lt;fct&gt; | ResponseAcceptabilityJudgement &lt;fct&gt; | RT &lt;dbl&gt; |\n|---|---|---|---|---|---|\n| d5f41e13829f23761fc1836343283ce8 | AcceptabilityJudgement | FillerAcceptable           | Incongruent | Correct | 2939 |\n| acea9e154b49d6848ca69104fab50468 | AcceptabilityJudgement | FillerUnacceptable         | Incongruent | Wrong   | 1772 |\n| 7d032f844f1c45ceed867ace66e7cc97 | AcceptabilityJudgement | FillerUnacceptable         | Congruent   | Wrong   | 1467 |\n| 13c2695b718d431669e2dd09e03082eb | AcceptabilityJudgement | FillerUnacceptable         | NA          | Wrong   | 2335 |\n| 2b32edc168af0561adaba5ad874fe72f | AcceptabilityJudgement | Size-Nationality           | Incongruent | Correct | 1474 |\n| ce251e843b9616ee6d11d1574a961e4c | AcceptabilityJudgement | FillerUnacceptable         | Incongruent | Wrong   | 2718 |\n| 84193db903134a97dfbf18b8fc77b778 | AcceptabilityJudgement | FillerUnacceptable         | Congruent   | Wrong   | 1650 |\n| 20dfeabde0b51cc5050a21e9397bcc84 | AcceptabilityJudgement | SubjectiveComment-Material | Congruent   | Correct | 4782 |\n| 428b71b8fc8713db5464599621da918b | AcceptabilityJudgement | FillerUnacceptable         | Congruent   | Wrong   | 1952 |\n| 150fa7317c3f89a03999b01962a2ad62 | AcceptabilityJudgement | Size-Nationality           | Congruent   | Correct | 1569 |\n\n",
            "text/latex": "A tibble: 10 × 6\n\\begin{tabular}{llllll}\n ParticipantID & TypeOfQuestion & TypeOfStimuli & WordOrder & ResponseAcceptabilityJudgement & RT\\\\\n <fct> & <fct> & <fct> & <fct> & <fct> & <dbl>\\\\\n\\hline\n\t d5f41e13829f23761fc1836343283ce8 & AcceptabilityJudgement & FillerAcceptable           & Incongruent & Correct & 2939\\\\\n\t acea9e154b49d6848ca69104fab50468 & AcceptabilityJudgement & FillerUnacceptable         & Incongruent & Wrong   & 1772\\\\\n\t 7d032f844f1c45ceed867ace66e7cc97 & AcceptabilityJudgement & FillerUnacceptable         & Congruent   & Wrong   & 1467\\\\\n\t 13c2695b718d431669e2dd09e03082eb & AcceptabilityJudgement & FillerUnacceptable         & NA          & Wrong   & 2335\\\\\n\t 2b32edc168af0561adaba5ad874fe72f & AcceptabilityJudgement & Size-Nationality           & Incongruent & Correct & 1474\\\\\n\t ce251e843b9616ee6d11d1574a961e4c & AcceptabilityJudgement & FillerUnacceptable         & Incongruent & Wrong   & 2718\\\\\n\t 84193db903134a97dfbf18b8fc77b778 & AcceptabilityJudgement & FillerUnacceptable         & Congruent   & Wrong   & 1650\\\\\n\t 20dfeabde0b51cc5050a21e9397bcc84 & AcceptabilityJudgement & SubjectiveComment-Material & Congruent   & Correct & 4782\\\\\n\t 428b71b8fc8713db5464599621da918b & AcceptabilityJudgement & FillerUnacceptable         & Congruent   & Wrong   & 1952\\\\\n\t 150fa7317c3f89a03999b01962a2ad62 & AcceptabilityJudgement & Size-Nationality           & Congruent   & Correct & 1569\\\\\n\\end{tabular}\n",
            "text/plain": [
              "   ParticipantID                    TypeOfQuestion        \n",
              "1  d5f41e13829f23761fc1836343283ce8 AcceptabilityJudgement\n",
              "2  acea9e154b49d6848ca69104fab50468 AcceptabilityJudgement\n",
              "3  7d032f844f1c45ceed867ace66e7cc97 AcceptabilityJudgement\n",
              "4  13c2695b718d431669e2dd09e03082eb AcceptabilityJudgement\n",
              "5  2b32edc168af0561adaba5ad874fe72f AcceptabilityJudgement\n",
              "6  ce251e843b9616ee6d11d1574a961e4c AcceptabilityJudgement\n",
              "7  84193db903134a97dfbf18b8fc77b778 AcceptabilityJudgement\n",
              "8  20dfeabde0b51cc5050a21e9397bcc84 AcceptabilityJudgement\n",
              "9  428b71b8fc8713db5464599621da918b AcceptabilityJudgement\n",
              "10 150fa7317c3f89a03999b01962a2ad62 AcceptabilityJudgement\n",
              "   TypeOfStimuli              WordOrder   ResponseAcceptabilityJudgement RT  \n",
              "1  FillerAcceptable           Incongruent Correct                        2939\n",
              "2  FillerUnacceptable         Incongruent Wrong                          1772\n",
              "3  FillerUnacceptable         Congruent   Wrong                          1467\n",
              "4  FillerUnacceptable         NA          Wrong                          2335\n",
              "5  Size-Nationality           Incongruent Correct                        1474\n",
              "6  FillerUnacceptable         Incongruent Wrong                          2718\n",
              "7  FillerUnacceptable         Congruent   Wrong                          1650\n",
              "8  SubjectiveComment-Material Congruent   Correct                        4782\n",
              "9  FillerUnacceptable         Congruent   Wrong                          1952\n",
              "10 Size-Nationality           Congruent   Correct                        1569"
            ]
          },
          "metadata": {}
        }
      ]
    },
    {
      "cell_type": "code",
      "source": [
        "str(mono)"
      ],
      "metadata": {
        "colab": {
          "base_uri": "https://localhost:8080/"
        },
        "id": "3z8OzAr3K8iL",
        "outputId": "0b34fbd2-13cc-4e36-befd-d40f09b83ac8"
      },
      "execution_count": null,
      "outputs": [
        {
          "output_type": "stream",
          "name": "stdout",
          "text": [
            "tibble [7,560 × 6] (S3: tbl_df/tbl/data.frame)\n",
            " $ ParticipantID                 : Factor w/ 140 levels \"00e0b159cf5b9abcc73b92506d8b1c38\",..: 1 1 1 1 1 1 1 1 1 1 ...\n",
            " $ TypeOfQuestion                : Factor w/ 1 level \"AcceptabilityJudgement\": 1 1 1 1 1 1 1 1 1 1 ...\n",
            " $ TypeOfStimuli                 : Factor w/ 5 levels \"FillerAcceptable\",..: 4 4 4 4 4 4 3 3 3 3 ...\n",
            " $ WordOrder                     : Factor w/ 2 levels \"Congruent\",\"Incongruent\": 1 2 1 2 1 2 1 2 1 2 ...\n",
            " $ ResponseAcceptabilityJudgement: Factor w/ 3 levels \"Correct\",\"Neither\",..: 1 1 1 1 1 1 1 1 1 1 ...\n",
            " $ RT                            : num [1:7560] 1591 5504 1333 1543 1815 ...\n"
          ]
        }
      ]
    },
    {
      "cell_type": "code",
      "source": [
        "unique(mono$ResponseAcceptabilityJudgement)"
      ],
      "metadata": {
        "colab": {
          "base_uri": "https://localhost:8080/",
          "height": 52
        },
        "id": "2ZoepUZfMXp-",
        "outputId": "95f5ef93-0a7c-4368-d072-890ba20c7982"
      },
      "execution_count": null,
      "outputs": [
        {
          "output_type": "display_data",
          "data": {
            "text/html": [
              "<style>\n",
              ".list-inline {list-style: none; margin:0; padding: 0}\n",
              ".list-inline>li {display: inline-block}\n",
              ".list-inline>li:not(:last-child)::after {content: \"\\00b7\"; padding: 0 .5ex}\n",
              "</style>\n",
              "<ol class=list-inline><li>Correct</li><li>Wrong</li><li>Neither</li></ol>\n",
              "\n",
              "<details>\n",
              "\t<summary style=display:list-item;cursor:pointer>\n",
              "\t\t<strong>Levels</strong>:\n",
              "\t</summary>\n",
              "\t<style>\n",
              "\t.list-inline {list-style: none; margin:0; padding: 0}\n",
              "\t.list-inline>li {display: inline-block}\n",
              "\t.list-inline>li:not(:last-child)::after {content: \"\\00b7\"; padding: 0 .5ex}\n",
              "\t</style>\n",
              "\t<ol class=list-inline><li>'Correct'</li><li>'Neither'</li><li>'Wrong'</li></ol>\n",
              "</details>"
            ],
            "text/markdown": "1. Correct\n2. Wrong\n3. Neither\n\n\n\n**Levels**: 1. 'Correct'\n2. 'Neither'\n3. 'Wrong'\n\n\n",
            "text/latex": "\\begin{enumerate*}\n\\item Correct\n\\item Wrong\n\\item Neither\n\\end{enumerate*}\n\n\\emph{Levels}: \\begin{enumerate*}\n\\item 'Correct'\n\\item 'Neither'\n\\item 'Wrong'\n\\end{enumerate*}\n",
            "text/plain": [
              "[1] Correct Wrong   Neither\n",
              "Levels: Correct Neither Wrong"
            ]
          },
          "metadata": {}
        }
      ]
    },
    {
      "cell_type": "code",
      "source": [
        "# переименовываем заголовки в  “ParticipantID”, “QuestionType”, “NQuestions”, “Likert”, “RT”\n",
        "# ???"
      ],
      "metadata": {
        "id": "iBMUdeG5Lw3W"
      },
      "execution_count": null,
      "outputs": []
    },
    {
      "cell_type": "code",
      "source": [
        "# читаем данные в переменную mono_socio\n",
        "mono_socio = read_csv2('https://raw.githubusercontent.com/olesar/2025dav4compling/refs/heads/main/data/greek-word-order-mono_socio.txt')\n",
        "dplyr::sample_n(mono_socio, 10)"
      ],
      "metadata": {
        "colab": {
          "base_uri": "https://localhost:8080/",
          "height": 568
        },
        "id": "E_GWahEnLCBA",
        "outputId": "aacde521-da5b-47f3-93e6-4e1e8142c881"
      },
      "execution_count": null,
      "outputs": [
        {
          "output_type": "stream",
          "name": "stderr",
          "text": [
            "\u001b[36mℹ\u001b[39m Using \u001b[34m\u001b[34m\"','\"\u001b[34m\u001b[39m as decimal and \u001b[34m\u001b[34m\"'.'\"\u001b[34m\u001b[39m as grouping mark. Use `read_delim()` for more control.\n",
            "\n",
            "\u001b[1mRows: \u001b[22m\u001b[34m180\u001b[39m \u001b[1mColumns: \u001b[22m\u001b[34m4\u001b[39m\n",
            "\u001b[36m──\u001b[39m \u001b[1mColumn specification\u001b[22m \u001b[36m────────────────────────────────────────────────────────\u001b[39m\n",
            "\u001b[1mDelimiter:\u001b[22m \";\"\n",
            "\u001b[31mchr\u001b[39m (4): ParticipantID, TypeOfQuestion, QuestionCategory, Responce\n",
            "\n",
            "\u001b[36mℹ\u001b[39m Use `spec()` to retrieve the full column specification for this data.\n",
            "\u001b[36mℹ\u001b[39m Specify the column types or set `show_col_types = FALSE` to quiet this message.\n"
          ]
        },
        {
          "output_type": "display_data",
          "data": {
            "text/html": [
              "<table class=\"dataframe\">\n",
              "<caption>A spec_tbl_df: 10 × 4</caption>\n",
              "<thead>\n",
              "\t<tr><th scope=col>ParticipantID</th><th scope=col>TypeOfQuestion</th><th scope=col>QuestionCategory</th><th scope=col>Responce</th></tr>\n",
              "\t<tr><th scope=col>&lt;chr&gt;</th><th scope=col>&lt;chr&gt;</th><th scope=col>&lt;chr&gt;</th><th scope=col>&lt;chr&gt;</th></tr>\n",
              "</thead>\n",
              "<tbody>\n",
              "\t<tr><td>492e07754c9ad10c86222a33da47dc8b</td><td>Form</td><td>education </td><td>UniversityDegree</td></tr>\n",
              "\t<tr><td>944d59c9102fd8ce1d8172f9f4f784c1</td><td>Form</td><td>country2  </td><td>Limassol,Cyprus </td></tr>\n",
              "\t<tr><td>324340a79c0baf5a321d1933c517fdae</td><td>Form</td><td>country1  </td><td>Famagusta,Cyprus</td></tr>\n",
              "\t<tr><td>607ba9a52e718bc60069c8fee9335b1f</td><td>Form</td><td>country2  </td><td>Paphos,Cyprus   </td></tr>\n",
              "\t<tr><td>f59baae2e06fd5964a604c13b3cf48dd</td><td>Form</td><td>handedness</td><td>right           </td></tr>\n",
              "\t<tr><td>4b4c9debd4aedeb1fd3dfc9f1cab3b0b</td><td>Form</td><td>country2  </td><td>Nicosia         </td></tr>\n",
              "\t<tr><td>10641e1b505dda0cb82be1a8e1637c37</td><td>Form</td><td>country1  </td><td>Nicosia,Cyprus  </td></tr>\n",
              "\t<tr><td>25c1b946d47b93d059a2232013c51780</td><td>Form</td><td>age       </td><td>34              </td></tr>\n",
              "\t<tr><td>85b0e3c5d7dcaf0e1faa81dfe283b826</td><td>Form</td><td>country1  </td><td>Nicosia         </td></tr>\n",
              "\t<tr><td>80163577409836e099ebe789576d7a32</td><td>Form</td><td>age       </td><td>29              </td></tr>\n",
              "</tbody>\n",
              "</table>\n"
            ],
            "text/markdown": "\nA spec_tbl_df: 10 × 4\n\n| ParticipantID &lt;chr&gt; | TypeOfQuestion &lt;chr&gt; | QuestionCategory &lt;chr&gt; | Responce &lt;chr&gt; |\n|---|---|---|---|\n| 492e07754c9ad10c86222a33da47dc8b | Form | education  | UniversityDegree |\n| 944d59c9102fd8ce1d8172f9f4f784c1 | Form | country2   | Limassol,Cyprus  |\n| 324340a79c0baf5a321d1933c517fdae | Form | country1   | Famagusta,Cyprus |\n| 607ba9a52e718bc60069c8fee9335b1f | Form | country2   | Paphos,Cyprus    |\n| f59baae2e06fd5964a604c13b3cf48dd | Form | handedness | right            |\n| 4b4c9debd4aedeb1fd3dfc9f1cab3b0b | Form | country2   | Nicosia          |\n| 10641e1b505dda0cb82be1a8e1637c37 | Form | country1   | Nicosia,Cyprus   |\n| 25c1b946d47b93d059a2232013c51780 | Form | age        | 34               |\n| 85b0e3c5d7dcaf0e1faa81dfe283b826 | Form | country1   | Nicosia          |\n| 80163577409836e099ebe789576d7a32 | Form | age        | 29               |\n\n",
            "text/latex": "A spec\\_tbl\\_df: 10 × 4\n\\begin{tabular}{llll}\n ParticipantID & TypeOfQuestion & QuestionCategory & Responce\\\\\n <chr> & <chr> & <chr> & <chr>\\\\\n\\hline\n\t 492e07754c9ad10c86222a33da47dc8b & Form & education  & UniversityDegree\\\\\n\t 944d59c9102fd8ce1d8172f9f4f784c1 & Form & country2   & Limassol,Cyprus \\\\\n\t 324340a79c0baf5a321d1933c517fdae & Form & country1   & Famagusta,Cyprus\\\\\n\t 607ba9a52e718bc60069c8fee9335b1f & Form & country2   & Paphos,Cyprus   \\\\\n\t f59baae2e06fd5964a604c13b3cf48dd & Form & handedness & right           \\\\\n\t 4b4c9debd4aedeb1fd3dfc9f1cab3b0b & Form & country2   & Nicosia         \\\\\n\t 10641e1b505dda0cb82be1a8e1637c37 & Form & country1   & Nicosia,Cyprus  \\\\\n\t 25c1b946d47b93d059a2232013c51780 & Form & age        & 34              \\\\\n\t 85b0e3c5d7dcaf0e1faa81dfe283b826 & Form & country1   & Nicosia         \\\\\n\t 80163577409836e099ebe789576d7a32 & Form & age        & 29              \\\\\n\\end{tabular}\n",
            "text/plain": [
              "   ParticipantID                    TypeOfQuestion QuestionCategory\n",
              "1  492e07754c9ad10c86222a33da47dc8b Form           education       \n",
              "2  944d59c9102fd8ce1d8172f9f4f784c1 Form           country2        \n",
              "3  324340a79c0baf5a321d1933c517fdae Form           country1        \n",
              "4  607ba9a52e718bc60069c8fee9335b1f Form           country2        \n",
              "5  f59baae2e06fd5964a604c13b3cf48dd Form           handedness      \n",
              "6  4b4c9debd4aedeb1fd3dfc9f1cab3b0b Form           country2        \n",
              "7  10641e1b505dda0cb82be1a8e1637c37 Form           country1        \n",
              "8  25c1b946d47b93d059a2232013c51780 Form           age             \n",
              "9  85b0e3c5d7dcaf0e1faa81dfe283b826 Form           country1        \n",
              "10 80163577409836e099ebe789576d7a32 Form           age             \n",
              "   Responce        \n",
              "1  UniversityDegree\n",
              "2  Limassol,Cyprus \n",
              "3  Famagusta,Cyprus\n",
              "4  Paphos,Cyprus   \n",
              "5  right           \n",
              "6  Nicosia         \n",
              "7  Nicosia,Cyprus  \n",
              "8  34              \n",
              "9  Nicosia         \n",
              "10 29              "
            ]
          },
          "metadata": {}
        }
      ]
    },
    {
      "cell_type": "markdown",
      "source": [
        "## Описание данных"
      ],
      "metadata": {
        "id": "t78uqcpsXz4Q"
      }
    },
    {
      "cell_type": "markdown",
      "source": [
        "### 1.1\n",
        "Взглянем на данные mono_socio, чтобы ответить на следующие вопросы о социолингвистических характеристиках испытуемых:\n",
        "1. Сколько участников указано в датафрейме\n",
        "2. Сколько из них женщин и мужчин?\n",
        "3. Какие уровни образования указаны в датафрейме?\n",
        "4. Сколько участников каждого уровня образования?\n",
        "5. Сколько леворуких и праворуких участников?\n",
        "\n",
        "Напишите код, представляющий ответы на эти вопросы в виде одной или нескольких таблиц. Используйте функции из пакета tidyverse: filter, group_by, count and distinct. (Еще один способ - использовать pivot_wider.)"
      ],
      "metadata": {
        "id": "I8--aFHjZAYt"
      }
    },
    {
      "cell_type": "code",
      "source": [
        "# Типы вопросов в анкете\n",
        "unique(mono_socio$QuestionCategory)"
      ],
      "metadata": {
        "colab": {
          "base_uri": "https://localhost:8080/",
          "height": 34
        },
        "id": "H3El0xIXR-9a",
        "outputId": "74657886-f7aa-4e0d-87b1-56579ebd9298"
      },
      "execution_count": null,
      "outputs": [
        {
          "output_type": "display_data",
          "data": {
            "text/html": [
              "<style>\n",
              ".list-inline {list-style: none; margin:0; padding: 0}\n",
              ".list-inline>li {display: inline-block}\n",
              ".list-inline>li:not(:last-child)::after {content: \"\\00b7\"; padding: 0 .5ex}\n",
              "</style>\n",
              "<ol class=list-inline><li>'age'</li><li>'country1'</li><li>'country2'</li><li>'education'</li><li>'handedness'</li><li>'sex'</li></ol>\n"
            ],
            "text/markdown": "1. 'age'\n2. 'country1'\n3. 'country2'\n4. 'education'\n5. 'handedness'\n6. 'sex'\n\n\n",
            "text/latex": "\\begin{enumerate*}\n\\item 'age'\n\\item 'country1'\n\\item 'country2'\n\\item 'education'\n\\item 'handedness'\n\\item 'sex'\n\\end{enumerate*}\n",
            "text/plain": [
              "[1] \"age\"        \"country1\"   \"country2\"   \"education\"  \"handedness\"\n",
              "[6] \"sex\"       "
            ]
          },
          "metadata": {}
        }
      ]
    },
    {
      "cell_type": "code",
      "source": [
        "# 1. КСколько участников указано в датафрейме?\n",
        "mono_socio %>% summarise(count = n_distinct(ParticipantID))"
      ],
      "metadata": {
        "colab": {
          "base_uri": "https://localhost:8080/",
          "height": 147
        },
        "id": "R8X9JgNIRDSG",
        "outputId": "d8cb5923-7c10-4b0b-dd56-b6c552867810"
      },
      "execution_count": null,
      "outputs": [
        {
          "output_type": "display_data",
          "data": {
            "text/html": [
              "<table class=\"dataframe\">\n",
              "<caption>A tibble: 1 × 1</caption>\n",
              "<thead>\n",
              "\t<tr><th scope=col>count</th></tr>\n",
              "\t<tr><th scope=col>&lt;int&gt;</th></tr>\n",
              "</thead>\n",
              "<tbody>\n",
              "\t<tr><td>30</td></tr>\n",
              "</tbody>\n",
              "</table>\n"
            ],
            "text/markdown": "\nA tibble: 1 × 1\n\n| count &lt;int&gt; |\n|---|\n| 30 |\n\n",
            "text/latex": "A tibble: 1 × 1\n\\begin{tabular}{l}\n count\\\\\n <int>\\\\\n\\hline\n\t 30\\\\\n\\end{tabular}\n",
            "text/plain": [
              "  count\n",
              "1 30   "
            ]
          },
          "metadata": {}
        }
      ]
    },
    {
      "cell_type": "code",
      "source": [
        "# 2. Сколько из них мужчин и женщин?\n",
        "mono_socio %>%\n",
        "  filter(QuestionCategory == 'sex') %>%\n",
        "  group_by(Responce) %>%\n",
        "  summarise(count = n_distinct(ParticipantID))"
      ],
      "metadata": {
        "colab": {
          "base_uri": "https://localhost:8080/",
          "height": 161
        },
        "id": "Ke2N1g87R2o-",
        "outputId": "701371e3-d8e5-48bd-a7d5-62822f1b880e"
      },
      "execution_count": null,
      "outputs": [
        {
          "output_type": "display_data",
          "data": {
            "text/html": [
              "<table class=\"dataframe\">\n",
              "<caption>A tibble: 2 × 2</caption>\n",
              "<thead>\n",
              "\t<tr><th scope=col>Responce</th><th scope=col>count</th></tr>\n",
              "\t<tr><th scope=col>&lt;chr&gt;</th><th scope=col>&lt;int&gt;</th></tr>\n",
              "</thead>\n",
              "<tbody>\n",
              "\t<tr><td>female</td><td>19</td></tr>\n",
              "\t<tr><td>male  </td><td>11</td></tr>\n",
              "</tbody>\n",
              "</table>\n"
            ],
            "text/markdown": "\nA tibble: 2 × 2\n\n| Responce &lt;chr&gt; | count &lt;int&gt; |\n|---|---|\n| female | 19 |\n| male   | 11 |\n\n",
            "text/latex": "A tibble: 2 × 2\n\\begin{tabular}{ll}\n Responce & count\\\\\n <chr> & <int>\\\\\n\\hline\n\t female & 19\\\\\n\t male   & 11\\\\\n\\end{tabular}\n",
            "text/plain": [
              "  Responce count\n",
              "1 female   19   \n",
              "2 male     11   "
            ]
          },
          "metadata": {}
        }
      ]
    },
    {
      "cell_type": "code",
      "source": [
        "# 3. Какие уровни образования указаны в датафрейме?\n",
        "mono_socio %>%\n",
        "  filter(QuestionCategory == 'education') %>%\n",
        "  distinct(Responce)"
      ],
      "metadata": {
        "colab": {
          "base_uri": "https://localhost:8080/",
          "height": 223
        },
        "id": "RSddCY4-TT6i",
        "outputId": "e5c2490d-51c4-4f8f-b8a7-37e8196c83df"
      },
      "execution_count": null,
      "outputs": [
        {
          "output_type": "display_data",
          "data": {
            "text/html": [
              "<table class=\"dataframe\">\n",
              "<caption>A tibble: 4 × 1</caption>\n",
              "<thead>\n",
              "\t<tr><th scope=col>Responce</th></tr>\n",
              "\t<tr><th scope=col>&lt;chr&gt;</th></tr>\n",
              "</thead>\n",
              "<tbody>\n",
              "\t<tr><td>College         </td></tr>\n",
              "\t<tr><td>UniversityDegree</td></tr>\n",
              "\t<tr><td>Postgraduate    </td></tr>\n",
              "\t<tr><td>PhDongoing      </td></tr>\n",
              "</tbody>\n",
              "</table>\n"
            ],
            "text/markdown": "\nA tibble: 4 × 1\n\n| Responce &lt;chr&gt; |\n|---|\n| College          |\n| UniversityDegree |\n| Postgraduate     |\n| PhDongoing       |\n\n",
            "text/latex": "A tibble: 4 × 1\n\\begin{tabular}{l}\n Responce\\\\\n <chr>\\\\\n\\hline\n\t College         \\\\\n\t UniversityDegree\\\\\n\t Postgraduate    \\\\\n\t PhDongoing      \\\\\n\\end{tabular}\n",
            "text/plain": [
              "  Responce        \n",
              "1 College         \n",
              "2 UniversityDegree\n",
              "3 Postgraduate    \n",
              "4 PhDongoing      "
            ]
          },
          "metadata": {}
        }
      ]
    },
    {
      "cell_type": "code",
      "source": [
        "# 4. Сколько участников каждого уровня образования?\n",
        "mono_socio %>%\n",
        "  filter(QuestionCategory == 'education') %>%\n",
        "  group_by(Responce) %>%\n",
        "  summarise(count = n_distinct(ParticipantID))"
      ],
      "metadata": {
        "colab": {
          "base_uri": "https://localhost:8080/",
          "height": 223
        },
        "id": "3h_KiCJlT3qz",
        "outputId": "28cab0f0-de84-493c-bd31-29f75911969d"
      },
      "execution_count": null,
      "outputs": [
        {
          "output_type": "display_data",
          "data": {
            "text/html": [
              "<table class=\"dataframe\">\n",
              "<caption>A tibble: 4 × 2</caption>\n",
              "<thead>\n",
              "\t<tr><th scope=col>Responce</th><th scope=col>count</th></tr>\n",
              "\t<tr><th scope=col>&lt;chr&gt;</th><th scope=col>&lt;int&gt;</th></tr>\n",
              "</thead>\n",
              "<tbody>\n",
              "\t<tr><td>College         </td><td> 3</td></tr>\n",
              "\t<tr><td>PhDongoing      </td><td> 1</td></tr>\n",
              "\t<tr><td>Postgraduate    </td><td>14</td></tr>\n",
              "\t<tr><td>UniversityDegree</td><td>12</td></tr>\n",
              "</tbody>\n",
              "</table>\n"
            ],
            "text/markdown": "\nA tibble: 4 × 2\n\n| Responce &lt;chr&gt; | count &lt;int&gt; |\n|---|---|\n| College          |  3 |\n| PhDongoing       |  1 |\n| Postgraduate     | 14 |\n| UniversityDegree | 12 |\n\n",
            "text/latex": "A tibble: 4 × 2\n\\begin{tabular}{ll}\n Responce & count\\\\\n <chr> & <int>\\\\\n\\hline\n\t College          &  3\\\\\n\t PhDongoing       &  1\\\\\n\t Postgraduate     & 14\\\\\n\t UniversityDegree & 12\\\\\n\\end{tabular}\n",
            "text/plain": [
              "  Responce         count\n",
              "1 College           3   \n",
              "2 PhDongoing        1   \n",
              "3 Postgraduate     14   \n",
              "4 UniversityDegree 12   "
            ]
          },
          "metadata": {}
        }
      ]
    },
    {
      "cell_type": "code",
      "source": [
        "# 5. Сколько леворуких и праворуких участников?\n",
        "mono_socio %>%\n",
        "  filter(QuestionCategory == 'handedness') %>%\n",
        "  group_by(Responce) %>%\n",
        "  summarise(count = n_distinct(ParticipantID))"
      ],
      "metadata": {
        "colab": {
          "base_uri": "https://localhost:8080/",
          "height": 161
        },
        "id": "NQq8cfRAUEft",
        "outputId": "6ff9438d-e660-45f6-96e0-88023a1c5fa2"
      },
      "execution_count": null,
      "outputs": [
        {
          "output_type": "display_data",
          "data": {
            "text/html": [
              "<table class=\"dataframe\">\n",
              "<caption>A tibble: 2 × 2</caption>\n",
              "<thead>\n",
              "\t<tr><th scope=col>Responce</th><th scope=col>count</th></tr>\n",
              "\t<tr><th scope=col>&lt;chr&gt;</th><th scope=col>&lt;int&gt;</th></tr>\n",
              "</thead>\n",
              "<tbody>\n",
              "\t<tr><td>left </td><td> 2</td></tr>\n",
              "\t<tr><td>right</td><td>28</td></tr>\n",
              "</tbody>\n",
              "</table>\n"
            ],
            "text/markdown": "\nA tibble: 2 × 2\n\n| Responce &lt;chr&gt; | count &lt;int&gt; |\n|---|---|\n| left  |  2 |\n| right | 28 |\n\n",
            "text/latex": "A tibble: 2 × 2\n\\begin{tabular}{ll}\n Responce & count\\\\\n <chr> & <int>\\\\\n\\hline\n\t left  &  2\\\\\n\t right & 28\\\\\n\\end{tabular}\n",
            "text/plain": [
              "  Responce count\n",
              "1 left      2   \n",
              "2 right    28   "
            ]
          },
          "metadata": {}
        }
      ]
    },
    {
      "cell_type": "code",
      "source": [
        "# ответы на вопросы 2-5\n",
        "mono_socio %>%\n",
        "  select(QuestionCategory, Responce, ParticipantID) %>%\n",
        "  filter(QuestionCategory == 'sex' | QuestionCategory == 'education' | QuestionCategory == 'handedness') %>%\n",
        "  group_by(QuestionCategory, Responce) %>%\n",
        "  summarise(count = n_distinct(ParticipantID))"
      ],
      "metadata": {
        "colab": {
          "base_uri": "https://localhost:8080/",
          "height": 384
        },
        "id": "Nhck2FJrZyHJ",
        "outputId": "39e3977d-7155-4936-a127-661912c82dba"
      },
      "execution_count": null,
      "outputs": [
        {
          "output_type": "stream",
          "name": "stderr",
          "text": [
            "\u001b[1m\u001b[22m`summarise()` has grouped output by 'QuestionCategory'. You can override using\n",
            "the `.groups` argument.\n"
          ]
        },
        {
          "output_type": "display_data",
          "data": {
            "text/html": [
              "<table class=\"dataframe\">\n",
              "<caption>A grouped_df: 8 × 3</caption>\n",
              "<thead>\n",
              "\t<tr><th scope=col>QuestionCategory</th><th scope=col>Responce</th><th scope=col>count</th></tr>\n",
              "\t<tr><th scope=col>&lt;chr&gt;</th><th scope=col>&lt;chr&gt;</th><th scope=col>&lt;int&gt;</th></tr>\n",
              "</thead>\n",
              "<tbody>\n",
              "\t<tr><td>education </td><td>College         </td><td> 3</td></tr>\n",
              "\t<tr><td>education </td><td>PhDongoing      </td><td> 1</td></tr>\n",
              "\t<tr><td>education </td><td>Postgraduate    </td><td>14</td></tr>\n",
              "\t<tr><td>education </td><td>UniversityDegree</td><td>12</td></tr>\n",
              "\t<tr><td>handedness</td><td>left            </td><td> 2</td></tr>\n",
              "\t<tr><td>handedness</td><td>right           </td><td>28</td></tr>\n",
              "\t<tr><td>sex       </td><td>female          </td><td>19</td></tr>\n",
              "\t<tr><td>sex       </td><td>male            </td><td>11</td></tr>\n",
              "</tbody>\n",
              "</table>\n"
            ],
            "text/markdown": "\nA grouped_df: 8 × 3\n\n| QuestionCategory &lt;chr&gt; | Responce &lt;chr&gt; | count &lt;int&gt; |\n|---|---|---|\n| education  | College          |  3 |\n| education  | PhDongoing       |  1 |\n| education  | Postgraduate     | 14 |\n| education  | UniversityDegree | 12 |\n| handedness | left             |  2 |\n| handedness | right            | 28 |\n| sex        | female           | 19 |\n| sex        | male             | 11 |\n\n",
            "text/latex": "A grouped\\_df: 8 × 3\n\\begin{tabular}{lll}\n QuestionCategory & Responce & count\\\\\n <chr> & <chr> & <int>\\\\\n\\hline\n\t education  & College          &  3\\\\\n\t education  & PhDongoing       &  1\\\\\n\t education  & Postgraduate     & 14\\\\\n\t education  & UniversityDegree & 12\\\\\n\t handedness & left             &  2\\\\\n\t handedness & right            & 28\\\\\n\t sex        & female           & 19\\\\\n\t sex        & male             & 11\\\\\n\\end{tabular}\n",
            "text/plain": [
              "  QuestionCategory Responce         count\n",
              "1 education        College           3   \n",
              "2 education        PhDongoing        1   \n",
              "3 education        Postgraduate     14   \n",
              "4 education        UniversityDegree 12   \n",
              "5 handedness       left              2   \n",
              "6 handedness       right            28   \n",
              "7 sex              female           19   \n",
              "8 sex              male             11   "
            ]
          },
          "metadata": {}
        }
      ]
    },
    {
      "cell_type": "markdown",
      "source": [
        "### 1.2\n",
        "Сравните полученную информацию с данными из таблицы 1 в статье. Можно ли сказать, что данные, которые вы загрузили по ссылке, позволяют воспроизвести результаты этого исследования?"
      ],
      "metadata": {
        "id": "7nZGUHQ4ZSsL"
      }
    },
    {
      "cell_type": "markdown",
      "source": [
        "```\n",
        "Исследование состояло из двух экспериментов, в которых участвовали разные\n",
        "группы респондентов. В статье в таблице 1 приведены данные о группе 1 --\n",
        "monolinguals, которые участвовали в эксперименте 1, а в таблице 2 -- данные\n",
        "о группе bidialectals, участвовавшей в эксперименте 2. Данные из таблицы mono_socio\n",
        "нельзя сопоставить с таблицей 1 в статье, так как в эксперименте 1 участвовало\n",
        "140 респондентов, а в mono_socio их всего 30. С другой стороны, из совпадения общего\n",
        "количества участников, а также одинаковой численности категорий пола и\n",
        "доминирующей руки, мы можем предположить, что в mono_socio содержатся данные о группе\n",
        "2 -- bidialectals.\n",
        "\n",
        "Также в статье приведены два уровня образования -- secondary и tertiary,\n",
        "тогда как в mono участники рапределены между четырьмя категориями.\n",
        "\n",
        "Все вышеизложенное не позволяет воспроизвести результаты данного исследования.\n",
        "```"
      ],
      "metadata": {
        "id": "SzRTomPgapzz"
      }
    },
    {
      "cell_type": "markdown",
      "source": [
        "\n",
        "### 1.3\n",
        "\n",
        "Постройте график плотности, который показывает распределение RT в эксперименте в целом (для всех участников и условий. Отобразите красным пунктиром линию, показывающую среднее значение RT.\n"
      ],
      "metadata": {
        "id": "T7QCgvGAZZvJ"
      }
    },
    {
      "cell_type": "code",
      "source": [
        "options(repr.plot.width=12, repr.plot.height=8)\n",
        "\n",
        "mean_ <- mono %>%\n",
        "  summarize(mean = mean(RT))\n",
        "\n",
        "mono %>%\n",
        "  ggplot(aes(RT)) +\n",
        "   geom_density() +\n",
        "    geom_vline(data = mean_, aes(xintercept = mean), color='red', linetype='dashed') +\n",
        "   theme_bw() +\n",
        "    xlab(\"Время реакции\") + ylab(\"Плотность распределения\") +\n",
        "    ggtitle(\"График плотности распределения времени реакции\")"
      ],
      "metadata": {
        "colab": {
          "base_uri": "https://localhost:8080/",
          "height": 497
        },
        "id": "At8nMTlaktYQ",
        "outputId": "ce099c05-67d0-49c0-e579-fcd0bab3630b"
      },
      "execution_count": null,
      "outputs": [
        {
          "output_type": "display_data",
          "data": {
            "text/plain": [
              "plot without title"
            ],
            "image/png": "[encoded data removed]"
          },
          "metadata": {
            "image/png": {
              "width": 720,
              "height": 480
            }
          }
        }
      ]
    },
    {
      "cell_type": "markdown",
      "source": [
        "### 1.4\n",
        "\n",
        "Верно ли, что данные времени реакции нормально распределены? Есть ли в распределении длинные левые или правые хвосты??"
      ],
      "metadata": {
        "id": "fsKcezZtZgtb"
      }
    },
    {
      "cell_type": "markdown",
      "source": [
        "```\n",
        "Время реакции распределено ненормально и имеет правый хвост\n",
        "```"
      ],
      "metadata": {
        "id": "LNpUwNiGovga"
      }
    },
    {
      "cell_type": "markdown",
      "source": [
        "### 1.5\n",
        "\n",
        "Преобразуйте данные с помощью функциии логарифма (RTlog = log10(RT)).\n"
      ],
      "metadata": {
        "id": "r4wtOnZHZrif"
      }
    },
    {
      "cell_type": "code",
      "source": [
        "mono$RTlog <- log10(mono$RT)\n",
        "dplyr::sample_n(mono, 10)"
      ],
      "metadata": {
        "colab": {
          "base_uri": "https://localhost:8080/",
          "height": 412
        },
        "id": "ll2JOKBPpVG9",
        "outputId": "e9e3a6c5-c406-49fd-c7b5-2ca1dd2d86be"
      },
      "execution_count": null,
      "outputs": [
        {
          "output_type": "display_data",
          "data": {
            "text/html": [
              "<table class=\"dataframe\">\n",
              "<caption>A tibble: 10 × 7</caption>\n",
              "<thead>\n",
              "\t<tr><th scope=col>ParticipantID</th><th scope=col>TypeOfQuestion</th><th scope=col>TypeOfStimuli</th><th scope=col>WordOrder</th><th scope=col>ResponseAcceptabilityJudgement</th><th scope=col>RT</th><th scope=col>RTlog</th></tr>\n",
              "\t<tr><th scope=col>&lt;fct&gt;</th><th scope=col>&lt;fct&gt;</th><th scope=col>&lt;fct&gt;</th><th scope=col>&lt;fct&gt;</th><th scope=col>&lt;fct&gt;</th><th scope=col>&lt;dbl&gt;</th><th scope=col>&lt;dbl&gt;</th></tr>\n",
              "</thead>\n",
              "<tbody>\n",
              "\t<tr><td>a3e41dd74593a4f845aa2db64a262c4e  </td><td>AcceptabilityJudgement</td><td>FillerAcceptable          </td><td>Incongruent</td><td>Correct</td><td>2720</td><td>3.434569</td></tr>\n",
              "\t<tr><td>39a7c64bb9ce89f113bbc219cb7419e1-2</td><td>AcceptabilityJudgement</td><td>FillerUnacceptable        </td><td>Congruent  </td><td>Wrong  </td><td>2240</td><td>3.350248</td></tr>\n",
              "\t<tr><td>ce251e843b9616ee6d11d1574a961e4c  </td><td>AcceptabilityJudgement</td><td>FillerAcceptable          </td><td>Congruent  </td><td>Correct</td><td>2406</td><td>3.381296</td></tr>\n",
              "\t<tr><td>e53d93839add0f8ecb8db112d5b2c956  </td><td>AcceptabilityJudgement</td><td>SubjectiveComment-Material</td><td>Incongruent</td><td>Correct</td><td>2267</td><td>3.355452</td></tr>\n",
              "\t<tr><td>ffb247049b32eea1ca01866adae318b6  </td><td>AcceptabilityJudgement</td><td>FillerAcceptable          </td><td>Incongruent</td><td>Correct</td><td>2239</td><td>3.350054</td></tr>\n",
              "\t<tr><td>066f8885734d3b91f905df8c23195a27  </td><td>AcceptabilityJudgement</td><td>FillerUnacceptable        </td><td>NA         </td><td>Wrong  </td><td>2142</td><td>3.330819</td></tr>\n",
              "\t<tr><td>4951f0210095ea9bfe65ee78531e81f3  </td><td>AcceptabilityJudgement</td><td>FillerUnacceptable        </td><td>Congruent  </td><td>Wrong  </td><td>3502</td><td>3.544316</td></tr>\n",
              "\t<tr><td>d46d5b7e6b0bc074e73ba187fee50891  </td><td>AcceptabilityJudgement</td><td>FillerUnacceptable        </td><td>Congruent  </td><td>Wrong  </td><td>1642</td><td>3.215373</td></tr>\n",
              "\t<tr><td>9ad98d7a34a4ba3652efd5cf754c1b41  </td><td>AcceptabilityJudgement</td><td>FillerAcceptable          </td><td>Congruent  </td><td>Correct</td><td>2058</td><td>3.313445</td></tr>\n",
              "\t<tr><td>612f7c17bf0bf7773bd141745eb7d425  </td><td>AcceptabilityJudgement</td><td>Shape-Color               </td><td>Congruent  </td><td>Correct</td><td>1268</td><td>3.103119</td></tr>\n",
              "</tbody>\n",
              "</table>\n"
            ],
            "text/markdown": "\nA tibble: 10 × 7\n\n| ParticipantID &lt;fct&gt; | TypeOfQuestion &lt;fct&gt; | TypeOfStimuli &lt;fct&gt; | WordOrder &lt;fct&gt; | ResponseAcceptabilityJudgement &lt;fct&gt; | RT &lt;dbl&gt; | RTlog &lt;dbl&gt; |\n|---|---|---|---|---|---|---|\n| a3e41dd74593a4f845aa2db64a262c4e   | AcceptabilityJudgement | FillerAcceptable           | Incongruent | Correct | 2720 | 3.434569 |\n| 39a7c64bb9ce89f113bbc219cb7419e1-2 | AcceptabilityJudgement | FillerUnacceptable         | Congruent   | Wrong   | 2240 | 3.350248 |\n| ce251e843b9616ee6d11d1574a961e4c   | AcceptabilityJudgement | FillerAcceptable           | Congruent   | Correct | 2406 | 3.381296 |\n| e53d93839add0f8ecb8db112d5b2c956   | AcceptabilityJudgement | SubjectiveComment-Material | Incongruent | Correct | 2267 | 3.355452 |\n| ffb247049b32eea1ca01866adae318b6   | AcceptabilityJudgement | FillerAcceptable           | Incongruent | Correct | 2239 | 3.350054 |\n| 066f8885734d3b91f905df8c23195a27   | AcceptabilityJudgement | FillerUnacceptable         | NA          | Wrong   | 2142 | 3.330819 |\n| 4951f0210095ea9bfe65ee78531e81f3   | AcceptabilityJudgement | FillerUnacceptable         | Congruent   | Wrong   | 3502 | 3.544316 |\n| d46d5b7e6b0bc074e73ba187fee50891   | AcceptabilityJudgement | FillerUnacceptable         | Congruent   | Wrong   | 1642 | 3.215373 |\n| 9ad98d7a34a4ba3652efd5cf754c1b41   | AcceptabilityJudgement | FillerAcceptable           | Congruent   | Correct | 2058 | 3.313445 |\n| 612f7c17bf0bf7773bd141745eb7d425   | AcceptabilityJudgement | Shape-Color                | Congruent   | Correct | 1268 | 3.103119 |\n\n",
            "text/latex": "A tibble: 10 × 7\n\\begin{tabular}{lllllll}\n ParticipantID & TypeOfQuestion & TypeOfStimuli & WordOrder & ResponseAcceptabilityJudgement & RT & RTlog\\\\\n <fct> & <fct> & <fct> & <fct> & <fct> & <dbl> & <dbl>\\\\\n\\hline\n\t a3e41dd74593a4f845aa2db64a262c4e   & AcceptabilityJudgement & FillerAcceptable           & Incongruent & Correct & 2720 & 3.434569\\\\\n\t 39a7c64bb9ce89f113bbc219cb7419e1-2 & AcceptabilityJudgement & FillerUnacceptable         & Congruent   & Wrong   & 2240 & 3.350248\\\\\n\t ce251e843b9616ee6d11d1574a961e4c   & AcceptabilityJudgement & FillerAcceptable           & Congruent   & Correct & 2406 & 3.381296\\\\\n\t e53d93839add0f8ecb8db112d5b2c956   & AcceptabilityJudgement & SubjectiveComment-Material & Incongruent & Correct & 2267 & 3.355452\\\\\n\t ffb247049b32eea1ca01866adae318b6   & AcceptabilityJudgement & FillerAcceptable           & Incongruent & Correct & 2239 & 3.350054\\\\\n\t 066f8885734d3b91f905df8c23195a27   & AcceptabilityJudgement & FillerUnacceptable         & NA          & Wrong   & 2142 & 3.330819\\\\\n\t 4951f0210095ea9bfe65ee78531e81f3   & AcceptabilityJudgement & FillerUnacceptable         & Congruent   & Wrong   & 3502 & 3.544316\\\\\n\t d46d5b7e6b0bc074e73ba187fee50891   & AcceptabilityJudgement & FillerUnacceptable         & Congruent   & Wrong   & 1642 & 3.215373\\\\\n\t 9ad98d7a34a4ba3652efd5cf754c1b41   & AcceptabilityJudgement & FillerAcceptable           & Congruent   & Correct & 2058 & 3.313445\\\\\n\t 612f7c17bf0bf7773bd141745eb7d425   & AcceptabilityJudgement & Shape-Color                & Congruent   & Correct & 1268 & 3.103119\\\\\n\\end{tabular}\n",
            "text/plain": [
              "   ParticipantID                      TypeOfQuestion        \n",
              "1  a3e41dd74593a4f845aa2db64a262c4e   AcceptabilityJudgement\n",
              "2  39a7c64bb9ce89f113bbc219cb7419e1-2 AcceptabilityJudgement\n",
              "3  ce251e843b9616ee6d11d1574a961e4c   AcceptabilityJudgement\n",
              "4  e53d93839add0f8ecb8db112d5b2c956   AcceptabilityJudgement\n",
              "5  ffb247049b32eea1ca01866adae318b6   AcceptabilityJudgement\n",
              "6  066f8885734d3b91f905df8c23195a27   AcceptabilityJudgement\n",
              "7  4951f0210095ea9bfe65ee78531e81f3   AcceptabilityJudgement\n",
              "8  d46d5b7e6b0bc074e73ba187fee50891   AcceptabilityJudgement\n",
              "9  9ad98d7a34a4ba3652efd5cf754c1b41   AcceptabilityJudgement\n",
              "10 612f7c17bf0bf7773bd141745eb7d425   AcceptabilityJudgement\n",
              "   TypeOfStimuli              WordOrder   ResponseAcceptabilityJudgement RT  \n",
              "1  FillerAcceptable           Incongruent Correct                        2720\n",
              "2  FillerUnacceptable         Congruent   Wrong                          2240\n",
              "3  FillerAcceptable           Congruent   Correct                        2406\n",
              "4  SubjectiveComment-Material Incongruent Correct                        2267\n",
              "5  FillerAcceptable           Incongruent Correct                        2239\n",
              "6  FillerUnacceptable         NA          Wrong                          2142\n",
              "7  FillerUnacceptable         Congruent   Wrong                          3502\n",
              "8  FillerUnacceptable         Congruent   Wrong                          1642\n",
              "9  FillerAcceptable           Congruent   Correct                        2058\n",
              "10 Shape-Color                Congruent   Correct                        1268\n",
              "   RTlog   \n",
              "1  3.434569\n",
              "2  3.350248\n",
              "3  3.381296\n",
              "4  3.355452\n",
              "5  3.350054\n",
              "6  3.330819\n",
              "7  3.544316\n",
              "8  3.215373\n",
              "9  3.313445\n",
              "10 3.103119"
            ]
          },
          "metadata": {}
        }
      ]
    },
    {
      "cell_type": "markdown",
      "source": [
        "### 1.6\n",
        "\n",
        "Создайте график, похожий на 1.3, но показывающий логарифимированные значения RT.\n"
      ],
      "metadata": {
        "id": "UDvEVsPMZzdt"
      }
    },
    {
      "cell_type": "code",
      "source": [
        "options(repr.plot.width=12, repr.plot.height=8)\n",
        "\n",
        "mean_ <- mono %>%\n",
        "  summarize(mean = mean(RTlog))\n",
        "\n",
        "mono %>%\n",
        "  ggplot(aes(RTlog)) +\n",
        "   geom_density() +\n",
        "    geom_vline(data = mean_, aes(xintercept = mean), color='red', linetype='dashed') +\n",
        "   theme_bw() +\n",
        "    xlab(\"log(Время реакции)\") + ylab(\"Плотность распределения\") +\n",
        "    ggtitle(\"График плотности распределения логарифма времени реакции\")"
      ],
      "metadata": {
        "colab": {
          "base_uri": "https://localhost:8080/",
          "height": 497
        },
        "id": "ibHVsLnhp3T5",
        "outputId": "bb8a20f9-61dd-4121-d7e8-881d0ba13c1e"
      },
      "execution_count": null,
      "outputs": [
        {
          "output_type": "display_data",
          "data": {
            "text/plain": [
              "plot without title"
            ],
            "image/png": "[encoded data removed]"
          },
          "metadata": {
            "image/png": {
              "width": 720,
              "height": 480
            }
          }
        }
      ]
    },
    {
      "cell_type": "markdown",
      "source": [
        "### 1.7\n",
        "\n",
        "Отфильтруйте выбросы:\n",
        "* автоматические ответы, время реакции на которые меньше 600 ms (будем полагать, что кнопка была нажата слишком быстро, еще до того, как у участника было достаточно времени рассмотреть показанный ему стимул и принять решение);\n",
        "* ответы, в которых RTlog отличается от среднего значения RTlog более, чем на 3 стандартных отклонения (SD);\n",
        "* филлеры (как приемлемые, так и неприемлемые).\n",
        "Сохраните очищенные от выбросов данные в переменную mono1.\n"
      ],
      "metadata": {
        "id": "fa31S9RBZ2de"
      }
    },
    {
      "cell_type": "code",
      "source": [
        "#  Среднее значение RTlog\n",
        "mean_ <- mono %>%\n",
        "  summarize(mean = mean(RTlog))\n",
        "\n",
        "# Стандартное отклонение RTlog\n",
        "std_ <- mono %>%\n",
        "  summarize(std = sd(RTlog))\n",
        "\n",
        "# Очищенные от выбросов данные\n",
        "mono1 <- mono %>%\n",
        "  filter(RT>=600 & between(RTlog, (mean_ - 3*std_) %>% pull(mean), (mean_ + 3*std_) %>% pull(mean)) & TypeOfStimuli != 'FillerUnacceptable' & TypeOfStimuli != 'FillerAcceptable' )\n",
        "\n",
        "glimpse(mono1)"
      ],
      "metadata": {
        "colab": {
          "base_uri": "https://localhost:8080/"
        },
        "id": "yI-Ao3yIqNmV",
        "outputId": "4d115197-0014-4daa-9c86-4fcd3df8594e"
      },
      "execution_count": null,
      "outputs": [
        {
          "output_type": "stream",
          "name": "stdout",
          "text": [
            "Rows: 2,488\n",
            "Columns: 7\n",
            "$ ParticipantID                  \u001b[3m\u001b[90m<fct>\u001b[39m\u001b[23m 00e0b159cf5b9abcc73b92506d8b1c38, 00e0b…\n",
            "$ TypeOfQuestion                 \u001b[3m\u001b[90m<fct>\u001b[39m\u001b[23m AcceptabilityJudgement, AcceptabilityJu…\n",
            "$ TypeOfStimuli                  \u001b[3m\u001b[90m<fct>\u001b[39m\u001b[23m Size-Nationality, Size-Nationality, Siz…\n",
            "$ WordOrder                      \u001b[3m\u001b[90m<fct>\u001b[39m\u001b[23m Congruent, Incongruent, Congruent, Inco…\n",
            "$ ResponseAcceptabilityJudgement \u001b[3m\u001b[90m<fct>\u001b[39m\u001b[23m Correct, Correct, Correct, Correct, Cor…\n",
            "$ RT                             \u001b[3m\u001b[90m<dbl>\u001b[39m\u001b[23m 1591, 5504, 1333, 1543, 1815, 3059, 170…\n",
            "$ RTlog                          \u001b[3m\u001b[90m<dbl>\u001b[39m\u001b[23m 3.201670, 3.740678, 3.124830, 3.188366,…\n"
          ]
        }
      ]
    },
    {
      "cell_type": "markdown",
      "source": [
        "### 1.8 Тест на разницу средних\n",
        "\n",
        "Проанализируйте разницу в среднем значении RTlog у двух групп (порядок слов в стимуле: конгруэнтный vs неконгруэнтный). Сформулируйте нулевую и альтернативную гипотезу, аргументируйте, какой тип t-test’а или его аналогов следует применить, сделайте статистический и содержательный вывод о значимости различия."
      ],
      "metadata": {
        "id": "v5qYt3MkZ7Fu"
      }
    },
    {
      "cell_type": "code",
      "source": [
        "options(repr.plot.width=12, repr.plot.height=8)\n",
        "\n",
        "# Вычисляем среднее значение RT для выборки без выбросов с конгруэнтным порядком слов\n",
        "mean_congr <- mono1 %>%\n",
        "  filter(WordOrder == 'Congruent') %>%\n",
        "  summarize(mean = mean(RTlog))\n",
        "\n",
        "# Вычисляем среднее значение RT для выборки без выбросов с неконгруэнтным порядком слов\n",
        "mean_incongr <- mono1 %>%\n",
        "  filter(WordOrder == 'Incongruent') %>%\n",
        "  summarize(mean = mean(RTlog))\n",
        "\n",
        "means_ <- mono1 %>%\n",
        "  drop_na(WordOrder) %>%\n",
        "  group_by(WordOrder) %>%\n",
        "  summarize(mean = mean(RTlog))\n",
        "\n",
        "mono1 %>%\n",
        "  drop_na(WordOrder) %>%\n",
        "  ggplot(aes(RTlog, fill=WordOrder)) +\n",
        "   geom_density(alpha=0.5) +\n",
        "    geom_vline(data = means_,aes(xintercept = mean, color=WordOrder), linetype='dashed') +\n",
        "   theme_bw() +\n",
        "    xlab(\"log(Время реакции)\") + ylab(\"Плотность распределения\") +\n",
        "    ggtitle(\"График плотности распределения логарифма времени реакции\")"
      ],
      "metadata": {
        "colab": {
          "base_uri": "https://localhost:8080/",
          "height": 497
        },
        "id": "fyEndsriuv6a",
        "outputId": "9ac98927-297b-46fe-8a82-226d85591c99"
      },
      "execution_count": null,
      "outputs": [
        {
          "output_type": "display_data",
          "data": {
            "text/plain": [
              "plot without title"
            ],
            "image/png": "[encoded data removed]"
          },
          "metadata": {
            "image/png": {
              "width": 720,
              "height": 480
            }
          }
        }
      ]
    },
    {
      "cell_type": "code",
      "source": [
        "# тест на нормальность\n",
        "mono1 %>%\n",
        "  group_by(WordOrder) %>%\n",
        "  shapiro_test(RTlog)"
      ],
      "metadata": {
        "colab": {
          "base_uri": "https://localhost:8080/",
          "height": 161
        },
        "id": "Iv_KFS9Wb76m",
        "outputId": "481ba08c-dcd7-4b5d-de28-7d182571c9d6"
      },
      "execution_count": null,
      "outputs": [
        {
          "output_type": "display_data",
          "data": {
            "text/html": [
              "<table class=\"dataframe\">\n",
              "<caption>A tibble: 2 × 4</caption>\n",
              "<thead>\n",
              "\t<tr><th scope=col>WordOrder</th><th scope=col>variable</th><th scope=col>statistic</th><th scope=col>p</th></tr>\n",
              "\t<tr><th scope=col>&lt;fct&gt;</th><th scope=col>&lt;chr&gt;</th><th scope=col>&lt;dbl&gt;</th><th scope=col>&lt;dbl&gt;</th></tr>\n",
              "</thead>\n",
              "<tbody>\n",
              "\t<tr><td>Congruent  </td><td>RTlog</td><td>0.9768832</td><td>2.975087e-13</td></tr>\n",
              "\t<tr><td>Incongruent</td><td>RTlog</td><td>0.9850204</td><td>5.393994e-10</td></tr>\n",
              "</tbody>\n",
              "</table>\n"
            ],
            "text/markdown": "\nA tibble: 2 × 4\n\n| WordOrder &lt;fct&gt; | variable &lt;chr&gt; | statistic &lt;dbl&gt; | p &lt;dbl&gt; |\n|---|---|---|---|\n| Congruent   | RTlog | 0.9768832 | 2.975087e-13 |\n| Incongruent | RTlog | 0.9850204 | 5.393994e-10 |\n\n",
            "text/latex": "A tibble: 2 × 4\n\\begin{tabular}{llll}\n WordOrder & variable & statistic & p\\\\\n <fct> & <chr> & <dbl> & <dbl>\\\\\n\\hline\n\t Congruent   & RTlog & 0.9768832 & 2.975087e-13\\\\\n\t Incongruent & RTlog & 0.9850204 & 5.393994e-10\\\\\n\\end{tabular}\n",
            "text/plain": [
              "  WordOrder   variable statistic p           \n",
              "1 Congruent   RTlog    0.9768832 2.975087e-13\n",
              "2 Incongruent RTlog    0.9850204 5.393994e-10"
            ]
          },
          "metadata": {}
        }
      ]
    },
    {
      "cell_type": "markdown",
      "source": [
        "```\n",
        "p-value < 0.05 -> мы можем сделать вывод, что оба распределения значительно отличаются от нормального\n",
        "```"
      ],
      "metadata": {
        "id": "a22XVTcJcR-f"
      }
    },
    {
      "cell_type": "markdown",
      "source": [
        "```\n",
        "H0: Среднее время реакции при конгруэнтном порядке слов равно времени реакции\n",
        "при неконгруэнтном.\n",
        "H1: Среднее время реакции при конгруэнтном порядке слов НЕ равно времени\n",
        "реакции при неконгруэнтном.\n",
        "\n",
        "Для проверки гипотезы стоит использовать непараметрический t-test Манна-Уитни,\n",
        "поскольку для нашей выборки не удовлетворяется требование независимости: в\n",
        "эксперименте с испытуемых собиралось по несколько наблюдений. Также распределение\n",
        "не нормально.\n",
        "```"
      ],
      "metadata": {
        "id": "uXYahtgiymzU"
      }
    },
    {
      "cell_type": "code",
      "source": [
        "mono_congr <- mono1 %>% filter(WordOrder == 'Congruent')\n",
        "mono_incongr <- mono1 %>% filter(WordOrder == 'Incongruent')\n",
        "\n",
        "wilcox.test(mono_congr$RTlog, mono_incongr$RTlog)"
      ],
      "metadata": {
        "colab": {
          "base_uri": "https://localhost:8080/",
          "height": 121
        },
        "id": "IZVjdW9R0lJf",
        "outputId": "34b15b96-6b7b-4f2b-dcab-161dd8d8edb2"
      },
      "execution_count": null,
      "outputs": [
        {
          "output_type": "display_data",
          "data": {
            "text/plain": [
              "\n",
              "\tWilcoxon rank sum test with continuity correction\n",
              "\n",
              "data:  mono_congr$RTlog and mono_incongr$RTlog\n",
              "W = 743142, p-value = 0.0875\n",
              "alternative hypothesis: true location shift is not equal to 0\n"
            ]
          },
          "metadata": {}
        }
      ]
    },
    {
      "cell_type": "markdown",
      "source": [
        "```\n",
        "Согласно результатам теста Манна-Уитни, мы не можем отвергнуть H0 (среднее время\n",
        "реакции при конгруэнтном и неконгруэнтном порядке слов равны), поскольку между\n",
        "двумя статистиками нет статистически значимой разницы, p-value > 0.05.\n",
        "```"
      ],
      "metadata": {
        "id": "iIKwVUqN-BWm"
      }
    },
    {
      "cell_type": "markdown",
      "source": [
        "###1.9\n",
        "\n",
        "ANOVA. Проанализируйте разницу в среднем значении RTlog, сгруппировав данные по трем условиям (прилагательное размера > прилагательное национальности, прилагательное цвета > прилагательное формы, прилагательное субъективного комментария > прилагательное материала) и по участнику. Сформулируйте нулевую и альтернативную гипотезу, аргументируйте, какой тип дисперсионного анализа следует применить, сделайте статистический и содержательный вывод о значимости различия. Это задание выполняется только для ответов при порядке слов Incongruent."
      ],
      "metadata": {
        "id": "sKWJ1lB6aCE5"
      }
    },
    {
      "cell_type": "code",
      "source": [
        "mono1_inc <- mono1 %>% filter(WordOrder == 'Incongruent')\n",
        "dplyr::sample_n(mono1_inc,10)"
      ],
      "metadata": {
        "colab": {
          "base_uri": "https://localhost:8080/",
          "height": 412
        },
        "id": "dYBtzj0yAgb2",
        "outputId": "f9b2ca52-7c53-4dbd-8cba-b82ac75a5224"
      },
      "execution_count": null,
      "outputs": [
        {
          "output_type": "display_data",
          "data": {
            "text/html": [
              "<table class=\"dataframe\">\n",
              "<caption>A tibble: 10 × 7</caption>\n",
              "<thead>\n",
              "\t<tr><th scope=col>ParticipantID</th><th scope=col>TypeOfQuestion</th><th scope=col>TypeOfStimuli</th><th scope=col>WordOrder</th><th scope=col>ResponseAcceptabilityJudgement</th><th scope=col>RT</th><th scope=col>RTlog</th></tr>\n",
              "\t<tr><th scope=col>&lt;fct&gt;</th><th scope=col>&lt;fct&gt;</th><th scope=col>&lt;fct&gt;</th><th scope=col>&lt;fct&gt;</th><th scope=col>&lt;fct&gt;</th><th scope=col>&lt;dbl&gt;</th><th scope=col>&lt;dbl&gt;</th></tr>\n",
              "</thead>\n",
              "<tbody>\n",
              "\t<tr><td>eced84d70c1016fe3f5ede70be0a89c6</td><td>AcceptabilityJudgement</td><td>SubjectiveComment-Material</td><td>Incongruent</td><td>Correct</td><td>2476</td><td>3.393751</td></tr>\n",
              "\t<tr><td>066f8885734d3b91f905df8c23195a27</td><td>AcceptabilityJudgement</td><td>Size-Nationality          </td><td>Incongruent</td><td>Correct</td><td>2943</td><td>3.468790</td></tr>\n",
              "\t<tr><td>9ad98d7a34a4ba3652efd5cf754c1b41</td><td>AcceptabilityJudgement</td><td>Shape-Color               </td><td>Incongruent</td><td>Correct</td><td>2539</td><td>3.404663</td></tr>\n",
              "\t<tr><td>8410b44996904d016f3bb66cedeb30fc</td><td>AcceptabilityJudgement</td><td>Shape-Color               </td><td>Incongruent</td><td>Correct</td><td>3707</td><td>3.569023</td></tr>\n",
              "\t<tr><td>8c8d0e30c553e841021f3cba2651483b</td><td>AcceptabilityJudgement</td><td>Shape-Color               </td><td>Incongruent</td><td>Correct</td><td>2179</td><td>3.338257</td></tr>\n",
              "\t<tr><td>9db83f76362a21c9afde940c066cef44</td><td>AcceptabilityJudgement</td><td>SubjectiveComment-Material</td><td>Incongruent</td><td>Correct</td><td>7926</td><td>3.899054</td></tr>\n",
              "\t<tr><td>c932c8533913fa29eb08b0cca03e8d2d</td><td>AcceptabilityJudgement</td><td>Shape-Color               </td><td>Incongruent</td><td>Correct</td><td>4388</td><td>3.642267</td></tr>\n",
              "\t<tr><td>5ea1e5d9aa9b949b314eb9e8df5116bd</td><td>AcceptabilityJudgement</td><td>Size-Nationality          </td><td>Incongruent</td><td>Correct</td><td>1793</td><td>3.253580</td></tr>\n",
              "\t<tr><td>76b9c1df8428c17e2e42a54510a30ca1</td><td>AcceptabilityJudgement</td><td>Shape-Color               </td><td>Incongruent</td><td>Correct</td><td>1121</td><td>3.049606</td></tr>\n",
              "\t<tr><td>224978a11aee4355d6d515c16801a4e8</td><td>AcceptabilityJudgement</td><td>Shape-Color               </td><td>Incongruent</td><td>Correct</td><td>4214</td><td>3.624695</td></tr>\n",
              "</tbody>\n",
              "</table>\n"
            ],
            "text/markdown": "\nA tibble: 10 × 7\n\n| ParticipantID &lt;fct&gt; | TypeOfQuestion &lt;fct&gt; | TypeOfStimuli &lt;fct&gt; | WordOrder &lt;fct&gt; | ResponseAcceptabilityJudgement &lt;fct&gt; | RT &lt;dbl&gt; | RTlog &lt;dbl&gt; |\n|---|---|---|---|---|---|---|\n| eced84d70c1016fe3f5ede70be0a89c6 | AcceptabilityJudgement | SubjectiveComment-Material | Incongruent | Correct | 2476 | 3.393751 |\n| 066f8885734d3b91f905df8c23195a27 | AcceptabilityJudgement | Size-Nationality           | Incongruent | Correct | 2943 | 3.468790 |\n| 9ad98d7a34a4ba3652efd5cf754c1b41 | AcceptabilityJudgement | Shape-Color                | Incongruent | Correct | 2539 | 3.404663 |\n| 8410b44996904d016f3bb66cedeb30fc | AcceptabilityJudgement | Shape-Color                | Incongruent | Correct | 3707 | 3.569023 |\n| 8c8d0e30c553e841021f3cba2651483b | AcceptabilityJudgement | Shape-Color                | Incongruent | Correct | 2179 | 3.338257 |\n| 9db83f76362a21c9afde940c066cef44 | AcceptabilityJudgement | SubjectiveComment-Material | Incongruent | Correct | 7926 | 3.899054 |\n| c932c8533913fa29eb08b0cca03e8d2d | AcceptabilityJudgement | Shape-Color                | Incongruent | Correct | 4388 | 3.642267 |\n| 5ea1e5d9aa9b949b314eb9e8df5116bd | AcceptabilityJudgement | Size-Nationality           | Incongruent | Correct | 1793 | 3.253580 |\n| 76b9c1df8428c17e2e42a54510a30ca1 | AcceptabilityJudgement | Shape-Color                | Incongruent | Correct | 1121 | 3.049606 |\n| 224978a11aee4355d6d515c16801a4e8 | AcceptabilityJudgement | Shape-Color                | Incongruent | Correct | 4214 | 3.624695 |\n\n",
            "text/latex": "A tibble: 10 × 7\n\\begin{tabular}{lllllll}\n ParticipantID & TypeOfQuestion & TypeOfStimuli & WordOrder & ResponseAcceptabilityJudgement & RT & RTlog\\\\\n <fct> & <fct> & <fct> & <fct> & <fct> & <dbl> & <dbl>\\\\\n\\hline\n\t eced84d70c1016fe3f5ede70be0a89c6 & AcceptabilityJudgement & SubjectiveComment-Material & Incongruent & Correct & 2476 & 3.393751\\\\\n\t 066f8885734d3b91f905df8c23195a27 & AcceptabilityJudgement & Size-Nationality           & Incongruent & Correct & 2943 & 3.468790\\\\\n\t 9ad98d7a34a4ba3652efd5cf754c1b41 & AcceptabilityJudgement & Shape-Color                & Incongruent & Correct & 2539 & 3.404663\\\\\n\t 8410b44996904d016f3bb66cedeb30fc & AcceptabilityJudgement & Shape-Color                & Incongruent & Correct & 3707 & 3.569023\\\\\n\t 8c8d0e30c553e841021f3cba2651483b & AcceptabilityJudgement & Shape-Color                & Incongruent & Correct & 2179 & 3.338257\\\\\n\t 9db83f76362a21c9afde940c066cef44 & AcceptabilityJudgement & SubjectiveComment-Material & Incongruent & Correct & 7926 & 3.899054\\\\\n\t c932c8533913fa29eb08b0cca03e8d2d & AcceptabilityJudgement & Shape-Color                & Incongruent & Correct & 4388 & 3.642267\\\\\n\t 5ea1e5d9aa9b949b314eb9e8df5116bd & AcceptabilityJudgement & Size-Nationality           & Incongruent & Correct & 1793 & 3.253580\\\\\n\t 76b9c1df8428c17e2e42a54510a30ca1 & AcceptabilityJudgement & Shape-Color                & Incongruent & Correct & 1121 & 3.049606\\\\\n\t 224978a11aee4355d6d515c16801a4e8 & AcceptabilityJudgement & Shape-Color                & Incongruent & Correct & 4214 & 3.624695\\\\\n\\end{tabular}\n",
            "text/plain": [
              "   ParticipantID                    TypeOfQuestion        \n",
              "1  eced84d70c1016fe3f5ede70be0a89c6 AcceptabilityJudgement\n",
              "2  066f8885734d3b91f905df8c23195a27 AcceptabilityJudgement\n",
              "3  9ad98d7a34a4ba3652efd5cf754c1b41 AcceptabilityJudgement\n",
              "4  8410b44996904d016f3bb66cedeb30fc AcceptabilityJudgement\n",
              "5  8c8d0e30c553e841021f3cba2651483b AcceptabilityJudgement\n",
              "6  9db83f76362a21c9afde940c066cef44 AcceptabilityJudgement\n",
              "7  c932c8533913fa29eb08b0cca03e8d2d AcceptabilityJudgement\n",
              "8  5ea1e5d9aa9b949b314eb9e8df5116bd AcceptabilityJudgement\n",
              "9  76b9c1df8428c17e2e42a54510a30ca1 AcceptabilityJudgement\n",
              "10 224978a11aee4355d6d515c16801a4e8 AcceptabilityJudgement\n",
              "   TypeOfStimuli              WordOrder   ResponseAcceptabilityJudgement RT  \n",
              "1  SubjectiveComment-Material Incongruent Correct                        2476\n",
              "2  Size-Nationality           Incongruent Correct                        2943\n",
              "3  Shape-Color                Incongruent Correct                        2539\n",
              "4  Shape-Color                Incongruent Correct                        3707\n",
              "5  Shape-Color                Incongruent Correct                        2179\n",
              "6  SubjectiveComment-Material Incongruent Correct                        7926\n",
              "7  Shape-Color                Incongruent Correct                        4388\n",
              "8  Size-Nationality           Incongruent Correct                        1793\n",
              "9  Shape-Color                Incongruent Correct                        1121\n",
              "10 Shape-Color                Incongruent Correct                        4214\n",
              "   RTlog   \n",
              "1  3.393751\n",
              "2  3.468790\n",
              "3  3.404663\n",
              "4  3.569023\n",
              "5  3.338257\n",
              "6  3.899054\n",
              "7  3.642267\n",
              "8  3.253580\n",
              "9  3.049606\n",
              "10 3.624695"
            ]
          },
          "metadata": {}
        }
      ]
    },
    {
      "cell_type": "code",
      "source": [
        "# тест на нормальность\n",
        "mono1_inc %>%\n",
        "  group_by(TypeOfStimuli) %>%\n",
        "  shapiro_test(RTlog)"
      ],
      "metadata": {
        "colab": {
          "base_uri": "https://localhost:8080/",
          "height": 192
        },
        "id": "VoSF_8dMc6uy",
        "outputId": "78ecb438-ccd5-4c4d-fbae-530ed11b9e2a"
      },
      "execution_count": null,
      "outputs": [
        {
          "output_type": "display_data",
          "data": {
            "text/html": [
              "<table class=\"dataframe\">\n",
              "<caption>A tibble: 3 × 4</caption>\n",
              "<thead>\n",
              "\t<tr><th scope=col>TypeOfStimuli</th><th scope=col>variable</th><th scope=col>statistic</th><th scope=col>p</th></tr>\n",
              "\t<tr><th scope=col>&lt;fct&gt;</th><th scope=col>&lt;chr&gt;</th><th scope=col>&lt;dbl&gt;</th><th scope=col>&lt;dbl&gt;</th></tr>\n",
              "</thead>\n",
              "<tbody>\n",
              "\t<tr><td>Shape-Color               </td><td>RTlog</td><td>0.9822409</td><td>6.621601e-05</td></tr>\n",
              "\t<tr><td>Size-Nationality          </td><td>RTlog</td><td>0.9853447</td><td>3.465676e-04</td></tr>\n",
              "\t<tr><td>SubjectiveComment-Material</td><td>RTlog</td><td>0.9830115</td><td>8.093179e-05</td></tr>\n",
              "</tbody>\n",
              "</table>\n"
            ],
            "text/markdown": "\nA tibble: 3 × 4\n\n| TypeOfStimuli &lt;fct&gt; | variable &lt;chr&gt; | statistic &lt;dbl&gt; | p &lt;dbl&gt; |\n|---|---|---|---|\n| Shape-Color                | RTlog | 0.9822409 | 6.621601e-05 |\n| Size-Nationality           | RTlog | 0.9853447 | 3.465676e-04 |\n| SubjectiveComment-Material | RTlog | 0.9830115 | 8.093179e-05 |\n\n",
            "text/latex": "A tibble: 3 × 4\n\\begin{tabular}{llll}\n TypeOfStimuli & variable & statistic & p\\\\\n <fct> & <chr> & <dbl> & <dbl>\\\\\n\\hline\n\t Shape-Color                & RTlog & 0.9822409 & 6.621601e-05\\\\\n\t Size-Nationality           & RTlog & 0.9853447 & 3.465676e-04\\\\\n\t SubjectiveComment-Material & RTlog & 0.9830115 & 8.093179e-05\\\\\n\\end{tabular}\n",
            "text/plain": [
              "  TypeOfStimuli              variable statistic p           \n",
              "1 Shape-Color                RTlog    0.9822409 6.621601e-05\n",
              "2 Size-Nationality           RTlog    0.9853447 3.465676e-04\n",
              "3 SubjectiveComment-Material RTlog    0.9830115 8.093179e-05"
            ]
          },
          "metadata": {}
        }
      ]
    },
    {
      "cell_type": "markdown",
      "source": [
        "```\n",
        "H0: Среднее время реакции одинаково для всех трех типов стимулов (TypeOfStimuli)\n",
        "H1: Среднее время реакции НЕ одинаково для всех трех типов стимулов (TypeOfStimuli)\n",
        "\n",
        "Для проверки гипотезы мы доолжны воспользоваться непараметрической\n",
        "однофакторной ANOVA с повторными измерениями, т.е. тест Фридмана.\n",
        "\n",
        "Непараметрической, поскольку параметрическая ANOVA предполагает, что\n",
        "распределение нормально, однако в нашем случае распределения таковыми не\n",
        "являются. Также не выполняется требование независимости.\n",
        "Однофакторной, так как мы должны сравнить средние значения RTlog между тремя\n",
        "группами параметра TypeOfStimuli.\n",
        "С повторными измерениями, поскольку каждый участник отвечал на несколько вопросов.\n",
        "```"
      ],
      "metadata": {
        "id": "2q5gd2TKYNKN"
      }
    },
    {
      "cell_type": "code",
      "source": [
        "install.packages(\"rstatix\")\n",
        "library(rstatix) # for ANOVA"
      ],
      "metadata": {
        "colab": {
          "base_uri": "https://localhost:8080/"
        },
        "id": "MqRRm2gbD_sv",
        "outputId": "83ff11e5-80fd-4f23-8eb7-3257f5ae620c"
      },
      "execution_count": null,
      "outputs": [
        {
          "output_type": "stream",
          "name": "stderr",
          "text": [
            "Installing package into ‘/usr/local/lib/R/site-library’\n",
            "(as ‘lib’ is unspecified)\n",
            "\n"
          ]
        }
      ]
    },
    {
      "cell_type": "code",
      "source": [
        "mono1_inc %>%\n",
        "  group_by(TypeOfStimuli) %>%\n",
        "  summarise(dist = n_distinct(ParticipantID),\n",
        "  cnt = n()\n",
        "  )"
      ],
      "metadata": {
        "colab": {
          "base_uri": "https://localhost:8080/",
          "height": 192
        },
        "id": "3frkc0TDj9_g",
        "outputId": "0221db4a-4cac-4f9a-ddd4-5fd09b97705f"
      },
      "execution_count": null,
      "outputs": [
        {
          "output_type": "display_data",
          "data": {
            "text/html": [
              "<table class=\"dataframe\">\n",
              "<caption>A tibble: 3 × 3</caption>\n",
              "<thead>\n",
              "\t<tr><th scope=col>TypeOfStimuli</th><th scope=col>dist</th><th scope=col>cnt</th></tr>\n",
              "\t<tr><th scope=col>&lt;fct&gt;</th><th scope=col>&lt;int&gt;</th><th scope=col>&lt;int&gt;</th></tr>\n",
              "</thead>\n",
              "<tbody>\n",
              "\t<tr><td>Shape-Color               </td><td>140</td><td>408</td></tr>\n",
              "\t<tr><td>Size-Nationality          </td><td>140</td><td>413</td></tr>\n",
              "\t<tr><td>SubjectiveComment-Material</td><td>140</td><td>418</td></tr>\n",
              "</tbody>\n",
              "</table>\n"
            ],
            "text/markdown": "\nA tibble: 3 × 3\n\n| TypeOfStimuli &lt;fct&gt; | dist &lt;int&gt; | cnt &lt;int&gt; |\n|---|---|---|\n| Shape-Color                | 140 | 408 |\n| Size-Nationality           | 140 | 413 |\n| SubjectiveComment-Material | 140 | 418 |\n\n",
            "text/latex": "A tibble: 3 × 3\n\\begin{tabular}{lll}\n TypeOfStimuli & dist & cnt\\\\\n <fct> & <int> & <int>\\\\\n\\hline\n\t Shape-Color                & 140 & 408\\\\\n\t Size-Nationality           & 140 & 413\\\\\n\t SubjectiveComment-Material & 140 & 418\\\\\n\\end{tabular}\n",
            "text/plain": [
              "  TypeOfStimuli              dist cnt\n",
              "1 Shape-Color                140  408\n",
              "2 Size-Nationality           140  413\n",
              "3 SubjectiveComment-Material 140  418"
            ]
          },
          "metadata": {}
        }
      ]
    },
    {
      "cell_type": "code",
      "source": [
        "# непараметрический аналог однофакторной anova с повторными измерениями\n",
        "# aov <- mono1_inc %>%\n",
        "#   group_by(TypeOfStimuli, ParticipantID) %>%\n",
        "#   summarise(avg_RTlog = mean(RTlog)) %>% ungroup() %>%\n",
        "#   anova_test(\n",
        "#   dv = avg_RTlog, wid = ParticipantID,\n",
        "#   within = c(TypeOfStimuli)\n",
        "#   )\n",
        "mono_inc_grouped <- mono1_inc %>%\n",
        "  group_by(TypeOfStimuli, ParticipantID) %>%\n",
        "  summarise(avg_RTlog = mean(RTlog))\n",
        "\n",
        "# aov <- mono_inc_grouped %>%\n",
        "#   friedman_test(\n",
        "#   avg_RTlog, ParticipantID |TypeOfStimuli\n",
        "#   )\n",
        "\n",
        "mono_inc_grouped %>% friedman_test(\n",
        "  avg_RTlog ~ ParticipantID | TypeOfStimuli\n",
        "  )\n",
        "\n",
        "# get_anova_table(aov)"
      ],
      "metadata": {
        "id": "e1Km2PvGIqb2"
      },
      "execution_count": null,
      "outputs": []
    },
    {
      "cell_type": "markdown",
      "source": [
        "### 1.10 Post-hoc тест\n",
        "\n",
        "Примените TukeyHSD тест, чтобы выяснить, какие конкретно пары условий TypeOfStimuli отличаются друг от друга по среднему значению RTlog.\n",
        "Это задание, аналогично, выполняется только для ответов при порядке слов Incongruent."
      ],
      "metadata": {
        "id": "PLyDnI5saIN2"
      }
    },
    {
      "cell_type": "code",
      "source": [
        "aov_model <- aov(RTlog ~ TypeOfStimuli, mono1_inc)\n",
        "aov_model"
      ],
      "metadata": {
        "colab": {
          "base_uri": "https://localhost:8080/",
          "height": 191
        },
        "id": "Wv0djh0XA3rA",
        "outputId": "30c104d7-07cb-4311-a658-83866a7b333f"
      },
      "execution_count": null,
      "outputs": [
        {
          "output_type": "display_data",
          "data": {
            "text/plain": [
              "Call:\n",
              "   aov(formula = RTlog ~ TypeOfStimuli, data = mono1_inc)\n",
              "\n",
              "Terms:\n",
              "                TypeOfStimuli Residuals\n",
              "Sum of Squares        0.63093  54.98427\n",
              "Deg. of Freedom             2      1236\n",
              "\n",
              "Residual standard error: 0.2109162\n",
              "Estimated effects may be unbalanced"
            ]
          },
          "metadata": {}
        }
      ]
    },
    {
      "cell_type": "code",
      "source": [
        "TukeyHSD(aov_model)"
      ],
      "metadata": {
        "colab": {
          "base_uri": "https://localhost:8080/",
          "height": 260
        },
        "id": "EWoYGafJBOA2",
        "outputId": "4599b2fd-f610-4c0e-f3b9-f4d9cef40651"
      },
      "execution_count": null,
      "outputs": [
        {
          "output_type": "display_data",
          "data": {
            "text/plain": [
              "  Tukey multiple comparisons of means\n",
              "    95% family-wise confidence level\n",
              "\n",
              "Fit: aov(formula = RTlog ~ TypeOfStimuli, data = mono1_inc)\n",
              "\n",
              "$TypeOfStimuli\n",
              "                                                   diff         lwr\n",
              "Size-Nationality-Shape-Color                -0.00831177 -0.04285819\n",
              "SubjectiveComment-Material-Shape-Color      -0.05136914 -0.08581273\n",
              "SubjectiveComment-Material-Size-Nationality -0.04305737 -0.07739528\n",
              "                                                     upr     p adj\n",
              "Size-Nationality-Shape-Color                 0.026234652 0.8389647\n",
              "SubjectiveComment-Material-Shape-Color      -0.016925549 0.0014002\n",
              "SubjectiveComment-Material-Size-Nationality -0.008719451 0.0092948\n"
            ]
          },
          "metadata": {}
        }
      ]
    },
    {
      "cell_type": "markdown",
      "source": [
        "Запишите ниже интерпретацию post-hoc теста."
      ],
      "metadata": {
        "id": "BpPsASSPPnc7"
      }
    },
    {
      "cell_type": "markdown",
      "source": [
        "```\n",
        "```"
      ],
      "metadata": {
        "id": "FwH2qGyMPohH"
      }
    }
  ]
}