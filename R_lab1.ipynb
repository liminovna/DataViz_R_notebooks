{
  "nbformat": 4,
  "nbformat_minor": 0,
  "metadata": {
    "colab": {
      "provenance": [],
      "authorship_tag": "ABX9TyPvlX83SWjMo2xAQengZ/lZ",
      "include_colab_link": true
    },
    "kernelspec": {
      "name": "ir",
      "display_name": "R"
    },
    "language_info": {
      "name": "R"
    }
  },
  "cells": [
    {
      "cell_type": "markdown",
      "metadata": {
        "id": "view-in-github",
        "colab_type": "text"
      },
      "source": [
        "<a href=\"https://colab.research.google.com/github/liminovna/DataViz_R_notebooks/blob/main/R_lab1.ipynb\" target=\"_parent\"><img src=\"https://colab.research.google.com/assets/colab-badge.svg\" alt=\"Open In Colab\"/></a>"
      ]
    },
    {
      "cell_type": "code",
      "execution_count": null,
      "metadata": {
        "colab": {
          "base_uri": "https://localhost:8080/",
          "height": 34
        },
        "id": "g6jL99lPmCOv",
        "outputId": "ebf11534-c4f5-4fb2-919e-167044a44a5b"
      },
      "outputs": [
        {
          "output_type": "display_data",
          "data": {
            "text/html": [
              "3"
            ],
            "text/markdown": "3",
            "text/latex": "3",
            "text/plain": [
              "[1] 3"
            ]
          },
          "metadata": {}
        }
      ],
      "source": [
        "# python: res = 1 + 2\n",
        "# используем в аргументах, для присваивания значения переменной -- <-\n",
        "res <- 1 + 2\n",
        "res"
      ]
    },
    {
      "cell_type": "code",
      "source": [
        "# в R отступы не имеют значения"
      ],
      "metadata": {
        "id": "AgPD95c7oJSi"
      },
      "execution_count": null,
      "outputs": []
    },
    {
      "cell_type": "code",
      "source": [
        "class(res)"
      ],
      "metadata": {
        "colab": {
          "base_uri": "https://localhost:8080/",
          "height": 34
        },
        "id": "siK-WZO4ohlL",
        "outputId": "1e563eac-6fc9-421b-878d-391a68fa5974"
      },
      "execution_count": null,
      "outputs": [
        {
          "output_type": "display_data",
          "data": {
            "text/html": [
              "'numeric'"
            ],
            "text/markdown": "'numeric'",
            "text/latex": "'numeric'",
            "text/plain": [
              "[1] \"numeric\""
            ]
          },
          "metadata": {}
        }
      ]
    },
    {
      "cell_type": "code",
      "source": [
        "# удаление переменной\n",
        "rm(res)\n",
        "class(res)"
      ],
      "metadata": {
        "colab": {
          "base_uri": "https://localhost:8080/",
          "height": 72
        },
        "id": "vL3Z_hDdongu",
        "outputId": "899efaff-f166-4ceb-f330-68c605b3afab"
      },
      "execution_count": null,
      "outputs": [
        {
          "output_type": "error",
          "ename": "ERROR",
          "evalue": "Error: object 'res' not found\n",
          "traceback": [
            "Error: object 'res' not found\nTraceback:\n"
          ]
        }
      ]
    },
    {
      "cell_type": "code",
      "source": [
        "sqrt(2)"
      ],
      "metadata": {
        "colab": {
          "base_uri": "https://localhost:8080/",
          "height": 34
        },
        "id": "2UvEXV3bo6OE",
        "outputId": "40b50e00-a43f-4628-f7d2-bfdbcf5524f0"
      },
      "execution_count": null,
      "outputs": [
        {
          "output_type": "display_data",
          "data": {
            "text/html": [
              "1.4142135623731"
            ],
            "text/markdown": "1.4142135623731",
            "text/latex": "1.4142135623731",
            "text/plain": [
              "[1] 1.414214"
            ]
          },
          "metadata": {}
        }
      ]
    },
    {
      "cell_type": "code",
      "source": [
        "4^2"
      ],
      "metadata": {
        "colab": {
          "base_uri": "https://localhost:8080/",
          "height": 34
        },
        "id": "XUboImtao80D",
        "outputId": "2a8cd37c-58a7-4437-abf3-02fab7f6b448"
      },
      "execution_count": null,
      "outputs": [
        {
          "output_type": "display_data",
          "data": {
            "text/html": [
              "16"
            ],
            "text/markdown": "16",
            "text/latex": "16",
            "text/plain": [
              "[1] 16"
            ]
          },
          "metadata": {}
        }
      ]
    },
    {
      "cell_type": "code",
      "source": [
        "sqrt(2) == 4^2"
      ],
      "metadata": {
        "colab": {
          "base_uri": "https://localhost:8080/",
          "height": 34
        },
        "id": "dxQUDyJ0pAMc",
        "outputId": "af30c982-9800-4e23-f69a-c70aaffbefb3"
      },
      "execution_count": null,
      "outputs": [
        {
          "output_type": "display_data",
          "data": {
            "text/html": [
              "FALSE"
            ],
            "text/markdown": "FALSE",
            "text/latex": "FALSE",
            "text/plain": [
              "[1] FALSE"
            ]
          },
          "metadata": {}
        }
      ]
    },
    {
      "cell_type": "code",
      "source": [
        "## Номинальные переменные (строковые)"
      ],
      "metadata": {
        "id": "GOp9oC4rpRCQ"
      },
      "execution_count": null,
      "outputs": []
    },
    {
      "cell_type": "code",
      "source": [
        "a <- 'HeLlO'\n",
        "class(a)"
      ],
      "metadata": {
        "colab": {
          "base_uri": "https://localhost:8080/",
          "height": 34
        },
        "id": "u1oaj51bpUea",
        "outputId": "15f4c893-84e9-48c1-d74b-53572558ef8c"
      },
      "execution_count": null,
      "outputs": [
        {
          "output_type": "display_data",
          "data": {
            "text/html": [
              "'character'"
            ],
            "text/markdown": "'character'",
            "text/latex": "'character'",
            "text/plain": [
              "[1] \"character\""
            ]
          },
          "metadata": {}
        }
      ]
    },
    {
      "cell_type": "code",
      "source": [
        "b <- 'wOrLd'"
      ],
      "metadata": {
        "id": "xWpHZHRDpl9K"
      },
      "execution_count": null,
      "outputs": []
    },
    {
      "cell_type": "code",
      "source": [
        "# склеивание строк через пробел\n",
        "c <- paste(a, b, '!')\n",
        "c"
      ],
      "metadata": {
        "colab": {
          "base_uri": "https://localhost:8080/",
          "height": 34
        },
        "id": "p59GFlVgppM5",
        "outputId": "53d56ad6-472f-4163-d2a9-cd00b09b57ef"
      },
      "execution_count": null,
      "outputs": [
        {
          "output_type": "display_data",
          "data": {
            "text/html": [
              "'HeLlO wOrLd !'"
            ],
            "text/markdown": "'HeLlO wOrLd !'",
            "text/latex": "'HeLlO wOrLd !'",
            "text/plain": [
              "[1] \"HeLlO wOrLd !\""
            ]
          },
          "metadata": {}
        }
      ]
    },
    {
      "cell_type": "code",
      "source": [
        "# склеивание строк через запятую\n",
        "c <- paste(a, b, sep = ',')\n",
        "c"
      ],
      "metadata": {
        "colab": {
          "base_uri": "https://localhost:8080/",
          "height": 34
        },
        "id": "FcKKiwI9p4aC",
        "outputId": "2cf993a4-40c0-4b10-c354-c38233e5cdee"
      },
      "execution_count": null,
      "outputs": [
        {
          "output_type": "display_data",
          "data": {
            "text/html": [
              "'HeLlO,wOrLd'"
            ],
            "text/markdown": "'HeLlO,wOrLd'",
            "text/latex": "'HeLlO,wOrLd'",
            "text/plain": [
              "[1] \"HeLlO,wOrLd\""
            ]
          },
          "metadata": {}
        }
      ]
    },
    {
      "cell_type": "code",
      "source": [
        "# склеивание строк без разделителя\n",
        "c <- paste0(a, b)\n",
        "c"
      ],
      "metadata": {
        "colab": {
          "base_uri": "https://localhost:8080/",
          "height": 34
        },
        "id": "OCKnzFVmqJyL",
        "outputId": "e10f6f18-1a12-4ff7-bc1b-cb1eb9a20767"
      },
      "execution_count": null,
      "outputs": [
        {
          "output_type": "display_data",
          "data": {
            "text/html": [
              "'HeLlOwOrLd'"
            ],
            "text/markdown": "'HeLlOwOrLd'",
            "text/latex": "'HeLlOwOrLd'",
            "text/plain": [
              "[1] \"HeLlOwOrLd\""
            ]
          },
          "metadata": {}
        }
      ]
    },
    {
      "cell_type": "code",
      "source": [
        "?paste0"
      ],
      "metadata": {
        "id": "a50Oc72QqX3-"
      },
      "execution_count": null,
      "outputs": []
    },
    {
      "cell_type": "code",
      "source": [
        "c(a,b)"
      ],
      "metadata": {
        "colab": {
          "base_uri": "https://localhost:8080/",
          "height": 34
        },
        "id": "dSrNF0qTqd22",
        "outputId": "a43ab2ba-ba76-454c-ea75-dd9ccc6cf37f"
      },
      "execution_count": null,
      "outputs": [
        {
          "output_type": "display_data",
          "data": {
            "text/html": [
              "<style>\n",
              ".list-inline {list-style: none; margin:0; padding: 0}\n",
              ".list-inline>li {display: inline-block}\n",
              ".list-inline>li:not(:last-child)::after {content: \"\\00b7\"; padding: 0 .5ex}\n",
              "</style>\n",
              "<ol class=list-inline><li>'HeLlO'</li><li>'wOrLd'</li></ol>\n"
            ],
            "text/markdown": "1. 'HeLlO'\n2. 'wOrLd'\n\n\n",
            "text/latex": "\\begin{enumerate*}\n\\item 'HeLlO'\n\\item 'wOrLd'\n\\end{enumerate*}\n",
            "text/plain": [
              "[1] \"HeLlO\" \"wOrLd\""
            ]
          },
          "metadata": {}
        }
      ]
    },
    {
      "cell_type": "code",
      "source": [
        "class(c(a,b))"
      ],
      "metadata": {
        "colab": {
          "base_uri": "https://localhost:8080/",
          "height": 34
        },
        "id": "AQq7Db6Gqh4o",
        "outputId": "7e5277d3-e86d-484f-b2f6-8d365147039c"
      },
      "execution_count": null,
      "outputs": [
        {
          "output_type": "display_data",
          "data": {
            "text/html": [
              "'character'"
            ],
            "text/markdown": "'character'",
            "text/latex": "'character'",
            "text/plain": [
              "[1] \"character\""
            ]
          },
          "metadata": {}
        }
      ]
    },
    {
      "cell_type": "code",
      "source": [
        "?c"
      ],
      "metadata": {
        "id": "3ozZdhbpqkud"
      },
      "execution_count": null,
      "outputs": []
    },
    {
      "cell_type": "code",
      "source": [
        "# Векторы"
      ],
      "metadata": {
        "id": "-xkRmZsEqnkz"
      },
      "execution_count": null,
      "outputs": []
    },
    {
      "cell_type": "code",
      "source": [
        "# переменная с числами 1 - 10\n",
        "res <- c(1:10)\n",
        "\n",
        "res"
      ],
      "metadata": {
        "colab": {
          "base_uri": "https://localhost:8080/",
          "height": 34
        },
        "id": "UnCnUgq3qq3w",
        "outputId": "e07f065f-3369-4172-b69f-abee29255e1c"
      },
      "execution_count": null,
      "outputs": [
        {
          "output_type": "display_data",
          "data": {
            "text/html": [
              "<style>\n",
              ".list-inline {list-style: none; margin:0; padding: 0}\n",
              ".list-inline>li {display: inline-block}\n",
              ".list-inline>li:not(:last-child)::after {content: \"\\00b7\"; padding: 0 .5ex}\n",
              "</style>\n",
              "<ol class=list-inline><li>1</li><li>2</li><li>3</li><li>4</li><li>5</li><li>6</li><li>7</li><li>8</li><li>9</li><li>10</li></ol>\n"
            ],
            "text/markdown": "1. 1\n2. 2\n3. 3\n4. 4\n5. 5\n6. 6\n7. 7\n8. 8\n9. 9\n10. 10\n\n\n",
            "text/latex": "\\begin{enumerate*}\n\\item 1\n\\item 2\n\\item 3\n\\item 4\n\\item 5\n\\item 6\n\\item 7\n\\item 8\n\\item 9\n\\item 10\n\\end{enumerate*}\n",
            "text/plain": [
              " [1]  1  2  3  4  5  6  7  8  9 10"
            ]
          },
          "metadata": {}
        }
      ]
    },
    {
      "cell_type": "code",
      "source": [
        "res[1]"
      ],
      "metadata": {
        "colab": {
          "base_uri": "https://localhost:8080/",
          "height": 34
        },
        "id": "Ab1YwhDHq2_P",
        "outputId": "e001aedd-785f-43ad-b8a8-ec476805a3d2"
      },
      "execution_count": null,
      "outputs": [
        {
          "output_type": "display_data",
          "data": {
            "text/html": [
              "1"
            ],
            "text/markdown": "1",
            "text/latex": "1",
            "text/plain": [
              "[1] 1"
            ]
          },
          "metadata": {}
        }
      ]
    },
    {
      "cell_type": "code",
      "source": [
        "res[4:7]"
      ],
      "metadata": {
        "colab": {
          "base_uri": "https://localhost:8080/",
          "height": 34
        },
        "id": "5z16u0_Pq8aX",
        "outputId": "46056785-60b1-4679-dee2-4ed8e262554f"
      },
      "execution_count": null,
      "outputs": [
        {
          "output_type": "display_data",
          "data": {
            "text/html": [
              "<style>\n",
              ".list-inline {list-style: none; margin:0; padding: 0}\n",
              ".list-inline>li {display: inline-block}\n",
              ".list-inline>li:not(:last-child)::after {content: \"\\00b7\"; padding: 0 .5ex}\n",
              "</style>\n",
              "<ol class=list-inline><li>4</li><li>5</li><li>6</li><li>7</li></ol>\n"
            ],
            "text/markdown": "1. 4\n2. 5\n3. 6\n4. 7\n\n\n",
            "text/latex": "\\begin{enumerate*}\n\\item 4\n\\item 5\n\\item 6\n\\item 7\n\\end{enumerate*}\n",
            "text/plain": [
              "[1] 4 5 6 7"
            ]
          },
          "metadata": {}
        }
      ]
    },
    {
      "cell_type": "code",
      "source": [
        "mean(res)"
      ],
      "metadata": {
        "colab": {
          "base_uri": "https://localhost:8080/",
          "height": 34
        },
        "id": "HROb9t6erKjN",
        "outputId": "781c92fb-2331-43d8-f5e6-ff0b30a314ea"
      },
      "execution_count": null,
      "outputs": [
        {
          "output_type": "display_data",
          "data": {
            "text/html": [
              "5.5"
            ],
            "text/markdown": "5.5",
            "text/latex": "5.5",
            "text/plain": [
              "[1] 5.5"
            ]
          },
          "metadata": {}
        }
      ]
    },
    {
      "cell_type": "code",
      "source": [
        "mean(res) - mean(res[4:7])"
      ],
      "metadata": {
        "colab": {
          "base_uri": "https://localhost:8080/",
          "height": 34
        },
        "id": "Pff-njROrR29",
        "outputId": "e49640ae-aeb5-4377-c94e-1a2aa32ca09b"
      },
      "execution_count": null,
      "outputs": [
        {
          "output_type": "display_data",
          "data": {
            "text/html": [
              "0"
            ],
            "text/markdown": "0",
            "text/latex": "0",
            "text/plain": [
              "[1] 0"
            ]
          },
          "metadata": {}
        }
      ]
    },
    {
      "cell_type": "code",
      "source": [
        "# Извлечем элементы вектора по условию"
      ],
      "metadata": {
        "id": "t6twEH1ErdSy"
      },
      "execution_count": null,
      "outputs": []
    },
    {
      "cell_type": "code",
      "source": [
        "vec <- c(2, 56, 24, 0, -1, 57, 3, 44)"
      ],
      "metadata": {
        "id": "5pCZETw7rgWV"
      },
      "execution_count": null,
      "outputs": []
    },
    {
      "cell_type": "code",
      "source": [
        "vec[vec > 5 & vec <= 51]"
      ],
      "metadata": {
        "colab": {
          "base_uri": "https://localhost:8080/",
          "height": 34
        },
        "id": "6FZqogzFr3Ea",
        "outputId": "0866bca0-42f3-4567-e3ad-cb1a9c3f69d1"
      },
      "execution_count": null,
      "outputs": [
        {
          "output_type": "display_data",
          "data": {
            "text/html": [
              "<style>\n",
              ".list-inline {list-style: none; margin:0; padding: 0}\n",
              ".list-inline>li {display: inline-block}\n",
              ".list-inline>li:not(:last-child)::after {content: \"\\00b7\"; padding: 0 .5ex}\n",
              "</style>\n",
              "<ol class=list-inline><li>24</li><li>44</li></ol>\n"
            ],
            "text/markdown": "1. 24\n2. 44\n\n\n",
            "text/latex": "\\begin{enumerate*}\n\\item 24\n\\item 44\n\\end{enumerate*}\n",
            "text/plain": [
              "[1] 24 44"
            ]
          },
          "metadata": {}
        }
      ]
    },
    {
      "cell_type": "code",
      "source": [
        "vec2 <- c(1:14)"
      ],
      "metadata": {
        "id": "yWqvskZIsBny"
      },
      "execution_count": null,
      "outputs": []
    },
    {
      "cell_type": "code",
      "source": [
        "var <- vec == vec2\n",
        "var"
      ],
      "metadata": {
        "colab": {
          "base_uri": "https://localhost:8080/",
          "height": 69
        },
        "id": "nKiAB3JLsMMh",
        "outputId": "b994c0cd-fe99-43c0-a15c-49f3580cd0bd"
      },
      "execution_count": null,
      "outputs": [
        {
          "output_type": "stream",
          "name": "stderr",
          "text": [
            "Warning message in vec == vec2:\n",
            "“longer object length is not a multiple of shorter object length”\n"
          ]
        },
        {
          "output_type": "display_data",
          "data": {
            "text/html": [
              "<style>\n",
              ".list-inline {list-style: none; margin:0; padding: 0}\n",
              ".list-inline>li {display: inline-block}\n",
              ".list-inline>li:not(:last-child)::after {content: \"\\00b7\"; padding: 0 .5ex}\n",
              "</style>\n",
              "<ol class=list-inline><li>FALSE</li><li>FALSE</li><li>FALSE</li><li>FALSE</li><li>FALSE</li><li>FALSE</li><li>FALSE</li><li>FALSE</li><li>FALSE</li><li>FALSE</li><li>FALSE</li><li>FALSE</li><li>FALSE</li><li>FALSE</li></ol>\n"
            ],
            "text/markdown": "1. FALSE\n2. FALSE\n3. FALSE\n4. FALSE\n5. FALSE\n6. FALSE\n7. FALSE\n8. FALSE\n9. FALSE\n10. FALSE\n11. FALSE\n12. FALSE\n13. FALSE\n14. FALSE\n\n\n",
            "text/latex": "\\begin{enumerate*}\n\\item FALSE\n\\item FALSE\n\\item FALSE\n\\item FALSE\n\\item FALSE\n\\item FALSE\n\\item FALSE\n\\item FALSE\n\\item FALSE\n\\item FALSE\n\\item FALSE\n\\item FALSE\n\\item FALSE\n\\item FALSE\n\\end{enumerate*}\n",
            "text/plain": [
              " [1] FALSE FALSE FALSE FALSE FALSE FALSE FALSE FALSE FALSE FALSE FALSE FALSE\n",
              "[13] FALSE FALSE"
            ]
          },
          "metadata": {}
        }
      ]
    },
    {
      "cell_type": "code",
      "source": [
        "class(var)"
      ],
      "metadata": {
        "colab": {
          "base_uri": "https://localhost:8080/",
          "height": 34
        },
        "id": "fuIKbPKusYGC",
        "outputId": "b341d417-c629-4d10-e5bd-492466c94c83"
      },
      "execution_count": null,
      "outputs": [
        {
          "output_type": "display_data",
          "data": {
            "text/html": [
              "'logical'"
            ],
            "text/markdown": "'logical'",
            "text/latex": "'logical'",
            "text/plain": [
              "[1] \"logical\""
            ]
          },
          "metadata": {}
        }
      ]
    },
    {
      "cell_type": "code",
      "source": [
        "length(vec)"
      ],
      "metadata": {
        "colab": {
          "base_uri": "https://localhost:8080/",
          "height": 34
        },
        "id": "wJNUh4pcscu3",
        "outputId": "79021dba-0db1-4027-9fee-c07fb2183c3b"
      },
      "execution_count": null,
      "outputs": [
        {
          "output_type": "display_data",
          "data": {
            "text/html": [
              "8"
            ],
            "text/markdown": "8",
            "text/latex": "8",
            "text/plain": [
              "[1] 8"
            ]
          },
          "metadata": {}
        }
      ]
    },
    {
      "cell_type": "code",
      "source": [
        "length(vec2)"
      ],
      "metadata": {
        "colab": {
          "base_uri": "https://localhost:8080/",
          "height": 34
        },
        "id": "6OpvQNkMseIc",
        "outputId": "87baed91-4bb2-41ce-a309-ad67221e794e"
      },
      "execution_count": null,
      "outputs": [
        {
          "output_type": "display_data",
          "data": {
            "text/html": [
              "14"
            ],
            "text/markdown": "14",
            "text/latex": "14",
            "text/plain": [
              "[1] 14"
            ]
          },
          "metadata": {}
        }
      ]
    },
    {
      "cell_type": "code",
      "source": [
        "vec2 <- c(1:16)\n",
        "\n",
        "vec == vec2"
      ],
      "metadata": {
        "colab": {
          "base_uri": "https://localhost:8080/",
          "height": 34
        },
        "id": "spWAhl49sl-P",
        "outputId": "1de12e32-cc4d-4a1c-ca6b-843d16de0077"
      },
      "execution_count": null,
      "outputs": [
        {
          "output_type": "display_data",
          "data": {
            "text/html": [
              "<style>\n",
              ".list-inline {list-style: none; margin:0; padding: 0}\n",
              ".list-inline>li {display: inline-block}\n",
              ".list-inline>li:not(:last-child)::after {content: \"\\00b7\"; padding: 0 .5ex}\n",
              "</style>\n",
              "<ol class=list-inline><li>FALSE</li><li>FALSE</li><li>FALSE</li><li>FALSE</li><li>FALSE</li><li>FALSE</li><li>FALSE</li><li>FALSE</li><li>FALSE</li><li>FALSE</li><li>FALSE</li><li>FALSE</li><li>FALSE</li><li>FALSE</li><li>FALSE</li><li>FALSE</li></ol>\n"
            ],
            "text/markdown": "1. FALSE\n2. FALSE\n3. FALSE\n4. FALSE\n5. FALSE\n6. FALSE\n7. FALSE\n8. FALSE\n9. FALSE\n10. FALSE\n11. FALSE\n12. FALSE\n13. FALSE\n14. FALSE\n15. FALSE\n16. FALSE\n\n\n",
            "text/latex": "\\begin{enumerate*}\n\\item FALSE\n\\item FALSE\n\\item FALSE\n\\item FALSE\n\\item FALSE\n\\item FALSE\n\\item FALSE\n\\item FALSE\n\\item FALSE\n\\item FALSE\n\\item FALSE\n\\item FALSE\n\\item FALSE\n\\item FALSE\n\\item FALSE\n\\item FALSE\n\\end{enumerate*}\n",
            "text/plain": [
              " [1] FALSE FALSE FALSE FALSE FALSE FALSE FALSE FALSE FALSE FALSE FALSE FALSE\n",
              "[13] FALSE FALSE FALSE FALSE"
            ]
          },
          "metadata": {}
        }
      ]
    },
    {
      "cell_type": "code",
      "source": [
        "vec <- c(1:3)\n",
        "vec2 <- c(1:5)\n",
        "\n",
        "vec == vec2"
      ],
      "metadata": {
        "colab": {
          "base_uri": "https://localhost:8080/",
          "height": 69
        },
        "id": "Ku4oudPGtJAk",
        "outputId": "78ae4c6c-b333-47ab-916e-54cebb586649"
      },
      "execution_count": null,
      "outputs": [
        {
          "output_type": "stream",
          "name": "stderr",
          "text": [
            "Warning message in vec == vec2:\n",
            "“longer object length is not a multiple of shorter object length”\n"
          ]
        },
        {
          "output_type": "display_data",
          "data": {
            "text/html": [
              "<style>\n",
              ".list-inline {list-style: none; margin:0; padding: 0}\n",
              ".list-inline>li {display: inline-block}\n",
              ".list-inline>li:not(:last-child)::after {content: \"\\00b7\"; padding: 0 .5ex}\n",
              "</style>\n",
              "<ol class=list-inline><li>TRUE</li><li>TRUE</li><li>TRUE</li><li>FALSE</li><li>FALSE</li></ol>\n"
            ],
            "text/markdown": "1. TRUE\n2. TRUE\n3. TRUE\n4. FALSE\n5. FALSE\n\n\n",
            "text/latex": "\\begin{enumerate*}\n\\item TRUE\n\\item TRUE\n\\item TRUE\n\\item FALSE\n\\item FALSE\n\\end{enumerate*}\n",
            "text/plain": [
              "[1]  TRUE  TRUE  TRUE FALSE FALSE"
            ]
          },
          "metadata": {}
        }
      ]
    },
    {
      "cell_type": "code",
      "source": [
        "c(1, 'a', 4)"
      ],
      "metadata": {
        "colab": {
          "base_uri": "https://localhost:8080/",
          "height": 34
        },
        "id": "8vk2yWoPtdua",
        "outputId": "b68e500a-243d-4629-bc4b-0f41708adfad"
      },
      "execution_count": null,
      "outputs": [
        {
          "output_type": "display_data",
          "data": {
            "text/html": [
              "<style>\n",
              ".list-inline {list-style: none; margin:0; padding: 0}\n",
              ".list-inline>li {display: inline-block}\n",
              ".list-inline>li:not(:last-child)::after {content: \"\\00b7\"; padding: 0 .5ex}\n",
              "</style>\n",
              "<ol class=list-inline><li>'1'</li><li>'a'</li><li>'4'</li></ol>\n"
            ],
            "text/markdown": "1. '1'\n2. 'a'\n3. '4'\n\n\n",
            "text/latex": "\\begin{enumerate*}\n\\item '1'\n\\item 'a'\n\\item '4'\n\\end{enumerate*}\n",
            "text/plain": [
              "[1] \"1\" \"a\" \"4\""
            ]
          },
          "metadata": {}
        }
      ]
    },
    {
      "cell_type": "code",
      "source": [
        "# Задание"
      ],
      "metadata": {
        "id": "0d_z-hVjuPgp"
      },
      "execution_count": null,
      "outputs": []
    },
    {
      "cell_type": "code",
      "source": [
        "n_countries <- c(58, 27, 23, 20, 9, 6, 5, 5, 4, 4, rep(3, 5), rep(2, 20))\n",
        "n_countries"
      ],
      "metadata": {
        "colab": {
          "base_uri": "https://localhost:8080/",
          "height": 34
        },
        "id": "9lvyTW9ZtnL3",
        "outputId": "323e5db2-b754-43ae-f955-2f2c19520e93"
      },
      "execution_count": null,
      "outputs": [
        {
          "output_type": "display_data",
          "data": {
            "text/html": [
              "<style>\n",
              ".list-inline {list-style: none; margin:0; padding: 0}\n",
              ".list-inline>li {display: inline-block}\n",
              ".list-inline>li:not(:last-child)::after {content: \"\\00b7\"; padding: 0 .5ex}\n",
              "</style>\n",
              "<ol class=list-inline><li>58</li><li>27</li><li>23</li><li>20</li><li>9</li><li>6</li><li>5</li><li>5</li><li>4</li><li>4</li><li>3</li><li>3</li><li>3</li><li>3</li><li>3</li><li>2</li><li>2</li><li>2</li><li>2</li><li>2</li><li>2</li><li>2</li><li>2</li><li>2</li><li>2</li><li>2</li><li>2</li><li>2</li><li>2</li><li>2</li><li>2</li><li>2</li><li>2</li><li>2</li><li>2</li></ol>\n"
            ],
            "text/markdown": "1. 58\n2. 27\n3. 23\n4. 20\n5. 9\n6. 6\n7. 5\n8. 5\n9. 4\n10. 4\n11. 3\n12. 3\n13. 3\n14. 3\n15. 3\n16. 2\n17. 2\n18. 2\n19. 2\n20. 2\n21. 2\n22. 2\n23. 2\n24. 2\n25. 2\n26. 2\n27. 2\n28. 2\n29. 2\n30. 2\n31. 2\n32. 2\n33. 2\n34. 2\n35. 2\n\n\n",
            "text/latex": "\\begin{enumerate*}\n\\item 58\n\\item 27\n\\item 23\n\\item 20\n\\item 9\n\\item 6\n\\item 5\n\\item 5\n\\item 4\n\\item 4\n\\item 3\n\\item 3\n\\item 3\n\\item 3\n\\item 3\n\\item 2\n\\item 2\n\\item 2\n\\item 2\n\\item 2\n\\item 2\n\\item 2\n\\item 2\n\\item 2\n\\item 2\n\\item 2\n\\item 2\n\\item 2\n\\item 2\n\\item 2\n\\item 2\n\\item 2\n\\item 2\n\\item 2\n\\item 2\n\\end{enumerate*}\n",
            "text/plain": [
              " [1] 58 27 23 20  9  6  5  5  4  4  3  3  3  3  3  2  2  2  2  2  2  2  2  2  2\n",
              "[26]  2  2  2  2  2  2  2  2  2  2"
            ]
          },
          "metadata": {}
        }
      ]
    },
    {
      "cell_type": "code",
      "source": [
        "barplot(n_countries)"
      ],
      "metadata": {
        "colab": {
          "base_uri": "https://localhost:8080/",
          "height": 437
        },
        "id": "x6IqKovcuO0S",
        "outputId": "cf9b4f51-967f-4ddc-d2ee-fdbbf14fca64"
      },
      "execution_count": null,
      "outputs": [
        {
          "output_type": "display_data",
          "data": {
            "text/plain": [
              "plot without title"
            ],
            "image/png": "[encoded data removed]"
          },
          "metadata": {
            "image/png": {
              "width": 420,
              "height": 420
            }
          }
        }
      ]
    },
    {
      "cell_type": "code",
      "source": [
        "languages <- c(\"English\", \"French\", \"Arabic\", \"Spanish\", \"Portuguese\", \"German\", \"Russian\", \"Swahili\", \"Italian\", \"Malay\", \"Dutch\", \"Persian\", \"Sotho\", \"Tswana\", \"Tamil\", \"Albanian\", \"Chinese\", \"Romanian\", \"Somali\", \"Turkish\", \"Aymara\", \"Berber\", \"Chichewa\", \"Greek\", \"Guarani\", \"Hindustani\", \"Quechua\", \"Korean\", \"Kurdish\", \"Rwanda-Rundi\", \"Swati\", \"Swedish\", \"Tigrinya\", \"Venda\", \"Bengali\")\n",
        "languages"
      ],
      "metadata": {
        "colab": {
          "base_uri": "https://localhost:8080/",
          "height": 69
        },
        "id": "lylWLi_Tu12b",
        "outputId": "6c1a20bf-461b-4f56-bb2c-bb42d08d03a4"
      },
      "execution_count": null,
      "outputs": [
        {
          "output_type": "display_data",
          "data": {
            "text/html": [
              "<style>\n",
              ".list-inline {list-style: none; margin:0; padding: 0}\n",
              ".list-inline>li {display: inline-block}\n",
              ".list-inline>li:not(:last-child)::after {content: \"\\00b7\"; padding: 0 .5ex}\n",
              "</style>\n",
              "<ol class=list-inline><li>'English'</li><li>'French'</li><li>'Arabic'</li><li>'Spanish'</li><li>'Portuguese'</li><li>'German'</li><li>'Russian'</li><li>'Swahili'</li><li>'Italian'</li><li>'Malay'</li><li>'Dutch'</li><li>'Persian'</li><li>'Sotho'</li><li>'Tswana'</li><li>'Tamil'</li><li>'Albanian'</li><li>'Chinese'</li><li>'Romanian'</li><li>'Somali'</li><li>'Turkish'</li><li>'Aymara'</li><li>'Berber'</li><li>'Chichewa'</li><li>'Greek'</li><li>'Guarani'</li><li>'Hindustani'</li><li>'Quechua'</li><li>'Korean'</li><li>'Kurdish'</li><li>'Rwanda-Rundi'</li><li>'Swati'</li><li>'Swedish'</li><li>'Tigrinya'</li><li>'Venda'</li><li>'Bengali'</li></ol>\n"
            ],
            "text/markdown": "1. 'English'\n2. 'French'\n3. 'Arabic'\n4. 'Spanish'\n5. 'Portuguese'\n6. 'German'\n7. 'Russian'\n8. 'Swahili'\n9. 'Italian'\n10. 'Malay'\n11. 'Dutch'\n12. 'Persian'\n13. 'Sotho'\n14. 'Tswana'\n15. 'Tamil'\n16. 'Albanian'\n17. 'Chinese'\n18. 'Romanian'\n19. 'Somali'\n20. 'Turkish'\n21. 'Aymara'\n22. 'Berber'\n23. 'Chichewa'\n24. 'Greek'\n25. 'Guarani'\n26. 'Hindustani'\n27. 'Quechua'\n28. 'Korean'\n29. 'Kurdish'\n30. 'Rwanda-Rundi'\n31. 'Swati'\n32. 'Swedish'\n33. 'Tigrinya'\n34. 'Venda'\n35. 'Bengali'\n\n\n",
            "text/latex": "\\begin{enumerate*}\n\\item 'English'\n\\item 'French'\n\\item 'Arabic'\n\\item 'Spanish'\n\\item 'Portuguese'\n\\item 'German'\n\\item 'Russian'\n\\item 'Swahili'\n\\item 'Italian'\n\\item 'Malay'\n\\item 'Dutch'\n\\item 'Persian'\n\\item 'Sotho'\n\\item 'Tswana'\n\\item 'Tamil'\n\\item 'Albanian'\n\\item 'Chinese'\n\\item 'Romanian'\n\\item 'Somali'\n\\item 'Turkish'\n\\item 'Aymara'\n\\item 'Berber'\n\\item 'Chichewa'\n\\item 'Greek'\n\\item 'Guarani'\n\\item 'Hindustani'\n\\item 'Quechua'\n\\item 'Korean'\n\\item 'Kurdish'\n\\item 'Rwanda-Rundi'\n\\item 'Swati'\n\\item 'Swedish'\n\\item 'Tigrinya'\n\\item 'Venda'\n\\item 'Bengali'\n\\end{enumerate*}\n",
            "text/plain": [
              " [1] \"English\"      \"French\"       \"Arabic\"       \"Spanish\"      \"Portuguese\"  \n",
              " [6] \"German\"       \"Russian\"      \"Swahili\"      \"Italian\"      \"Malay\"       \n",
              "[11] \"Dutch\"        \"Persian\"      \"Sotho\"        \"Tswana\"       \"Tamil\"       \n",
              "[16] \"Albanian\"     \"Chinese\"      \"Romanian\"     \"Somali\"       \"Turkish\"     \n",
              "[21] \"Aymara\"       \"Berber\"       \"Chichewa\"     \"Greek\"        \"Guarani\"     \n",
              "[26] \"Hindustani\"   \"Quechua\"      \"Korean\"       \"Kurdish\"      \"Rwanda-Rundi\"\n",
              "[31] \"Swati\"        \"Swedish\"      \"Tigrinya\"     \"Venda\"        \"Bengali\"     "
            ]
          },
          "metadata": {}
        }
      ]
    },
    {
      "cell_type": "code",
      "source": [
        "barplot(n_countries, names.arg=languages)"
      ],
      "metadata": {
        "colab": {
          "base_uri": "https://localhost:8080/",
          "height": 437
        },
        "id": "hbxea4yDu-sj",
        "outputId": "621e9872-ff0c-4e94-fee4-6cb26639bdd1"
      },
      "execution_count": null,
      "outputs": [
        {
          "output_type": "display_data",
          "data": {
            "text/plain": [
              "plot without title"
            ],
            "image/png": "[encoded data removed]"
          },
          "metadata": {
            "image/png": {
              "width": 420,
              "height": 420
            }
          }
        }
      ]
    },
    {
      "cell_type": "code",
      "source": [
        "barplot(n_countries, names.arg=languages, horiz=TRUE, las=1, xlab=\"Количество стран\", main=\"Распределение языков по странам\")"
      ],
      "metadata": {
        "colab": {
          "base_uri": "https://localhost:8080/",
          "height": 437
        },
        "id": "mAujRCYZvXmQ",
        "outputId": "b7bfb971-6d30-4df5-de50-58eb38f1c877"
      },
      "execution_count": null,
      "outputs": [
        {
          "output_type": "display_data",
          "data": {
            "text/plain": [
              "Plot with title “Распределение языков по странам”"
            ],
            "image/png": "[encoded data removed]"
          },
          "metadata": {
            "image/png": {
              "width": 420,
              "height": 420
            }
          }
        }
      ]
    },
    {
      "cell_type": "code",
      "source": [
        "barplot(\n",
        "    n_countries,\n",
        "    names.arg=languages,\n",
        "    horiz=TRUE,\n",
        "    las=1,\n",
        "    xlab=\"Количество стран\",\n",
        "    main=\"Распределение языков по странам\",\n",
        "    cex.main = 0.95,\n",
        "    cex.names = 0.5\n",
        ")"
      ],
      "metadata": {
        "colab": {
          "base_uri": "https://localhost:8080/",
          "height": 437
        },
        "id": "mxjUKAkjvzzp",
        "outputId": "7b9e4284-7404-4b92-828a-e8babeccd832"
      },
      "execution_count": null,
      "outputs": [
        {
          "output_type": "display_data",
          "data": {
            "text/plain": [
              "Plot with title “Распределение языков по странам”"
            ],
            "image/png": "[encoded data removed]"
          },
          "metadata": {
            "image/png": {
              "width": 420,
              "height": 420
            }
          }
        }
      ]
    },
    {
      "cell_type": "code",
      "source": [
        "barplot(\n",
        "    rev(n_countries),\n",
        "    names.arg=rev(languages),\n",
        "    horiz=TRUE,\n",
        "    las=1,\n",
        "    xlab=\"Количество стран\",\n",
        "    main=\"Распределение языков по странам\",\n",
        "    cex.main = 0.95,\n",
        "    cex.names = 0.5\n",
        ")"
      ],
      "metadata": {
        "colab": {
          "base_uri": "https://localhost:8080/",
          "height": 437
        },
        "id": "eDXx9r4Owbiq",
        "outputId": "89eb6125-b514-4161-9140-fa9fbe24e94a"
      },
      "execution_count": null,
      "outputs": [
        {
          "output_type": "display_data",
          "data": {
            "text/plain": [
              "Plot with title “Распределение языков по странам”"
            ],
            "image/png": "[encoded data removed]"
          },
          "metadata": {
            "image/png": {
              "width": 420,
              "height": 420
            }
          }
        }
      ]
    },
    {
      "cell_type": "code",
      "source": [
        "hist(\n",
        "    rev(n_countries),\n",
        "    names.arg=rev(languages),\n",
        "    horiz=TRUE,\n",
        "    las=1,\n",
        "    xlab=\"Количество стран\",\n",
        "    main=\"Распределение языков по странам\",\n",
        "    cex.main = 0.95,\n",
        "    cex.names = 0.5\n",
        ")"
      ],
      "metadata": {
        "colab": {
          "base_uri": "https://localhost:8080/",
          "height": 854
        },
        "id": "usigiYjEwzKC",
        "outputId": "83b2af0d-8680-498b-e6c0-583e4f91fdec"
      },
      "execution_count": null,
      "outputs": [
        {
          "output_type": "stream",
          "name": "stderr",
          "text": [
            "Warning message in plot.window(xlim, ylim, \"\", ...):\n",
            "“\"names.arg\" is not a graphical parameter”\n",
            "Warning message in plot.window(xlim, ylim, \"\", ...):\n",
            "“\"horiz\" is not a graphical parameter”\n",
            "Warning message in plot.window(xlim, ylim, \"\", ...):\n",
            "“\"cex.names\" is not a graphical parameter”\n",
            "Warning message in title(main = main, sub = sub, xlab = xlab, ylab = ylab, ...):\n",
            "“\"names.arg\" is not a graphical parameter”\n",
            "Warning message in title(main = main, sub = sub, xlab = xlab, ylab = ylab, ...):\n",
            "“\"horiz\" is not a graphical parameter”\n",
            "Warning message in title(main = main, sub = sub, xlab = xlab, ylab = ylab, ...):\n",
            "“\"cex.names\" is not a graphical parameter”\n",
            "Warning message in axis(1, ...):\n",
            "“\"names.arg\" is not a graphical parameter”\n",
            "Warning message in axis(1, ...):\n",
            "“\"horiz\" is not a graphical parameter”\n",
            "Warning message in axis(1, ...):\n",
            "“\"cex.names\" is not a graphical parameter”\n",
            "Warning message in axis(2, at = yt, ...):\n",
            "“\"names.arg\" is not a graphical parameter”\n",
            "Warning message in axis(2, at = yt, ...):\n",
            "“\"horiz\" is not a graphical parameter”\n",
            "Warning message in axis(2, at = yt, ...):\n",
            "“\"cex.names\" is not a graphical parameter”\n"
          ]
        },
        {
          "output_type": "display_data",
          "data": {
            "text/plain": [
              "Plot with title “Распределение языков по странам”"
            ],
            "image/png": "[encoded data removed]"
          },
          "metadata": {
            "image/png": {
              "width": 420,
              "height": 420
            }
          }
        }
      ]
    },
    {
      "cell_type": "code",
      "source": [
        "# Датасет с тачками\n",
        "cars"
      ],
      "metadata": {
        "colab": {
          "base_uri": "https://localhost:8080/",
          "height": 1000
        },
        "id": "Q85s_Ww4xFxE",
        "outputId": "7f2b9e78-5999-48fc-becf-39455a7b8d72"
      },
      "execution_count": null,
      "outputs": [
        {
          "output_type": "display_data",
          "data": {
            "text/html": [
              "<table class=\"dataframe\">\n",
              "<caption>A data.frame: 50 × 2</caption>\n",
              "<thead>\n",
              "\t<tr><th scope=col>speed</th><th scope=col>dist</th></tr>\n",
              "\t<tr><th scope=col>&lt;dbl&gt;</th><th scope=col>&lt;dbl&gt;</th></tr>\n",
              "</thead>\n",
              "<tbody>\n",
              "\t<tr><td> 4</td><td>  2</td></tr>\n",
              "\t<tr><td> 4</td><td> 10</td></tr>\n",
              "\t<tr><td> 7</td><td>  4</td></tr>\n",
              "\t<tr><td> 7</td><td> 22</td></tr>\n",
              "\t<tr><td> 8</td><td> 16</td></tr>\n",
              "\t<tr><td> 9</td><td> 10</td></tr>\n",
              "\t<tr><td>10</td><td> 18</td></tr>\n",
              "\t<tr><td>10</td><td> 26</td></tr>\n",
              "\t<tr><td>10</td><td> 34</td></tr>\n",
              "\t<tr><td>11</td><td> 17</td></tr>\n",
              "\t<tr><td>11</td><td> 28</td></tr>\n",
              "\t<tr><td>12</td><td> 14</td></tr>\n",
              "\t<tr><td>12</td><td> 20</td></tr>\n",
              "\t<tr><td>12</td><td> 24</td></tr>\n",
              "\t<tr><td>12</td><td> 28</td></tr>\n",
              "\t<tr><td>13</td><td> 26</td></tr>\n",
              "\t<tr><td>13</td><td> 34</td></tr>\n",
              "\t<tr><td>13</td><td> 34</td></tr>\n",
              "\t<tr><td>13</td><td> 46</td></tr>\n",
              "\t<tr><td>14</td><td> 26</td></tr>\n",
              "\t<tr><td>14</td><td> 36</td></tr>\n",
              "\t<tr><td>14</td><td> 60</td></tr>\n",
              "\t<tr><td>14</td><td> 80</td></tr>\n",
              "\t<tr><td>15</td><td> 20</td></tr>\n",
              "\t<tr><td>15</td><td> 26</td></tr>\n",
              "\t<tr><td>15</td><td> 54</td></tr>\n",
              "\t<tr><td>16</td><td> 32</td></tr>\n",
              "\t<tr><td>16</td><td> 40</td></tr>\n",
              "\t<tr><td>17</td><td> 32</td></tr>\n",
              "\t<tr><td>17</td><td> 40</td></tr>\n",
              "\t<tr><td>17</td><td> 50</td></tr>\n",
              "\t<tr><td>18</td><td> 42</td></tr>\n",
              "\t<tr><td>18</td><td> 56</td></tr>\n",
              "\t<tr><td>18</td><td> 76</td></tr>\n",
              "\t<tr><td>18</td><td> 84</td></tr>\n",
              "\t<tr><td>19</td><td> 36</td></tr>\n",
              "\t<tr><td>19</td><td> 46</td></tr>\n",
              "\t<tr><td>19</td><td> 68</td></tr>\n",
              "\t<tr><td>20</td><td> 32</td></tr>\n",
              "\t<tr><td>20</td><td> 48</td></tr>\n",
              "\t<tr><td>20</td><td> 52</td></tr>\n",
              "\t<tr><td>20</td><td> 56</td></tr>\n",
              "\t<tr><td>20</td><td> 64</td></tr>\n",
              "\t<tr><td>22</td><td> 66</td></tr>\n",
              "\t<tr><td>23</td><td> 54</td></tr>\n",
              "\t<tr><td>24</td><td> 70</td></tr>\n",
              "\t<tr><td>24</td><td> 92</td></tr>\n",
              "\t<tr><td>24</td><td> 93</td></tr>\n",
              "\t<tr><td>24</td><td>120</td></tr>\n",
              "\t<tr><td>25</td><td> 85</td></tr>\n",
              "</tbody>\n",
              "</table>\n"
            ],
            "text/markdown": "\nA data.frame: 50 × 2\n\n| speed &lt;dbl&gt; | dist &lt;dbl&gt; |\n|---|---|\n|  4 |   2 |\n|  4 |  10 |\n|  7 |   4 |\n|  7 |  22 |\n|  8 |  16 |\n|  9 |  10 |\n| 10 |  18 |\n| 10 |  26 |\n| 10 |  34 |\n| 11 |  17 |\n| 11 |  28 |\n| 12 |  14 |\n| 12 |  20 |\n| 12 |  24 |\n| 12 |  28 |\n| 13 |  26 |\n| 13 |  34 |\n| 13 |  34 |\n| 13 |  46 |\n| 14 |  26 |\n| 14 |  36 |\n| 14 |  60 |\n| 14 |  80 |\n| 15 |  20 |\n| 15 |  26 |\n| 15 |  54 |\n| 16 |  32 |\n| 16 |  40 |\n| 17 |  32 |\n| 17 |  40 |\n| 17 |  50 |\n| 18 |  42 |\n| 18 |  56 |\n| 18 |  76 |\n| 18 |  84 |\n| 19 |  36 |\n| 19 |  46 |\n| 19 |  68 |\n| 20 |  32 |\n| 20 |  48 |\n| 20 |  52 |\n| 20 |  56 |\n| 20 |  64 |\n| 22 |  66 |\n| 23 |  54 |\n| 24 |  70 |\n| 24 |  92 |\n| 24 |  93 |\n| 24 | 120 |\n| 25 |  85 |\n\n",
            "text/latex": "A data.frame: 50 × 2\n\\begin{tabular}{ll}\n speed & dist\\\\\n <dbl> & <dbl>\\\\\n\\hline\n\t  4 &   2\\\\\n\t  4 &  10\\\\\n\t  7 &   4\\\\\n\t  7 &  22\\\\\n\t  8 &  16\\\\\n\t  9 &  10\\\\\n\t 10 &  18\\\\\n\t 10 &  26\\\\\n\t 10 &  34\\\\\n\t 11 &  17\\\\\n\t 11 &  28\\\\\n\t 12 &  14\\\\\n\t 12 &  20\\\\\n\t 12 &  24\\\\\n\t 12 &  28\\\\\n\t 13 &  26\\\\\n\t 13 &  34\\\\\n\t 13 &  34\\\\\n\t 13 &  46\\\\\n\t 14 &  26\\\\\n\t 14 &  36\\\\\n\t 14 &  60\\\\\n\t 14 &  80\\\\\n\t 15 &  20\\\\\n\t 15 &  26\\\\\n\t 15 &  54\\\\\n\t 16 &  32\\\\\n\t 16 &  40\\\\\n\t 17 &  32\\\\\n\t 17 &  40\\\\\n\t 17 &  50\\\\\n\t 18 &  42\\\\\n\t 18 &  56\\\\\n\t 18 &  76\\\\\n\t 18 &  84\\\\\n\t 19 &  36\\\\\n\t 19 &  46\\\\\n\t 19 &  68\\\\\n\t 20 &  32\\\\\n\t 20 &  48\\\\\n\t 20 &  52\\\\\n\t 20 &  56\\\\\n\t 20 &  64\\\\\n\t 22 &  66\\\\\n\t 23 &  54\\\\\n\t 24 &  70\\\\\n\t 24 &  92\\\\\n\t 24 &  93\\\\\n\t 24 & 120\\\\\n\t 25 &  85\\\\\n\\end{tabular}\n",
            "text/plain": [
              "   speed dist\n",
              "1   4      2 \n",
              "2   4     10 \n",
              "3   7      4 \n",
              "4   7     22 \n",
              "5   8     16 \n",
              "6   9     10 \n",
              "7  10     18 \n",
              "8  10     26 \n",
              "9  10     34 \n",
              "10 11     17 \n",
              "11 11     28 \n",
              "12 12     14 \n",
              "13 12     20 \n",
              "14 12     24 \n",
              "15 12     28 \n",
              "16 13     26 \n",
              "17 13     34 \n",
              "18 13     34 \n",
              "19 13     46 \n",
              "20 14     26 \n",
              "21 14     36 \n",
              "22 14     60 \n",
              "23 14     80 \n",
              "24 15     20 \n",
              "25 15     26 \n",
              "26 15     54 \n",
              "27 16     32 \n",
              "28 16     40 \n",
              "29 17     32 \n",
              "30 17     40 \n",
              "31 17     50 \n",
              "32 18     42 \n",
              "33 18     56 \n",
              "34 18     76 \n",
              "35 18     84 \n",
              "36 19     36 \n",
              "37 19     46 \n",
              "38 19     68 \n",
              "39 20     32 \n",
              "40 20     48 \n",
              "41 20     52 \n",
              "42 20     56 \n",
              "43 20     64 \n",
              "44 22     66 \n",
              "45 23     54 \n",
              "46 24     70 \n",
              "47 24     92 \n",
              "48 24     93 \n",
              "49 24    120 \n",
              "50 25     85 "
            ]
          },
          "metadata": {}
        }
      ]
    },
    {
      "cell_type": "code",
      "source": [
        "str(cars)"
      ],
      "metadata": {
        "colab": {
          "base_uri": "https://localhost:8080/"
        },
        "id": "9rkrjZNyxP50",
        "outputId": "f08c5f0e-7a72-45b9-80d4-8c5afe7e8179"
      },
      "execution_count": null,
      "outputs": [
        {
          "output_type": "stream",
          "name": "stdout",
          "text": [
            "'data.frame':\t50 obs. of  2 variables:\n",
            " $ speed: num  4 4 7 7 8 9 10 10 10 11 ...\n",
            " $ dist : num  2 10 4 22 16 10 18 26 34 17 ...\n"
          ]
        }
      ]
    },
    {
      "cell_type": "code",
      "source": [
        "head(cars)"
      ],
      "metadata": {
        "colab": {
          "base_uri": "https://localhost:8080/",
          "height": 286
        },
        "id": "5ctuPnnAxSw2",
        "outputId": "b5961185-0979-4667-e015-40aa04e6b147"
      },
      "execution_count": null,
      "outputs": [
        {
          "output_type": "display_data",
          "data": {
            "text/html": [
              "<table class=\"dataframe\">\n",
              "<caption>A data.frame: 6 × 2</caption>\n",
              "<thead>\n",
              "\t<tr><th></th><th scope=col>speed</th><th scope=col>dist</th></tr>\n",
              "\t<tr><th></th><th scope=col>&lt;dbl&gt;</th><th scope=col>&lt;dbl&gt;</th></tr>\n",
              "</thead>\n",
              "<tbody>\n",
              "\t<tr><th scope=row>1</th><td>4</td><td> 2</td></tr>\n",
              "\t<tr><th scope=row>2</th><td>4</td><td>10</td></tr>\n",
              "\t<tr><th scope=row>3</th><td>7</td><td> 4</td></tr>\n",
              "\t<tr><th scope=row>4</th><td>7</td><td>22</td></tr>\n",
              "\t<tr><th scope=row>5</th><td>8</td><td>16</td></tr>\n",
              "\t<tr><th scope=row>6</th><td>9</td><td>10</td></tr>\n",
              "</tbody>\n",
              "</table>\n"
            ],
            "text/markdown": "\nA data.frame: 6 × 2\n\n| <!--/--> | speed &lt;dbl&gt; | dist &lt;dbl&gt; |\n|---|---|---|\n| 1 | 4 |  2 |\n| 2 | 4 | 10 |\n| 3 | 7 |  4 |\n| 4 | 7 | 22 |\n| 5 | 8 | 16 |\n| 6 | 9 | 10 |\n\n",
            "text/latex": "A data.frame: 6 × 2\n\\begin{tabular}{r|ll}\n  & speed & dist\\\\\n  & <dbl> & <dbl>\\\\\n\\hline\n\t1 & 4 &  2\\\\\n\t2 & 4 & 10\\\\\n\t3 & 7 &  4\\\\\n\t4 & 7 & 22\\\\\n\t5 & 8 & 16\\\\\n\t6 & 9 & 10\\\\\n\\end{tabular}\n",
            "text/plain": [
              "  speed dist\n",
              "1 4      2  \n",
              "2 4     10  \n",
              "3 7      4  \n",
              "4 7     22  \n",
              "5 8     16  \n",
              "6 9     10  "
            ]
          },
          "metadata": {}
        }
      ]
    },
    {
      "cell_type": "code",
      "source": [
        "tail(cars)"
      ],
      "metadata": {
        "colab": {
          "base_uri": "https://localhost:8080/",
          "height": 286
        },
        "id": "9GuLP8l2xU6l",
        "outputId": "ffb02d09-d10b-446f-f6bd-b8f2383adb6a"
      },
      "execution_count": null,
      "outputs": [
        {
          "output_type": "display_data",
          "data": {
            "text/html": [
              "<table class=\"dataframe\">\n",
              "<caption>A data.frame: 6 × 2</caption>\n",
              "<thead>\n",
              "\t<tr><th></th><th scope=col>speed</th><th scope=col>dist</th></tr>\n",
              "\t<tr><th></th><th scope=col>&lt;dbl&gt;</th><th scope=col>&lt;dbl&gt;</th></tr>\n",
              "</thead>\n",
              "<tbody>\n",
              "\t<tr><th scope=row>45</th><td>23</td><td> 54</td></tr>\n",
              "\t<tr><th scope=row>46</th><td>24</td><td> 70</td></tr>\n",
              "\t<tr><th scope=row>47</th><td>24</td><td> 92</td></tr>\n",
              "\t<tr><th scope=row>48</th><td>24</td><td> 93</td></tr>\n",
              "\t<tr><th scope=row>49</th><td>24</td><td>120</td></tr>\n",
              "\t<tr><th scope=row>50</th><td>25</td><td> 85</td></tr>\n",
              "</tbody>\n",
              "</table>\n"
            ],
            "text/markdown": "\nA data.frame: 6 × 2\n\n| <!--/--> | speed &lt;dbl&gt; | dist &lt;dbl&gt; |\n|---|---|---|\n| 45 | 23 |  54 |\n| 46 | 24 |  70 |\n| 47 | 24 |  92 |\n| 48 | 24 |  93 |\n| 49 | 24 | 120 |\n| 50 | 25 |  85 |\n\n",
            "text/latex": "A data.frame: 6 × 2\n\\begin{tabular}{r|ll}\n  & speed & dist\\\\\n  & <dbl> & <dbl>\\\\\n\\hline\n\t45 & 23 &  54\\\\\n\t46 & 24 &  70\\\\\n\t47 & 24 &  92\\\\\n\t48 & 24 &  93\\\\\n\t49 & 24 & 120\\\\\n\t50 & 25 &  85\\\\\n\\end{tabular}\n",
            "text/plain": [
              "   speed dist\n",
              "45 23     54 \n",
              "46 24     70 \n",
              "47 24     92 \n",
              "48 24     93 \n",
              "49 24    120 \n",
              "50 25     85 "
            ]
          },
          "metadata": {}
        }
      ]
    },
    {
      "cell_type": "code",
      "source": [
        "dim(cars)"
      ],
      "metadata": {
        "colab": {
          "base_uri": "https://localhost:8080/",
          "height": 34
        },
        "id": "4v-QxZbbxb9D",
        "outputId": "29b367c4-9500-4490-9537-4752e1706249"
      },
      "execution_count": null,
      "outputs": [
        {
          "output_type": "display_data",
          "data": {
            "text/html": [
              "<style>\n",
              ".list-inline {list-style: none; margin:0; padding: 0}\n",
              ".list-inline>li {display: inline-block}\n",
              ".list-inline>li:not(:last-child)::after {content: \"\\00b7\"; padding: 0 .5ex}\n",
              "</style>\n",
              "<ol class=list-inline><li>50</li><li>2</li></ol>\n"
            ],
            "text/markdown": "1. 50\n2. 2\n\n\n",
            "text/latex": "\\begin{enumerate*}\n\\item 50\n\\item 2\n\\end{enumerate*}\n",
            "text/plain": [
              "[1] 50  2"
            ]
          },
          "metadata": {}
        }
      ]
    },
    {
      "cell_type": "code",
      "source": [
        "# вытаскиваем строки 1-3 из второго столбца\n",
        "cars[1:3, 2]"
      ],
      "metadata": {
        "colab": {
          "base_uri": "https://localhost:8080/",
          "height": 34
        },
        "id": "1aqA3gxMxoAT",
        "outputId": "f78c50ad-ac06-40f3-e5d6-57192fc08d23"
      },
      "execution_count": null,
      "outputs": [
        {
          "output_type": "display_data",
          "data": {
            "text/html": [
              "<style>\n",
              ".list-inline {list-style: none; margin:0; padding: 0}\n",
              ".list-inline>li {display: inline-block}\n",
              ".list-inline>li:not(:last-child)::after {content: \"\\00b7\"; padding: 0 .5ex}\n",
              "</style>\n",
              "<ol class=list-inline><li>2</li><li>10</li><li>4</li></ol>\n"
            ],
            "text/markdown": "1. 2\n2. 10\n3. 4\n\n\n",
            "text/latex": "\\begin{enumerate*}\n\\item 2\n\\item 10\n\\item 4\n\\end{enumerate*}\n",
            "text/plain": [
              "[1]  2 10  4"
            ]
          },
          "metadata": {}
        }
      ]
    },
    {
      "cell_type": "code",
      "source": [
        "# вытаскиваем строки 1-3 из этого же столбца обращаясь к нему по имени\n",
        "cars[1:3, 'dist']"
      ],
      "metadata": {
        "colab": {
          "base_uri": "https://localhost:8080/",
          "height": 34
        },
        "id": "1QpGeZDJxzoN",
        "outputId": "aaa92ab2-0b3f-4ffb-bc01-f0bf87bf04cd"
      },
      "execution_count": null,
      "outputs": [
        {
          "output_type": "display_data",
          "data": {
            "text/html": [
              "<style>\n",
              ".list-inline {list-style: none; margin:0; padding: 0}\n",
              ".list-inline>li {display: inline-block}\n",
              ".list-inline>li:not(:last-child)::after {content: \"\\00b7\"; padding: 0 .5ex}\n",
              "</style>\n",
              "<ol class=list-inline><li>2</li><li>10</li><li>4</li></ol>\n"
            ],
            "text/markdown": "1. 2\n2. 10\n3. 4\n\n\n",
            "text/latex": "\\begin{enumerate*}\n\\item 2\n\\item 10\n\\item 4\n\\end{enumerate*}\n",
            "text/plain": [
              "[1]  2 10  4"
            ]
          },
          "metadata": {}
        }
      ]
    },
    {
      "cell_type": "code",
      "source": [
        "cars[cars$speed >= 4,]"
      ],
      "metadata": {
        "colab": {
          "base_uri": "https://localhost:8080/",
          "height": 1000
        },
        "id": "eT2DQu7Px-Lf",
        "outputId": "9b714a5f-6e68-42da-9660-67624758f3f3"
      },
      "execution_count": null,
      "outputs": [
        {
          "output_type": "display_data",
          "data": {
            "text/html": [
              "<table class=\"dataframe\">\n",
              "<caption>A data.frame: 50 × 2</caption>\n",
              "<thead>\n",
              "\t<tr><th></th><th scope=col>speed</th><th scope=col>dist</th></tr>\n",
              "\t<tr><th></th><th scope=col>&lt;dbl&gt;</th><th scope=col>&lt;dbl&gt;</th></tr>\n",
              "</thead>\n",
              "<tbody>\n",
              "\t<tr><th scope=row>1</th><td> 4</td><td>  2</td></tr>\n",
              "\t<tr><th scope=row>2</th><td> 4</td><td> 10</td></tr>\n",
              "\t<tr><th scope=row>3</th><td> 7</td><td>  4</td></tr>\n",
              "\t<tr><th scope=row>4</th><td> 7</td><td> 22</td></tr>\n",
              "\t<tr><th scope=row>5</th><td> 8</td><td> 16</td></tr>\n",
              "\t<tr><th scope=row>6</th><td> 9</td><td> 10</td></tr>\n",
              "\t<tr><th scope=row>7</th><td>10</td><td> 18</td></tr>\n",
              "\t<tr><th scope=row>8</th><td>10</td><td> 26</td></tr>\n",
              "\t<tr><th scope=row>9</th><td>10</td><td> 34</td></tr>\n",
              "\t<tr><th scope=row>10</th><td>11</td><td> 17</td></tr>\n",
              "\t<tr><th scope=row>11</th><td>11</td><td> 28</td></tr>\n",
              "\t<tr><th scope=row>12</th><td>12</td><td> 14</td></tr>\n",
              "\t<tr><th scope=row>13</th><td>12</td><td> 20</td></tr>\n",
              "\t<tr><th scope=row>14</th><td>12</td><td> 24</td></tr>\n",
              "\t<tr><th scope=row>15</th><td>12</td><td> 28</td></tr>\n",
              "\t<tr><th scope=row>16</th><td>13</td><td> 26</td></tr>\n",
              "\t<tr><th scope=row>17</th><td>13</td><td> 34</td></tr>\n",
              "\t<tr><th scope=row>18</th><td>13</td><td> 34</td></tr>\n",
              "\t<tr><th scope=row>19</th><td>13</td><td> 46</td></tr>\n",
              "\t<tr><th scope=row>20</th><td>14</td><td> 26</td></tr>\n",
              "\t<tr><th scope=row>21</th><td>14</td><td> 36</td></tr>\n",
              "\t<tr><th scope=row>22</th><td>14</td><td> 60</td></tr>\n",
              "\t<tr><th scope=row>23</th><td>14</td><td> 80</td></tr>\n",
              "\t<tr><th scope=row>24</th><td>15</td><td> 20</td></tr>\n",
              "\t<tr><th scope=row>25</th><td>15</td><td> 26</td></tr>\n",
              "\t<tr><th scope=row>26</th><td>15</td><td> 54</td></tr>\n",
              "\t<tr><th scope=row>27</th><td>16</td><td> 32</td></tr>\n",
              "\t<tr><th scope=row>28</th><td>16</td><td> 40</td></tr>\n",
              "\t<tr><th scope=row>29</th><td>17</td><td> 32</td></tr>\n",
              "\t<tr><th scope=row>30</th><td>17</td><td> 40</td></tr>\n",
              "\t<tr><th scope=row>31</th><td>17</td><td> 50</td></tr>\n",
              "\t<tr><th scope=row>32</th><td>18</td><td> 42</td></tr>\n",
              "\t<tr><th scope=row>33</th><td>18</td><td> 56</td></tr>\n",
              "\t<tr><th scope=row>34</th><td>18</td><td> 76</td></tr>\n",
              "\t<tr><th scope=row>35</th><td>18</td><td> 84</td></tr>\n",
              "\t<tr><th scope=row>36</th><td>19</td><td> 36</td></tr>\n",
              "\t<tr><th scope=row>37</th><td>19</td><td> 46</td></tr>\n",
              "\t<tr><th scope=row>38</th><td>19</td><td> 68</td></tr>\n",
              "\t<tr><th scope=row>39</th><td>20</td><td> 32</td></tr>\n",
              "\t<tr><th scope=row>40</th><td>20</td><td> 48</td></tr>\n",
              "\t<tr><th scope=row>41</th><td>20</td><td> 52</td></tr>\n",
              "\t<tr><th scope=row>42</th><td>20</td><td> 56</td></tr>\n",
              "\t<tr><th scope=row>43</th><td>20</td><td> 64</td></tr>\n",
              "\t<tr><th scope=row>44</th><td>22</td><td> 66</td></tr>\n",
              "\t<tr><th scope=row>45</th><td>23</td><td> 54</td></tr>\n",
              "\t<tr><th scope=row>46</th><td>24</td><td> 70</td></tr>\n",
              "\t<tr><th scope=row>47</th><td>24</td><td> 92</td></tr>\n",
              "\t<tr><th scope=row>48</th><td>24</td><td> 93</td></tr>\n",
              "\t<tr><th scope=row>49</th><td>24</td><td>120</td></tr>\n",
              "\t<tr><th scope=row>50</th><td>25</td><td> 85</td></tr>\n",
              "</tbody>\n",
              "</table>\n"
            ],
            "text/markdown": "\nA data.frame: 50 × 2\n\n| <!--/--> | speed &lt;dbl&gt; | dist &lt;dbl&gt; |\n|---|---|---|\n| 1 |  4 |   2 |\n| 2 |  4 |  10 |\n| 3 |  7 |   4 |\n| 4 |  7 |  22 |\n| 5 |  8 |  16 |\n| 6 |  9 |  10 |\n| 7 | 10 |  18 |\n| 8 | 10 |  26 |\n| 9 | 10 |  34 |\n| 10 | 11 |  17 |\n| 11 | 11 |  28 |\n| 12 | 12 |  14 |\n| 13 | 12 |  20 |\n| 14 | 12 |  24 |\n| 15 | 12 |  28 |\n| 16 | 13 |  26 |\n| 17 | 13 |  34 |\n| 18 | 13 |  34 |\n| 19 | 13 |  46 |\n| 20 | 14 |  26 |\n| 21 | 14 |  36 |\n| 22 | 14 |  60 |\n| 23 | 14 |  80 |\n| 24 | 15 |  20 |\n| 25 | 15 |  26 |\n| 26 | 15 |  54 |\n| 27 | 16 |  32 |\n| 28 | 16 |  40 |\n| 29 | 17 |  32 |\n| 30 | 17 |  40 |\n| 31 | 17 |  50 |\n| 32 | 18 |  42 |\n| 33 | 18 |  56 |\n| 34 | 18 |  76 |\n| 35 | 18 |  84 |\n| 36 | 19 |  36 |\n| 37 | 19 |  46 |\n| 38 | 19 |  68 |\n| 39 | 20 |  32 |\n| 40 | 20 |  48 |\n| 41 | 20 |  52 |\n| 42 | 20 |  56 |\n| 43 | 20 |  64 |\n| 44 | 22 |  66 |\n| 45 | 23 |  54 |\n| 46 | 24 |  70 |\n| 47 | 24 |  92 |\n| 48 | 24 |  93 |\n| 49 | 24 | 120 |\n| 50 | 25 |  85 |\n\n",
            "text/latex": "A data.frame: 50 × 2\n\\begin{tabular}{r|ll}\n  & speed & dist\\\\\n  & <dbl> & <dbl>\\\\\n\\hline\n\t1 &  4 &   2\\\\\n\t2 &  4 &  10\\\\\n\t3 &  7 &   4\\\\\n\t4 &  7 &  22\\\\\n\t5 &  8 &  16\\\\\n\t6 &  9 &  10\\\\\n\t7 & 10 &  18\\\\\n\t8 & 10 &  26\\\\\n\t9 & 10 &  34\\\\\n\t10 & 11 &  17\\\\\n\t11 & 11 &  28\\\\\n\t12 & 12 &  14\\\\\n\t13 & 12 &  20\\\\\n\t14 & 12 &  24\\\\\n\t15 & 12 &  28\\\\\n\t16 & 13 &  26\\\\\n\t17 & 13 &  34\\\\\n\t18 & 13 &  34\\\\\n\t19 & 13 &  46\\\\\n\t20 & 14 &  26\\\\\n\t21 & 14 &  36\\\\\n\t22 & 14 &  60\\\\\n\t23 & 14 &  80\\\\\n\t24 & 15 &  20\\\\\n\t25 & 15 &  26\\\\\n\t26 & 15 &  54\\\\\n\t27 & 16 &  32\\\\\n\t28 & 16 &  40\\\\\n\t29 & 17 &  32\\\\\n\t30 & 17 &  40\\\\\n\t31 & 17 &  50\\\\\n\t32 & 18 &  42\\\\\n\t33 & 18 &  56\\\\\n\t34 & 18 &  76\\\\\n\t35 & 18 &  84\\\\\n\t36 & 19 &  36\\\\\n\t37 & 19 &  46\\\\\n\t38 & 19 &  68\\\\\n\t39 & 20 &  32\\\\\n\t40 & 20 &  48\\\\\n\t41 & 20 &  52\\\\\n\t42 & 20 &  56\\\\\n\t43 & 20 &  64\\\\\n\t44 & 22 &  66\\\\\n\t45 & 23 &  54\\\\\n\t46 & 24 &  70\\\\\n\t47 & 24 &  92\\\\\n\t48 & 24 &  93\\\\\n\t49 & 24 & 120\\\\\n\t50 & 25 &  85\\\\\n\\end{tabular}\n",
            "text/plain": [
              "   speed dist\n",
              "1   4      2 \n",
              "2   4     10 \n",
              "3   7      4 \n",
              "4   7     22 \n",
              "5   8     16 \n",
              "6   9     10 \n",
              "7  10     18 \n",
              "8  10     26 \n",
              "9  10     34 \n",
              "10 11     17 \n",
              "11 11     28 \n",
              "12 12     14 \n",
              "13 12     20 \n",
              "14 12     24 \n",
              "15 12     28 \n",
              "16 13     26 \n",
              "17 13     34 \n",
              "18 13     34 \n",
              "19 13     46 \n",
              "20 14     26 \n",
              "21 14     36 \n",
              "22 14     60 \n",
              "23 14     80 \n",
              "24 15     20 \n",
              "25 15     26 \n",
              "26 15     54 \n",
              "27 16     32 \n",
              "28 16     40 \n",
              "29 17     32 \n",
              "30 17     40 \n",
              "31 17     50 \n",
              "32 18     42 \n",
              "33 18     56 \n",
              "34 18     76 \n",
              "35 18     84 \n",
              "36 19     36 \n",
              "37 19     46 \n",
              "38 19     68 \n",
              "39 20     32 \n",
              "40 20     48 \n",
              "41 20     52 \n",
              "42 20     56 \n",
              "43 20     64 \n",
              "44 22     66 \n",
              "45 23     54 \n",
              "46 24     70 \n",
              "47 24     92 \n",
              "48 24     93 \n",
              "49 24    120 \n",
              "50 25     85 "
            ]
          },
          "metadata": {}
        }
      ]
    },
    {
      "cell_type": "code",
      "source": [
        "# в матрице хранятся данные одного типа, в датафрейме -- разные типы данных"
      ],
      "metadata": {
        "id": "s-wAD4tHybJ3"
      },
      "execution_count": null,
      "outputs": []
    },
    {
      "cell_type": "code",
      "source": [
        "d <- matrix(1:20, nrow=4, ncol=5)\n",
        "d"
      ],
      "metadata": {
        "colab": {
          "base_uri": "https://localhost:8080/",
          "height": 177
        },
        "id": "RmYE1wzgyt4k",
        "outputId": "ffca9754-d33b-43a1-976e-d09b6c147acb"
      },
      "execution_count": null,
      "outputs": [
        {
          "output_type": "display_data",
          "data": {
            "text/html": [
              "<table class=\"dataframe\">\n",
              "<caption>A matrix: 4 × 5 of type int</caption>\n",
              "<tbody>\n",
              "\t<tr><td>1</td><td>5</td><td> 9</td><td>13</td><td>17</td></tr>\n",
              "\t<tr><td>2</td><td>6</td><td>10</td><td>14</td><td>18</td></tr>\n",
              "\t<tr><td>3</td><td>7</td><td>11</td><td>15</td><td>19</td></tr>\n",
              "\t<tr><td>4</td><td>8</td><td>12</td><td>16</td><td>20</td></tr>\n",
              "</tbody>\n",
              "</table>\n"
            ],
            "text/markdown": "\nA matrix: 4 × 5 of type int\n\n| 1 | 5 |  9 | 13 | 17 |\n| 2 | 6 | 10 | 14 | 18 |\n| 3 | 7 | 11 | 15 | 19 |\n| 4 | 8 | 12 | 16 | 20 |\n\n",
            "text/latex": "A matrix: 4 × 5 of type int\n\\begin{tabular}{lllll}\n\t 1 & 5 &  9 & 13 & 17\\\\\n\t 2 & 6 & 10 & 14 & 18\\\\\n\t 3 & 7 & 11 & 15 & 19\\\\\n\t 4 & 8 & 12 & 16 & 20\\\\\n\\end{tabular}\n",
            "text/plain": [
              "     [,1] [,2] [,3] [,4] [,5]\n",
              "[1,] 1    5     9   13   17  \n",
              "[2,] 2    6    10   14   18  \n",
              "[3,] 3    7    11   15   19  \n",
              "[4,] 4    8    12   16   20  "
            ]
          },
          "metadata": {}
        }
      ]
    },
    {
      "cell_type": "code",
      "source": [
        "a <- array(1:12, c(3,2,2))\n",
        "a"
      ],
      "metadata": {
        "colab": {
          "base_uri": "https://localhost:8080/",
          "height": 34
        },
        "id": "7KBIQfJTzCld",
        "outputId": "c785797f-a6e4-4a6a-bb46-7ecc1340044d"
      },
      "execution_count": null,
      "outputs": [
        {
          "output_type": "display_data",
          "data": {
            "text/html": [
              "<style>\n",
              ".list-inline {list-style: none; margin:0; padding: 0}\n",
              ".list-inline>li {display: inline-block}\n",
              ".list-inline>li:not(:last-child)::after {content: \"\\00b7\"; padding: 0 .5ex}\n",
              "</style>\n",
              "<ol class=list-inline><li>1</li><li>2</li><li>3</li><li>4</li><li>5</li><li>6</li><li>7</li><li>8</li><li>9</li><li>10</li><li>11</li><li>12</li></ol>\n"
            ],
            "text/markdown": "1. 1\n2. 2\n3. 3\n4. 4\n5. 5\n6. 6\n7. 7\n8. 8\n9. 9\n10. 10\n11. 11\n12. 12\n\n\n",
            "text/latex": "\\begin{enumerate*}\n\\item 1\n\\item 2\n\\item 3\n\\item 4\n\\item 5\n\\item 6\n\\item 7\n\\item 8\n\\item 9\n\\item 10\n\\item 11\n\\item 12\n\\end{enumerate*}\n",
            "text/plain": [
              ", , 1\n",
              "\n",
              "     [,1] [,2]\n",
              "[1,]    1    4\n",
              "[2,]    2    5\n",
              "[3,]    3    6\n",
              "\n",
              ", , 2\n",
              "\n",
              "     [,1] [,2]\n",
              "[1,]    7   10\n",
              "[2,]    8   11\n",
              "[3,]    9   12\n"
            ]
          },
          "metadata": {}
        }
      ]
    },
    {
      "cell_type": "code",
      "source": [
        "f <- list('aaaa', 4, TRUE)\n",
        "f"
      ],
      "metadata": {
        "colab": {
          "base_uri": "https://localhost:8080/",
          "height": 97
        },
        "id": "H_8alpPEzShb",
        "outputId": "5152b89c-3cb5-47ec-bf17-c2148e16c317"
      },
      "execution_count": null,
      "outputs": [
        {
          "output_type": "display_data",
          "data": {
            "text/html": [
              "<ol>\n",
              "\t<li>'aaaa'</li>\n",
              "\t<li>4</li>\n",
              "\t<li>TRUE</li>\n",
              "</ol>\n"
            ],
            "text/markdown": "1. 'aaaa'\n2. 4\n3. TRUE\n\n\n",
            "text/latex": "\\begin{enumerate}\n\\item 'aaaa'\n\\item 4\n\\item TRUE\n\\end{enumerate}\n",
            "text/plain": [
              "[[1]]\n",
              "[1] \"aaaa\"\n",
              "\n",
              "[[2]]\n",
              "[1] 4\n",
              "\n",
              "[[3]]\n",
              "[1] TRUE\n"
            ]
          },
          "metadata": {}
        }
      ]
    },
    {
      "cell_type": "code",
      "source": [],
      "metadata": {
        "id": "KGt7m45ZzTSV"
      },
      "execution_count": null,
      "outputs": []
    }
  ]
}