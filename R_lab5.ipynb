{
  "nbformat": 4,
  "nbformat_minor": 0,
  "metadata": {
    "colab": {
      "provenance": [],
      "authorship_tag": "ABX9TyN61WlynFywlmfAbvp1nkx7",
      "include_colab_link": true
    },
    "kernelspec": {
      "name": "ir",
      "display_name": "R"
    },
    "language_info": {
      "name": "R"
    }
  },
  "cells": [
    {
      "cell_type": "markdown",
      "metadata": {
        "id": "view-in-github",
        "colab_type": "text"
      },
      "source": [
        "<a href=\"https://colab.research.google.com/github/liminovna/DataViz_R_notebooks/blob/main/R_lab5.ipynb\" target=\"_parent\"><img src=\"https://colab.research.google.com/assets/colab-badge.svg\" alt=\"Open In Colab\"/></a>"
      ]
    },
    {
      "cell_type": "code",
      "source": [
        "library(tibble)\n",
        "library(tidyr)\n",
        "library(tidyverse)"
      ],
      "metadata": {
        "colab": {
          "base_uri": "https://localhost:8080/"
        },
        "id": "_FAjOCEDlysY",
        "outputId": "b9800f15-a65b-45bc-add8-8ba307f35dbb"
      },
      "execution_count": 1,
      "outputs": [
        {
          "output_type": "stream",
          "name": "stderr",
          "text": [
            "── \u001b[1mAttaching core tidyverse packages\u001b[22m ──────────────────────── tidyverse 2.0.0 ──\n",
            "\u001b[32m✔\u001b[39m \u001b[34mdplyr    \u001b[39m 1.1.4     \u001b[32m✔\u001b[39m \u001b[34mpurrr    \u001b[39m 1.0.4\n",
            "\u001b[32m✔\u001b[39m \u001b[34mforcats  \u001b[39m 1.0.0     \u001b[32m✔\u001b[39m \u001b[34mreadr    \u001b[39m 2.1.5\n",
            "\u001b[32m✔\u001b[39m \u001b[34mggplot2  \u001b[39m 3.5.1     \u001b[32m✔\u001b[39m \u001b[34mstringr  \u001b[39m 1.5.1\n",
            "\u001b[32m✔\u001b[39m \u001b[34mlubridate\u001b[39m 1.9.4     \n",
            "── \u001b[1mConflicts\u001b[22m ────────────────────────────────────────── tidyverse_conflicts() ──\n",
            "\u001b[31m✖\u001b[39m \u001b[34mdplyr\u001b[39m::\u001b[32mfilter()\u001b[39m masks \u001b[34mstats\u001b[39m::filter()\n",
            "\u001b[31m✖\u001b[39m \u001b[34mdplyr\u001b[39m::\u001b[32mlag()\u001b[39m    masks \u001b[34mstats\u001b[39m::lag()\n",
            "\u001b[36mℹ\u001b[39m Use the conflicted package (\u001b[3m\u001b[34m<http://conflicted.r-lib.org/>\u001b[39m\u001b[23m) to force all conflicts to become errors\n"
          ]
        }
      ]
    },
    {
      "cell_type": "code",
      "execution_count": 3,
      "metadata": {
        "colab": {
          "base_uri": "https://localhost:8080/",
          "height": 1000
        },
        "id": "RgonEOrolZZD",
        "outputId": "ca9362a3-6bd8-4303-e5b4-5f3c4d133089"
      },
      "outputs": [
        {
          "output_type": "stream",
          "name": "stderr",
          "text": [
            "\u001b[1mRows: \u001b[22m\u001b[34m806\u001b[39m \u001b[1mColumns: \u001b[22m\u001b[34m31\u001b[39m\n",
            "\u001b[36m──\u001b[39m \u001b[1mColumn specification\u001b[22m \u001b[36m────────────────────────────────────────────────────────\u001b[39m\n",
            "\u001b[1mDelimiter:\u001b[22m \",\"\n",
            "\u001b[31mchr\u001b[39m (18): speaker, word, ipa, cons1, vowel, height, anteroposterior, roundne...\n",
            "\u001b[32mdbl\u001b[39m (13): index, time, word.dur, voicing.dur, vowel.dur, cluster.dur, spread...\n",
            "\n",
            "\u001b[36mℹ\u001b[39m Use `spec()` to retrieve the full column specification for this data.\n",
            "\u001b[36mℹ\u001b[39m Specify the column types or set `show_col_types = FALSE` to quiet this message.\n"
          ]
        },
        {
          "output_type": "display_data",
          "data": {
            "text/html": [
              "<table class=\"dataframe\">\n",
              "<caption>A spec_tbl_df: 806 × 31</caption>\n",
              "<thead>\n",
              "\t<tr><th scope=col>speaker</th><th scope=col>index</th><th scope=col>word</th><th scope=col>time</th><th scope=col>word.dur</th><th scope=col>voicing.dur</th><th scope=col>vowel.dur</th><th scope=col>cluster.dur</th><th scope=col>spreading.dur</th><th scope=col>sonorant.dur</th><th scope=col>⋯</th><th scope=col>consonant</th><th scope=col>manner</th><th scope=col>place</th><th scope=col>aspiration</th><th scope=col>syllables</th><th scope=col>syl_structure</th><th scope=col>gloss</th><th scope=col>pos</th><th scope=col>comp</th><th scope=col>contx</th></tr>\n",
              "\t<tr><th scope=col>&lt;chr&gt;</th><th scope=col>&lt;dbl&gt;</th><th scope=col>&lt;chr&gt;</th><th scope=col>&lt;dbl&gt;</th><th scope=col>&lt;dbl&gt;</th><th scope=col>&lt;dbl&gt;</th><th scope=col>&lt;dbl&gt;</th><th scope=col>&lt;dbl&gt;</th><th scope=col>&lt;dbl&gt;</th><th scope=col>&lt;dbl&gt;</th><th scope=col>⋯</th><th scope=col>&lt;chr&gt;</th><th scope=col>&lt;chr&gt;</th><th scope=col>&lt;chr&gt;</th><th scope=col>&lt;chr&gt;</th><th scope=col>&lt;chr&gt;</th><th scope=col>&lt;chr&gt;</th><th scope=col>&lt;chr&gt;</th><th scope=col>&lt;chr&gt;</th><th scope=col>&lt;chr&gt;</th><th scope=col>&lt;chr&gt;</th></tr>\n",
              "</thead>\n",
              "<tbody>\n",
              "\t<tr><td>brs02</td><td>137</td><td>kokk</td><td>438.02832</td><td>489.2532</td><td>153.17607</td><td>100.91771</td><td>231.29938</td><td>114.33275</td><td>166.59111</td><td>⋯</td><td>ʰk</td><td>stop</td><td>velar</td><td>yes</td><td>mono</td><td>cvcc</td><td>cook</td><td>n</td><td>c</td><td>cc</td></tr>\n",
              "\t<tr><td>brs02</td><td>138</td><td>kokk</td><td>440.61933</td><td>444.0905</td><td>138.68315</td><td> 72.55401</td><td>216.99153</td><td> 98.20649</td><td>164.33563</td><td>⋯</td><td>ʰk</td><td>stop</td><td>velar</td><td>yes</td><td>mono</td><td>cvcc</td><td>cook</td><td>n</td><td>c</td><td>cc</td></tr>\n",
              "\t<tr><td>brs02</td><td>139</td><td>kokk</td><td>443.07138</td><td>449.9383</td><td>169.77900</td><td>107.46184</td><td>194.68334</td><td> 50.07513</td><td>112.39229</td><td>⋯</td><td>ʰk</td><td>stop</td><td>velar</td><td>yes</td><td>mono</td><td>cvcc</td><td>cook</td><td>n</td><td>c</td><td>cc</td></tr>\n",
              "\t<tr><td>bte03</td><td> 15</td><td>kokk</td><td>132.67144</td><td>529.7192</td><td> 93.55598</td><td> 93.00907</td><td>245.02401</td><td>119.20499</td><td>119.75190</td><td>⋯</td><td>ʰk</td><td>stop</td><td>velar</td><td>yes</td><td>mono</td><td>cvcc</td><td>cook</td><td>n</td><td>c</td><td>cc</td></tr>\n",
              "\t<tr><td>bte03</td><td> 16</td><td>kokk</td><td>137.56550</td><td>514.8230</td><td>159.27326</td><td>107.42444</td><td>230.21275</td><td> 45.14472</td><td> 96.99355</td><td>⋯</td><td>ʰk</td><td>stop</td><td>velar</td><td>yes</td><td>mono</td><td>cvcc</td><td>cook</td><td>n</td><td>c</td><td>cc</td></tr>\n",
              "\t<tr><td>bte03</td><td> 17</td><td>kokk</td><td>143.38381</td><td>519.2895</td><td>136.19726</td><td> 99.31589</td><td>228.93690</td><td> 72.28930</td><td>109.17066</td><td>⋯</td><td>ʰk</td><td>stop</td><td>velar</td><td>yes</td><td>mono</td><td>cvcc</td><td>cook</td><td>n</td><td>c</td><td>cc</td></tr>\n",
              "\t<tr><td>jj04 </td><td>  4</td><td>kokk</td><td> 45.93431</td><td>445.6592</td><td>108.00514</td><td> 77.86753</td><td>176.18979</td><td> 67.75561</td><td> 97.89322</td><td>⋯</td><td>ʰk</td><td>stop</td><td>velar</td><td>yes</td><td>mono</td><td>cvcc</td><td>cook</td><td>n</td><td>c</td><td>cc</td></tr>\n",
              "\t<tr><td>jj04 </td><td>  5</td><td>kokk</td><td> 49.32262</td><td>379.7148</td><td>100.10910</td><td> 65.98440</td><td>131.17987</td><td> 35.45345</td><td> 69.57814</td><td>⋯</td><td>ʰk</td><td>stop</td><td>velar</td><td>yes</td><td>mono</td><td>cvcc</td><td>cook</td><td>n</td><td>c</td><td>cc</td></tr>\n",
              "\t<tr><td>jj04 </td><td>  6</td><td>kokk</td><td> 51.80259</td><td>376.0025</td><td>131.27615</td><td> 82.21591</td><td>142.22388</td><td> 28.82011</td><td> 77.88035</td><td>⋯</td><td>ʰk</td><td>stop</td><td>velar</td><td>yes</td><td>mono</td><td>cvcc</td><td>cook</td><td>n</td><td>c</td><td>cc</td></tr>\n",
              "\t<tr><td>shg05</td><td>113</td><td>kokk</td><td>309.72030</td><td>350.2034</td><td> 68.10528</td><td> 59.50103</td><td>166.52371</td><td> 95.66178</td><td>104.26603</td><td>⋯</td><td>ʰk</td><td>stop</td><td>velar</td><td>yes</td><td>mono</td><td>cvcc</td><td>cook</td><td>n</td><td>c</td><td>cc</td></tr>\n",
              "\t<tr><td>shg05</td><td>114</td><td>kokk</td><td>312.01393</td><td>350.7511</td><td> 86.12662</td><td> 77.59983</td><td>154.28654</td><td> 77.37591</td><td> 85.90270</td><td>⋯</td><td>ʰk</td><td>stop</td><td>velar</td><td>yes</td><td>mono</td><td>cvcc</td><td>cook</td><td>n</td><td>c</td><td>cc</td></tr>\n",
              "\t<tr><td>shg05</td><td>115</td><td>kokk</td><td>314.33173</td><td>359.3402</td><td>104.91519</td><td> 81.97041</td><td>149.25461</td><td> 62.89683</td><td> 85.84161</td><td>⋯</td><td>ʰk</td><td>stop</td><td>velar</td><td>yes</td><td>mono</td><td>cvcc</td><td>cook</td><td>n</td><td>c</td><td>cc</td></tr>\n",
              "\t<tr><td>tt01 </td><td> 37</td><td>kokk</td><td>119.19929</td><td>560.1532</td><td> 85.93326</td><td> 79.04965</td><td>191.91659</td><td> 95.16904</td><td>102.05264</td><td>⋯</td><td>ʰk</td><td>stop</td><td>velar</td><td>yes</td><td>mono</td><td>cvcc</td><td>cook</td><td>n</td><td>c</td><td>cc</td></tr>\n",
              "\t<tr><td>tt01 </td><td> 38</td><td>kokk</td><td>122.31784</td><td>524.0415</td><td>115.30592</td><td> 83.88650</td><td>231.93942</td><td>108.19070</td><td>139.61012</td><td>⋯</td><td>ʰk</td><td>stop</td><td>velar</td><td>yes</td><td>mono</td><td>cvcc</td><td>cook</td><td>n</td><td>c</td><td>cc</td></tr>\n",
              "\t<tr><td>tt01 </td><td> 39</td><td>kokk</td><td>125.55692</td><td>560.0630</td><td>107.38639</td><td> 81.96280</td><td>239.47398</td><td>106.59386</td><td>132.01745</td><td>⋯</td><td>ʰk</td><td>stop</td><td>velar</td><td>yes</td><td>mono</td><td>cvcc</td><td>cook</td><td>n</td><td>c</td><td>cc</td></tr>\n",
              "\t<tr><td>brs02</td><td>102</td><td>gogg</td><td>336.11847</td><td>368.7237</td><td>109.48264</td><td>109.48264</td><td>122.07976</td><td>       NA</td><td>       NA</td><td>⋯</td><td>kk</td><td>stop</td><td>velar</td><td>no </td><td>mono</td><td>cvcc</td><td>beak</td><td>n</td><td>c</td><td>cc</td></tr>\n",
              "\t<tr><td>brs02</td><td>103</td><td>gogg</td><td>338.59150</td><td>379.0528</td><td>114.42490</td><td>114.42490</td><td>143.47998</td><td>       NA</td><td>       NA</td><td>⋯</td><td>kk</td><td>stop</td><td>velar</td><td>no </td><td>mono</td><td>cvcc</td><td>beak</td><td>n</td><td>c</td><td>cc</td></tr>\n",
              "\t<tr><td>brs02</td><td>104</td><td>gogg</td><td>341.18800</td><td>412.3219</td><td>107.28181</td><td>107.28181</td><td>142.77936</td><td>       NA</td><td>       NA</td><td>⋯</td><td>kk</td><td>stop</td><td>velar</td><td>no </td><td>mono</td><td>cvcc</td><td>beak</td><td>n</td><td>c</td><td>cc</td></tr>\n",
              "\t<tr><td>bte03</td><td>  4</td><td>gogg</td><td> 64.25130</td><td>557.2902</td><td>100.47251</td><td>100.47251</td><td>237.50268</td><td>       NA</td><td>       NA</td><td>⋯</td><td>kk</td><td>stop</td><td>velar</td><td>no </td><td>mono</td><td>cvcc</td><td>beak</td><td>n</td><td>c</td><td>cc</td></tr>\n",
              "\t<tr><td>bte03</td><td>  5</td><td>gogg</td><td> 69.46999</td><td>583.5479</td><td>110.61186</td><td>110.61186</td><td>213.44592</td><td>       NA</td><td>       NA</td><td>⋯</td><td>kk</td><td>stop</td><td>velar</td><td>no </td><td>mono</td><td>cvcc</td><td>beak</td><td>n</td><td>c</td><td>cc</td></tr>\n",
              "\t<tr><td>bte03</td><td>  6</td><td>gogg</td><td> 73.80826</td><td>456.4811</td><td>108.39121</td><td>108.39121</td><td>209.66970</td><td>       NA</td><td>       NA</td><td>⋯</td><td>kk</td><td>stop</td><td>velar</td><td>no </td><td>mono</td><td>cvcc</td><td>beak</td><td>n</td><td>c</td><td>cc</td></tr>\n",
              "\t<tr><td>jj04 </td><td> 57</td><td>gogg</td><td>203.45037</td><td>444.7821</td><td> 98.92600</td><td> 98.92600</td><td>177.34552</td><td>       NA</td><td>       NA</td><td>⋯</td><td>kk</td><td>stop</td><td>velar</td><td>no </td><td>mono</td><td>cvcc</td><td>beak</td><td>n</td><td>c</td><td>cc</td></tr>\n",
              "\t<tr><td>jj04 </td><td> 58</td><td>gogg</td><td>205.48377</td><td>428.4086</td><td>104.07879</td><td>104.07879</td><td>149.97480</td><td>       NA</td><td>       NA</td><td>⋯</td><td>kk</td><td>stop</td><td>velar</td><td>no </td><td>mono</td><td>cvcc</td><td>beak</td><td>n</td><td>c</td><td>cc</td></tr>\n",
              "\t<tr><td>jj04 </td><td> 59</td><td>gogg</td><td>207.66526</td><td>399.4461</td><td>105.05559</td><td>105.05559</td><td>152.06430</td><td>       NA</td><td>       NA</td><td>⋯</td><td>kk</td><td>stop</td><td>velar</td><td>no </td><td>mono</td><td>cvcc</td><td>beak</td><td>n</td><td>c</td><td>cc</td></tr>\n",
              "\t<tr><td>shg05</td><td>131</td><td>gogg</td><td>353.84715</td><td>284.5925</td><td> 90.81942</td><td> 90.81942</td><td> 95.47484</td><td>       NA</td><td>       NA</td><td>⋯</td><td>kk</td><td>stop</td><td>velar</td><td>no </td><td>mono</td><td>cvcc</td><td>beak</td><td>n</td><td>c</td><td>cc</td></tr>\n",
              "\t<tr><td>shg05</td><td>132</td><td>gogg</td><td>356.28892</td><td>289.5847</td><td>100.51126</td><td>100.51126</td><td> 89.09148</td><td>       NA</td><td>       NA</td><td>⋯</td><td>kk</td><td>stop</td><td>velar</td><td>no </td><td>mono</td><td>cvcc</td><td>beak</td><td>n</td><td>c</td><td>cc</td></tr>\n",
              "\t<tr><td>shg05</td><td>133</td><td>gogg</td><td>358.72718</td><td>274.9919</td><td> 91.99187</td><td> 91.99187</td><td> 85.96372</td><td>       NA</td><td>       NA</td><td>⋯</td><td>kk</td><td>stop</td><td>velar</td><td>no </td><td>mono</td><td>cvcc</td><td>beak</td><td>n</td><td>c</td><td>cc</td></tr>\n",
              "\t<tr><td>tt01 </td><td> 13</td><td>gogg</td><td> 44.86251</td><td>584.1639</td><td> 94.57466</td><td> 94.57466</td><td>205.11662</td><td>       NA</td><td>       NA</td><td>⋯</td><td>kk</td><td>stop</td><td>velar</td><td>no </td><td>mono</td><td>cvcc</td><td>beak</td><td>n</td><td>c</td><td>cc</td></tr>\n",
              "\t<tr><td>tt01 </td><td> 14</td><td>gogg</td><td> 48.08563</td><td>559.2588</td><td> 97.17350</td><td> 97.17350</td><td>204.59580</td><td>       NA</td><td>       NA</td><td>⋯</td><td>kk</td><td>stop</td><td>velar</td><td>no </td><td>mono</td><td>cvcc</td><td>beak</td><td>n</td><td>c</td><td>cc</td></tr>\n",
              "\t<tr><td>tt01 </td><td> 15</td><td>gogg</td><td> 51.33272</td><td>510.3394</td><td> 89.06054</td><td> 89.06054</td><td>178.50653</td><td>       NA</td><td>       NA</td><td>⋯</td><td>kk</td><td>stop</td><td>velar</td><td>no </td><td>mono</td><td>cvcc</td><td>beak</td><td>n</td><td>c</td><td>cc</td></tr>\n",
              "\t<tr><td>⋮</td><td>⋮</td><td>⋮</td><td>⋮</td><td>⋮</td><td>⋮</td><td>⋮</td><td>⋮</td><td>⋮</td><td>⋮</td><td>⋱</td><td>⋮</td><td>⋮</td><td>⋮</td><td>⋮</td><td>⋮</td><td>⋮</td><td>⋮</td><td>⋮</td><td>⋮</td><td>⋮</td></tr>\n",
              "\t<tr><td>brs02</td><td>164</td><td>tefla</td><td>507.28844</td><td>507.4252</td><td> 80.30581</td><td> 80.30581</td><td>127.63930</td><td>       NA</td><td>       NA</td><td>⋯</td><td>p </td><td>stop</td><td>labial</td><td>no </td><td>di</td><td>cvccv</td><td>play chess</td><td>v</td><td>x</td><td>cx</td></tr>\n",
              "\t<tr><td>brs02</td><td>165</td><td>tefla</td><td>509.57025</td><td>483.7823</td><td> 89.95534</td><td> 89.95534</td><td>143.57884</td><td>       NA</td><td>       NA</td><td>⋯</td><td>p </td><td>stop</td><td>labial</td><td>no </td><td>di</td><td>cvccv</td><td>play chess</td><td>v</td><td>x</td><td>cx</td></tr>\n",
              "\t<tr><td>brs02</td><td>166</td><td>tefla</td><td>511.87617</td><td>540.5392</td><td>103.13891</td><td>103.13891</td><td>151.71632</td><td>       NA</td><td>       NA</td><td>⋯</td><td>p </td><td>stop</td><td>labial</td><td>no </td><td>di</td><td>cvccv</td><td>play chess</td><td>v</td><td>x</td><td>cx</td></tr>\n",
              "\t<tr><td>bte03</td><td>123</td><td>tefla</td><td>677.42136</td><td>523.0396</td><td>113.79644</td><td>113.79644</td><td>173.17663</td><td>       NA</td><td>       NA</td><td>⋯</td><td>p </td><td>stop</td><td>labial</td><td>no </td><td>di</td><td>cvccv</td><td>play chess</td><td>v</td><td>x</td><td>cx</td></tr>\n",
              "\t<tr><td>bte03</td><td>124</td><td>tefla</td><td>680.69618</td><td>517.1438</td><td> 71.82949</td><td> 71.82949</td><td>159.77737</td><td>       NA</td><td>       NA</td><td>⋯</td><td>p </td><td>stop</td><td>labial</td><td>no </td><td>di</td><td>cvccv</td><td>play chess</td><td>v</td><td>x</td><td>cx</td></tr>\n",
              "\t<tr><td>bte03</td><td>125</td><td>tefla</td><td>684.59029</td><td>464.9631</td><td> 92.86333</td><td> 92.86333</td><td>134.97553</td><td>       NA</td><td>       NA</td><td>⋯</td><td>p </td><td>stop</td><td>labial</td><td>no </td><td>di</td><td>cvccv</td><td>play chess</td><td>v</td><td>x</td><td>cx</td></tr>\n",
              "\t<tr><td>jj04 </td><td> 51</td><td>tefla</td><td>189.25478</td><td>548.8656</td><td> 92.90602</td><td> 92.90602</td><td>184.38596</td><td>       NA</td><td>       NA</td><td>⋯</td><td>p </td><td>stop</td><td>labial</td><td>no </td><td>di</td><td>cvccv</td><td>play chess</td><td>v</td><td>x</td><td>cx</td></tr>\n",
              "\t<tr><td>jj04 </td><td> 52</td><td>tefla</td><td>191.71431</td><td>522.3307</td><td> 80.28059</td><td> 80.28059</td><td>117.04422</td><td>       NA</td><td>       NA</td><td>⋯</td><td>p </td><td>stop</td><td>labial</td><td>no </td><td>di</td><td>cvccv</td><td>play chess</td><td>v</td><td>x</td><td>cx</td></tr>\n",
              "\t<tr><td>jj04 </td><td> 53</td><td>tefla</td><td>193.97935</td><td>475.9533</td><td> 71.25000</td><td> 71.25000</td><td>146.20559</td><td>       NA</td><td>       NA</td><td>⋯</td><td>p </td><td>stop</td><td>labial</td><td>no </td><td>di</td><td>cvccv</td><td>play chess</td><td>v</td><td>x</td><td>cx</td></tr>\n",
              "\t<tr><td>shg05</td><td> 29</td><td>tefla</td><td> 80.23565</td><td>377.4278</td><td> 69.29909</td><td> 69.29909</td><td> 89.23955</td><td>       NA</td><td>       NA</td><td>⋯</td><td>p </td><td>stop</td><td>labial</td><td>no </td><td>di</td><td>cvccv</td><td>play chess</td><td>v</td><td>x</td><td>cx</td></tr>\n",
              "\t<tr><td>shg05</td><td> 30</td><td>tefla</td><td> 82.72738</td><td>391.9082</td><td> 61.15282</td><td> 61.15282</td><td> 99.54298</td><td>       NA</td><td>       NA</td><td>⋯</td><td>p </td><td>stop</td><td>labial</td><td>no </td><td>di</td><td>cvccv</td><td>play chess</td><td>v</td><td>x</td><td>cx</td></tr>\n",
              "\t<tr><td>shg05</td><td> 31</td><td>tefla</td><td> 85.55915</td><td>416.2830</td><td> 65.34914</td><td> 65.34914</td><td> 90.77822</td><td>       NA</td><td>       NA</td><td>⋯</td><td>p </td><td>stop</td><td>labial</td><td>no </td><td>di</td><td>cvccv</td><td>play chess</td><td>v</td><td>x</td><td>cx</td></tr>\n",
              "\t<tr><td>tt01 </td><td>131</td><td>tefla</td><td>397.05796</td><td>434.9247</td><td> 90.07027</td><td> 90.07027</td><td>131.78652</td><td>       NA</td><td>       NA</td><td>⋯</td><td>p </td><td>stop</td><td>labial</td><td>no </td><td>di</td><td>cvccv</td><td>play chess</td><td>v</td><td>x</td><td>cx</td></tr>\n",
              "\t<tr><td>tt01 </td><td>132</td><td>tefla</td><td>399.75025</td><td>420.3157</td><td> 96.47652</td><td> 96.47652</td><td>113.99541</td><td>       NA</td><td>       NA</td><td>⋯</td><td>p </td><td>stop</td><td>labial</td><td>no </td><td>di</td><td>cvccv</td><td>play chess</td><td>v</td><td>x</td><td>cx</td></tr>\n",
              "\t<tr><td>tt01 </td><td>133</td><td>tefla</td><td>402.30499</td><td>435.9949</td><td> 93.24957</td><td> 93.24957</td><td>119.65175</td><td>       NA</td><td>       NA</td><td>⋯</td><td>p </td><td>stop</td><td>labial</td><td>no </td><td>di</td><td>cvccv</td><td>play chess</td><td>v</td><td>x</td><td>cx</td></tr>\n",
              "\t<tr><td>brs02</td><td>123</td><td>tipla</td><td>391.28791</td><td>563.4972</td><td>149.80738</td><td> 63.23927</td><td>210.41138</td><td> 1.778156</td><td> 88.34627</td><td>⋯</td><td>ʰp</td><td>stop</td><td>labial</td><td>yes</td><td>di</td><td>cvccv</td><td>tiptoe    </td><td>v</td><td>x</td><td>cx</td></tr>\n",
              "\t<tr><td>brs02</td><td>124</td><td>tipla</td><td>393.77230</td><td>557.1368</td><td>150.32603</td><td> 66.99652</td><td>225.13601</td><td>17.338861</td><td>100.66837</td><td>⋯</td><td>ʰp</td><td>stop</td><td>labial</td><td>yes</td><td>di</td><td>cvccv</td><td>tiptoe    </td><td>v</td><td>x</td><td>cx</td></tr>\n",
              "\t<tr><td>brs02</td><td>125</td><td>tipla</td><td>396.29691</td><td>589.4934</td><td>160.61043</td><td> 87.66297</td><td>218.43735</td><td>11.038415</td><td> 83.98587</td><td>⋯</td><td>ʰp</td><td>stop</td><td>labial</td><td>yes</td><td>di</td><td>cvccv</td><td>tiptoe    </td><td>v</td><td>x</td><td>cx</td></tr>\n",
              "\t<tr><td>bte03</td><td>164</td><td>tipla</td><td>860.28318</td><td>625.8535</td><td>136.99004</td><td>102.86259</td><td>198.35835</td><td>53.418594</td><td> 87.54605</td><td>⋯</td><td>ʰp</td><td>stop</td><td>labial</td><td>yes</td><td>di</td><td>cvccv</td><td>tiptoe    </td><td>v</td><td>x</td><td>cx</td></tr>\n",
              "\t<tr><td>bte03</td><td>165</td><td>tipla</td><td>863.78283</td><td>607.4289</td><td>159.83840</td><td>105.14647</td><td>192.91144</td><td>33.816184</td><td> 88.50811</td><td>⋯</td><td>ʰp</td><td>stop</td><td>labial</td><td>yes</td><td>di</td><td>cvccv</td><td>tiptoe    </td><td>v</td><td>x</td><td>cx</td></tr>\n",
              "\t<tr><td>bte03</td><td>166</td><td>tipla</td><td>868.19878</td><td>483.1097</td><td>138.88540</td><td> 83.87162</td><td>154.76587</td><td> 0.000000</td><td> 55.01378</td><td>⋯</td><td>ʰp</td><td>stop</td><td>labial</td><td>yes</td><td>di</td><td>cvccv</td><td>tiptoe    </td><td>v</td><td>x</td><td>cx</td></tr>\n",
              "\t<tr><td>jj04 </td><td> 31</td><td>tipla</td><td>124.71034</td><td>536.1340</td><td>109.37886</td><td> 74.81857</td><td>177.76496</td><td>47.062597</td><td> 81.62289</td><td>⋯</td><td>ʰp</td><td>stop</td><td>labial</td><td>yes</td><td>di</td><td>cvccv</td><td>tiptoe    </td><td>v</td><td>x</td><td>cx</td></tr>\n",
              "\t<tr><td>jj04 </td><td> 32</td><td>tipla</td><td>127.28134</td><td>551.4736</td><td>126.19217</td><td> 68.96232</td><td>181.25561</td><td>31.180067</td><td> 88.40992</td><td>⋯</td><td>ʰp</td><td>stop</td><td>labial</td><td>yes</td><td>di</td><td>cvccv</td><td>tiptoe    </td><td>v</td><td>x</td><td>cx</td></tr>\n",
              "\t<tr><td>jj04 </td><td> 33</td><td>tipla</td><td>129.48575</td><td>574.5267</td><td>110.96225</td><td> 71.67778</td><td>176.39105</td><td>58.027211</td><td> 97.31168</td><td>⋯</td><td>ʰp</td><td>stop</td><td>labial</td><td>yes</td><td>di</td><td>cvccv</td><td>tiptoe    </td><td>v</td><td>x</td><td>cx</td></tr>\n",
              "\t<tr><td>shg05</td><td>158</td><td>tipla</td><td>418.45171</td><td>601.7271</td><td> 69.90480</td><td> 47.73020</td><td>161.07050</td><td>52.182000</td><td> 74.35660</td><td>⋯</td><td>ʰp</td><td>stop</td><td>labial</td><td>yes</td><td>di</td><td>cvccv</td><td>tiptoe    </td><td>v</td><td>x</td><td>cx</td></tr>\n",
              "\t<tr><td>shg05</td><td>159</td><td>tipla</td><td>420.96675</td><td>411.4435</td><td> 65.94374</td><td> 48.28963</td><td>133.40656</td><td>49.750945</td><td> 67.40505</td><td>⋯</td><td>ʰp</td><td>stop</td><td>labial</td><td>yes</td><td>di</td><td>cvccv</td><td>tiptoe    </td><td>v</td><td>x</td><td>cx</td></tr>\n",
              "\t<tr><td>shg05</td><td>160</td><td>tipla</td><td>422.99278</td><td>409.4655</td><td> 65.72272</td><td> 39.96058</td><td>145.74784</td><td>39.612168</td><td> 65.37430</td><td>⋯</td><td>ʰp</td><td>stop</td><td>labial</td><td>yes</td><td>di</td><td>cvccv</td><td>tiptoe    </td><td>v</td><td>x</td><td>cx</td></tr>\n",
              "\t<tr><td>tt01 </td><td>104</td><td>tipla</td><td>317.26532</td><td>515.5126</td><td> 95.75639</td><td> 70.22795</td><td>187.69232</td><td>60.475403</td><td> 86.00385</td><td>⋯</td><td>ʰp</td><td>stop</td><td>labial</td><td>yes</td><td>di</td><td>cvccv</td><td>tiptoe    </td><td>v</td><td>x</td><td>cx</td></tr>\n",
              "\t<tr><td>tt01 </td><td>105</td><td>tipla</td><td>320.11993</td><td>468.7423</td><td> 90.74427</td><td> 78.34587</td><td>165.03340</td><td>69.794869</td><td> 82.19327</td><td>⋯</td><td>ʰp</td><td>stop</td><td>labial</td><td>yes</td><td>di</td><td>cvccv</td><td>tiptoe    </td><td>v</td><td>x</td><td>cx</td></tr>\n",
              "\t<tr><td>tt01 </td><td>106</td><td>tipla</td><td>323.03586</td><td>469.8649</td><td>104.47303</td><td> 93.77173</td><td>141.80800</td><td>46.975939</td><td> 57.67724</td><td>⋯</td><td>ʰp</td><td>stop</td><td>labial</td><td>yes</td><td>di</td><td>cvccv</td><td>tiptoe    </td><td>v</td><td>x</td><td>cx</td></tr>\n",
              "</tbody>\n",
              "</table>\n"
            ],
            "text/markdown": "\nA spec_tbl_df: 806 × 31\n\n| speaker &lt;chr&gt; | index &lt;dbl&gt; | word &lt;chr&gt; | time &lt;dbl&gt; | word.dur &lt;dbl&gt; | voicing.dur &lt;dbl&gt; | vowel.dur &lt;dbl&gt; | cluster.dur &lt;dbl&gt; | spreading.dur &lt;dbl&gt; | sonorant.dur &lt;dbl&gt; | ⋯ ⋯ | consonant &lt;chr&gt; | manner &lt;chr&gt; | place &lt;chr&gt; | aspiration &lt;chr&gt; | syllables &lt;chr&gt; | syl_structure &lt;chr&gt; | gloss &lt;chr&gt; | pos &lt;chr&gt; | comp &lt;chr&gt; | contx &lt;chr&gt; |\n|---|---|---|---|---|---|---|---|---|---|---|---|---|---|---|---|---|---|---|---|---|\n| brs02 | 137 | kokk | 438.02832 | 489.2532 | 153.17607 | 100.91771 | 231.29938 | 114.33275 | 166.59111 | ⋯ | ʰk | stop | velar | yes | mono | cvcc | cook | n | c | cc |\n| brs02 | 138 | kokk | 440.61933 | 444.0905 | 138.68315 |  72.55401 | 216.99153 |  98.20649 | 164.33563 | ⋯ | ʰk | stop | velar | yes | mono | cvcc | cook | n | c | cc |\n| brs02 | 139 | kokk | 443.07138 | 449.9383 | 169.77900 | 107.46184 | 194.68334 |  50.07513 | 112.39229 | ⋯ | ʰk | stop | velar | yes | mono | cvcc | cook | n | c | cc |\n| bte03 |  15 | kokk | 132.67144 | 529.7192 |  93.55598 |  93.00907 | 245.02401 | 119.20499 | 119.75190 | ⋯ | ʰk | stop | velar | yes | mono | cvcc | cook | n | c | cc |\n| bte03 |  16 | kokk | 137.56550 | 514.8230 | 159.27326 | 107.42444 | 230.21275 |  45.14472 |  96.99355 | ⋯ | ʰk | stop | velar | yes | mono | cvcc | cook | n | c | cc |\n| bte03 |  17 | kokk | 143.38381 | 519.2895 | 136.19726 |  99.31589 | 228.93690 |  72.28930 | 109.17066 | ⋯ | ʰk | stop | velar | yes | mono | cvcc | cook | n | c | cc |\n| jj04  |   4 | kokk |  45.93431 | 445.6592 | 108.00514 |  77.86753 | 176.18979 |  67.75561 |  97.89322 | ⋯ | ʰk | stop | velar | yes | mono | cvcc | cook | n | c | cc |\n| jj04  |   5 | kokk |  49.32262 | 379.7148 | 100.10910 |  65.98440 | 131.17987 |  35.45345 |  69.57814 | ⋯ | ʰk | stop | velar | yes | mono | cvcc | cook | n | c | cc |\n| jj04  |   6 | kokk |  51.80259 | 376.0025 | 131.27615 |  82.21591 | 142.22388 |  28.82011 |  77.88035 | ⋯ | ʰk | stop | velar | yes | mono | cvcc | cook | n | c | cc |\n| shg05 | 113 | kokk | 309.72030 | 350.2034 |  68.10528 |  59.50103 | 166.52371 |  95.66178 | 104.26603 | ⋯ | ʰk | stop | velar | yes | mono | cvcc | cook | n | c | cc |\n| shg05 | 114 | kokk | 312.01393 | 350.7511 |  86.12662 |  77.59983 | 154.28654 |  77.37591 |  85.90270 | ⋯ | ʰk | stop | velar | yes | mono | cvcc | cook | n | c | cc |\n| shg05 | 115 | kokk | 314.33173 | 359.3402 | 104.91519 |  81.97041 | 149.25461 |  62.89683 |  85.84161 | ⋯ | ʰk | stop | velar | yes | mono | cvcc | cook | n | c | cc |\n| tt01  |  37 | kokk | 119.19929 | 560.1532 |  85.93326 |  79.04965 | 191.91659 |  95.16904 | 102.05264 | ⋯ | ʰk | stop | velar | yes | mono | cvcc | cook | n | c | cc |\n| tt01  |  38 | kokk | 122.31784 | 524.0415 | 115.30592 |  83.88650 | 231.93942 | 108.19070 | 139.61012 | ⋯ | ʰk | stop | velar | yes | mono | cvcc | cook | n | c | cc |\n| tt01  |  39 | kokk | 125.55692 | 560.0630 | 107.38639 |  81.96280 | 239.47398 | 106.59386 | 132.01745 | ⋯ | ʰk | stop | velar | yes | mono | cvcc | cook | n | c | cc |\n| brs02 | 102 | gogg | 336.11847 | 368.7237 | 109.48264 | 109.48264 | 122.07976 |        NA |        NA | ⋯ | kk | stop | velar | no  | mono | cvcc | beak | n | c | cc |\n| brs02 | 103 | gogg | 338.59150 | 379.0528 | 114.42490 | 114.42490 | 143.47998 |        NA |        NA | ⋯ | kk | stop | velar | no  | mono | cvcc | beak | n | c | cc |\n| brs02 | 104 | gogg | 341.18800 | 412.3219 | 107.28181 | 107.28181 | 142.77936 |        NA |        NA | ⋯ | kk | stop | velar | no  | mono | cvcc | beak | n | c | cc |\n| bte03 |   4 | gogg |  64.25130 | 557.2902 | 100.47251 | 100.47251 | 237.50268 |        NA |        NA | ⋯ | kk | stop | velar | no  | mono | cvcc | beak | n | c | cc |\n| bte03 |   5 | gogg |  69.46999 | 583.5479 | 110.61186 | 110.61186 | 213.44592 |        NA |        NA | ⋯ | kk | stop | velar | no  | mono | cvcc | beak | n | c | cc |\n| bte03 |   6 | gogg |  73.80826 | 456.4811 | 108.39121 | 108.39121 | 209.66970 |        NA |        NA | ⋯ | kk | stop | velar | no  | mono | cvcc | beak | n | c | cc |\n| jj04  |  57 | gogg | 203.45037 | 444.7821 |  98.92600 |  98.92600 | 177.34552 |        NA |        NA | ⋯ | kk | stop | velar | no  | mono | cvcc | beak | n | c | cc |\n| jj04  |  58 | gogg | 205.48377 | 428.4086 | 104.07879 | 104.07879 | 149.97480 |        NA |        NA | ⋯ | kk | stop | velar | no  | mono | cvcc | beak | n | c | cc |\n| jj04  |  59 | gogg | 207.66526 | 399.4461 | 105.05559 | 105.05559 | 152.06430 |        NA |        NA | ⋯ | kk | stop | velar | no  | mono | cvcc | beak | n | c | cc |\n| shg05 | 131 | gogg | 353.84715 | 284.5925 |  90.81942 |  90.81942 |  95.47484 |        NA |        NA | ⋯ | kk | stop | velar | no  | mono | cvcc | beak | n | c | cc |\n| shg05 | 132 | gogg | 356.28892 | 289.5847 | 100.51126 | 100.51126 |  89.09148 |        NA |        NA | ⋯ | kk | stop | velar | no  | mono | cvcc | beak | n | c | cc |\n| shg05 | 133 | gogg | 358.72718 | 274.9919 |  91.99187 |  91.99187 |  85.96372 |        NA |        NA | ⋯ | kk | stop | velar | no  | mono | cvcc | beak | n | c | cc |\n| tt01  |  13 | gogg |  44.86251 | 584.1639 |  94.57466 |  94.57466 | 205.11662 |        NA |        NA | ⋯ | kk | stop | velar | no  | mono | cvcc | beak | n | c | cc |\n| tt01  |  14 | gogg |  48.08563 | 559.2588 |  97.17350 |  97.17350 | 204.59580 |        NA |        NA | ⋯ | kk | stop | velar | no  | mono | cvcc | beak | n | c | cc |\n| tt01  |  15 | gogg |  51.33272 | 510.3394 |  89.06054 |  89.06054 | 178.50653 |        NA |        NA | ⋯ | kk | stop | velar | no  | mono | cvcc | beak | n | c | cc |\n| ⋮ | ⋮ | ⋮ | ⋮ | ⋮ | ⋮ | ⋮ | ⋮ | ⋮ | ⋮ | ⋱ | ⋮ | ⋮ | ⋮ | ⋮ | ⋮ | ⋮ | ⋮ | ⋮ | ⋮ | ⋮ |\n| brs02 | 164 | tefla | 507.28844 | 507.4252 |  80.30581 |  80.30581 | 127.63930 |        NA |        NA | ⋯ | p  | stop | labial | no  | di | cvccv | play chess | v | x | cx |\n| brs02 | 165 | tefla | 509.57025 | 483.7823 |  89.95534 |  89.95534 | 143.57884 |        NA |        NA | ⋯ | p  | stop | labial | no  | di | cvccv | play chess | v | x | cx |\n| brs02 | 166 | tefla | 511.87617 | 540.5392 | 103.13891 | 103.13891 | 151.71632 |        NA |        NA | ⋯ | p  | stop | labial | no  | di | cvccv | play chess | v | x | cx |\n| bte03 | 123 | tefla | 677.42136 | 523.0396 | 113.79644 | 113.79644 | 173.17663 |        NA |        NA | ⋯ | p  | stop | labial | no  | di | cvccv | play chess | v | x | cx |\n| bte03 | 124 | tefla | 680.69618 | 517.1438 |  71.82949 |  71.82949 | 159.77737 |        NA |        NA | ⋯ | p  | stop | labial | no  | di | cvccv | play chess | v | x | cx |\n| bte03 | 125 | tefla | 684.59029 | 464.9631 |  92.86333 |  92.86333 | 134.97553 |        NA |        NA | ⋯ | p  | stop | labial | no  | di | cvccv | play chess | v | x | cx |\n| jj04  |  51 | tefla | 189.25478 | 548.8656 |  92.90602 |  92.90602 | 184.38596 |        NA |        NA | ⋯ | p  | stop | labial | no  | di | cvccv | play chess | v | x | cx |\n| jj04  |  52 | tefla | 191.71431 | 522.3307 |  80.28059 |  80.28059 | 117.04422 |        NA |        NA | ⋯ | p  | stop | labial | no  | di | cvccv | play chess | v | x | cx |\n| jj04  |  53 | tefla | 193.97935 | 475.9533 |  71.25000 |  71.25000 | 146.20559 |        NA |        NA | ⋯ | p  | stop | labial | no  | di | cvccv | play chess | v | x | cx |\n| shg05 |  29 | tefla |  80.23565 | 377.4278 |  69.29909 |  69.29909 |  89.23955 |        NA |        NA | ⋯ | p  | stop | labial | no  | di | cvccv | play chess | v | x | cx |\n| shg05 |  30 | tefla |  82.72738 | 391.9082 |  61.15282 |  61.15282 |  99.54298 |        NA |        NA | ⋯ | p  | stop | labial | no  | di | cvccv | play chess | v | x | cx |\n| shg05 |  31 | tefla |  85.55915 | 416.2830 |  65.34914 |  65.34914 |  90.77822 |        NA |        NA | ⋯ | p  | stop | labial | no  | di | cvccv | play chess | v | x | cx |\n| tt01  | 131 | tefla | 397.05796 | 434.9247 |  90.07027 |  90.07027 | 131.78652 |        NA |        NA | ⋯ | p  | stop | labial | no  | di | cvccv | play chess | v | x | cx |\n| tt01  | 132 | tefla | 399.75025 | 420.3157 |  96.47652 |  96.47652 | 113.99541 |        NA |        NA | ⋯ | p  | stop | labial | no  | di | cvccv | play chess | v | x | cx |\n| tt01  | 133 | tefla | 402.30499 | 435.9949 |  93.24957 |  93.24957 | 119.65175 |        NA |        NA | ⋯ | p  | stop | labial | no  | di | cvccv | play chess | v | x | cx |\n| brs02 | 123 | tipla | 391.28791 | 563.4972 | 149.80738 |  63.23927 | 210.41138 |  1.778156 |  88.34627 | ⋯ | ʰp | stop | labial | yes | di | cvccv | tiptoe     | v | x | cx |\n| brs02 | 124 | tipla | 393.77230 | 557.1368 | 150.32603 |  66.99652 | 225.13601 | 17.338861 | 100.66837 | ⋯ | ʰp | stop | labial | yes | di | cvccv | tiptoe     | v | x | cx |\n| brs02 | 125 | tipla | 396.29691 | 589.4934 | 160.61043 |  87.66297 | 218.43735 | 11.038415 |  83.98587 | ⋯ | ʰp | stop | labial | yes | di | cvccv | tiptoe     | v | x | cx |\n| bte03 | 164 | tipla | 860.28318 | 625.8535 | 136.99004 | 102.86259 | 198.35835 | 53.418594 |  87.54605 | ⋯ | ʰp | stop | labial | yes | di | cvccv | tiptoe     | v | x | cx |\n| bte03 | 165 | tipla | 863.78283 | 607.4289 | 159.83840 | 105.14647 | 192.91144 | 33.816184 |  88.50811 | ⋯ | ʰp | stop | labial | yes | di | cvccv | tiptoe     | v | x | cx |\n| bte03 | 166 | tipla | 868.19878 | 483.1097 | 138.88540 |  83.87162 | 154.76587 |  0.000000 |  55.01378 | ⋯ | ʰp | stop | labial | yes | di | cvccv | tiptoe     | v | x | cx |\n| jj04  |  31 | tipla | 124.71034 | 536.1340 | 109.37886 |  74.81857 | 177.76496 | 47.062597 |  81.62289 | ⋯ | ʰp | stop | labial | yes | di | cvccv | tiptoe     | v | x | cx |\n| jj04  |  32 | tipla | 127.28134 | 551.4736 | 126.19217 |  68.96232 | 181.25561 | 31.180067 |  88.40992 | ⋯ | ʰp | stop | labial | yes | di | cvccv | tiptoe     | v | x | cx |\n| jj04  |  33 | tipla | 129.48575 | 574.5267 | 110.96225 |  71.67778 | 176.39105 | 58.027211 |  97.31168 | ⋯ | ʰp | stop | labial | yes | di | cvccv | tiptoe     | v | x | cx |\n| shg05 | 158 | tipla | 418.45171 | 601.7271 |  69.90480 |  47.73020 | 161.07050 | 52.182000 |  74.35660 | ⋯ | ʰp | stop | labial | yes | di | cvccv | tiptoe     | v | x | cx |\n| shg05 | 159 | tipla | 420.96675 | 411.4435 |  65.94374 |  48.28963 | 133.40656 | 49.750945 |  67.40505 | ⋯ | ʰp | stop | labial | yes | di | cvccv | tiptoe     | v | x | cx |\n| shg05 | 160 | tipla | 422.99278 | 409.4655 |  65.72272 |  39.96058 | 145.74784 | 39.612168 |  65.37430 | ⋯ | ʰp | stop | labial | yes | di | cvccv | tiptoe     | v | x | cx |\n| tt01  | 104 | tipla | 317.26532 | 515.5126 |  95.75639 |  70.22795 | 187.69232 | 60.475403 |  86.00385 | ⋯ | ʰp | stop | labial | yes | di | cvccv | tiptoe     | v | x | cx |\n| tt01  | 105 | tipla | 320.11993 | 468.7423 |  90.74427 |  78.34587 | 165.03340 | 69.794869 |  82.19327 | ⋯ | ʰp | stop | labial | yes | di | cvccv | tiptoe     | v | x | cx |\n| tt01  | 106 | tipla | 323.03586 | 469.8649 | 104.47303 |  93.77173 | 141.80800 | 46.975939 |  57.67724 | ⋯ | ʰp | stop | labial | yes | di | cvccv | tiptoe     | v | x | cx |\n\n",
            "text/latex": "A spec\\_tbl\\_df: 806 × 31\n\\begin{tabular}{lllllllllllllllllllll}\n speaker & index & word & time & word.dur & voicing.dur & vowel.dur & cluster.dur & spreading.dur & sonorant.dur & ⋯ & consonant & manner & place & aspiration & syllables & syl\\_structure & gloss & pos & comp & contx\\\\\n <chr> & <dbl> & <chr> & <dbl> & <dbl> & <dbl> & <dbl> & <dbl> & <dbl> & <dbl> & ⋯ & <chr> & <chr> & <chr> & <chr> & <chr> & <chr> & <chr> & <chr> & <chr> & <chr>\\\\\n\\hline\n\t brs02 & 137 & kokk & 438.02832 & 489.2532 & 153.17607 & 100.91771 & 231.29938 & 114.33275 & 166.59111 & ⋯ & ʰk & stop & velar & yes & mono & cvcc & cook & n & c & cc\\\\\n\t brs02 & 138 & kokk & 440.61933 & 444.0905 & 138.68315 &  72.55401 & 216.99153 &  98.20649 & 164.33563 & ⋯ & ʰk & stop & velar & yes & mono & cvcc & cook & n & c & cc\\\\\n\t brs02 & 139 & kokk & 443.07138 & 449.9383 & 169.77900 & 107.46184 & 194.68334 &  50.07513 & 112.39229 & ⋯ & ʰk & stop & velar & yes & mono & cvcc & cook & n & c & cc\\\\\n\t bte03 &  15 & kokk & 132.67144 & 529.7192 &  93.55598 &  93.00907 & 245.02401 & 119.20499 & 119.75190 & ⋯ & ʰk & stop & velar & yes & mono & cvcc & cook & n & c & cc\\\\\n\t bte03 &  16 & kokk & 137.56550 & 514.8230 & 159.27326 & 107.42444 & 230.21275 &  45.14472 &  96.99355 & ⋯ & ʰk & stop & velar & yes & mono & cvcc & cook & n & c & cc\\\\\n\t bte03 &  17 & kokk & 143.38381 & 519.2895 & 136.19726 &  99.31589 & 228.93690 &  72.28930 & 109.17066 & ⋯ & ʰk & stop & velar & yes & mono & cvcc & cook & n & c & cc\\\\\n\t jj04  &   4 & kokk &  45.93431 & 445.6592 & 108.00514 &  77.86753 & 176.18979 &  67.75561 &  97.89322 & ⋯ & ʰk & stop & velar & yes & mono & cvcc & cook & n & c & cc\\\\\n\t jj04  &   5 & kokk &  49.32262 & 379.7148 & 100.10910 &  65.98440 & 131.17987 &  35.45345 &  69.57814 & ⋯ & ʰk & stop & velar & yes & mono & cvcc & cook & n & c & cc\\\\\n\t jj04  &   6 & kokk &  51.80259 & 376.0025 & 131.27615 &  82.21591 & 142.22388 &  28.82011 &  77.88035 & ⋯ & ʰk & stop & velar & yes & mono & cvcc & cook & n & c & cc\\\\\n\t shg05 & 113 & kokk & 309.72030 & 350.2034 &  68.10528 &  59.50103 & 166.52371 &  95.66178 & 104.26603 & ⋯ & ʰk & stop & velar & yes & mono & cvcc & cook & n & c & cc\\\\\n\t shg05 & 114 & kokk & 312.01393 & 350.7511 &  86.12662 &  77.59983 & 154.28654 &  77.37591 &  85.90270 & ⋯ & ʰk & stop & velar & yes & mono & cvcc & cook & n & c & cc\\\\\n\t shg05 & 115 & kokk & 314.33173 & 359.3402 & 104.91519 &  81.97041 & 149.25461 &  62.89683 &  85.84161 & ⋯ & ʰk & stop & velar & yes & mono & cvcc & cook & n & c & cc\\\\\n\t tt01  &  37 & kokk & 119.19929 & 560.1532 &  85.93326 &  79.04965 & 191.91659 &  95.16904 & 102.05264 & ⋯ & ʰk & stop & velar & yes & mono & cvcc & cook & n & c & cc\\\\\n\t tt01  &  38 & kokk & 122.31784 & 524.0415 & 115.30592 &  83.88650 & 231.93942 & 108.19070 & 139.61012 & ⋯ & ʰk & stop & velar & yes & mono & cvcc & cook & n & c & cc\\\\\n\t tt01  &  39 & kokk & 125.55692 & 560.0630 & 107.38639 &  81.96280 & 239.47398 & 106.59386 & 132.01745 & ⋯ & ʰk & stop & velar & yes & mono & cvcc & cook & n & c & cc\\\\\n\t brs02 & 102 & gogg & 336.11847 & 368.7237 & 109.48264 & 109.48264 & 122.07976 &        NA &        NA & ⋯ & kk & stop & velar & no  & mono & cvcc & beak & n & c & cc\\\\\n\t brs02 & 103 & gogg & 338.59150 & 379.0528 & 114.42490 & 114.42490 & 143.47998 &        NA &        NA & ⋯ & kk & stop & velar & no  & mono & cvcc & beak & n & c & cc\\\\\n\t brs02 & 104 & gogg & 341.18800 & 412.3219 & 107.28181 & 107.28181 & 142.77936 &        NA &        NA & ⋯ & kk & stop & velar & no  & mono & cvcc & beak & n & c & cc\\\\\n\t bte03 &   4 & gogg &  64.25130 & 557.2902 & 100.47251 & 100.47251 & 237.50268 &        NA &        NA & ⋯ & kk & stop & velar & no  & mono & cvcc & beak & n & c & cc\\\\\n\t bte03 &   5 & gogg &  69.46999 & 583.5479 & 110.61186 & 110.61186 & 213.44592 &        NA &        NA & ⋯ & kk & stop & velar & no  & mono & cvcc & beak & n & c & cc\\\\\n\t bte03 &   6 & gogg &  73.80826 & 456.4811 & 108.39121 & 108.39121 & 209.66970 &        NA &        NA & ⋯ & kk & stop & velar & no  & mono & cvcc & beak & n & c & cc\\\\\n\t jj04  &  57 & gogg & 203.45037 & 444.7821 &  98.92600 &  98.92600 & 177.34552 &        NA &        NA & ⋯ & kk & stop & velar & no  & mono & cvcc & beak & n & c & cc\\\\\n\t jj04  &  58 & gogg & 205.48377 & 428.4086 & 104.07879 & 104.07879 & 149.97480 &        NA &        NA & ⋯ & kk & stop & velar & no  & mono & cvcc & beak & n & c & cc\\\\\n\t jj04  &  59 & gogg & 207.66526 & 399.4461 & 105.05559 & 105.05559 & 152.06430 &        NA &        NA & ⋯ & kk & stop & velar & no  & mono & cvcc & beak & n & c & cc\\\\\n\t shg05 & 131 & gogg & 353.84715 & 284.5925 &  90.81942 &  90.81942 &  95.47484 &        NA &        NA & ⋯ & kk & stop & velar & no  & mono & cvcc & beak & n & c & cc\\\\\n\t shg05 & 132 & gogg & 356.28892 & 289.5847 & 100.51126 & 100.51126 &  89.09148 &        NA &        NA & ⋯ & kk & stop & velar & no  & mono & cvcc & beak & n & c & cc\\\\\n\t shg05 & 133 & gogg & 358.72718 & 274.9919 &  91.99187 &  91.99187 &  85.96372 &        NA &        NA & ⋯ & kk & stop & velar & no  & mono & cvcc & beak & n & c & cc\\\\\n\t tt01  &  13 & gogg &  44.86251 & 584.1639 &  94.57466 &  94.57466 & 205.11662 &        NA &        NA & ⋯ & kk & stop & velar & no  & mono & cvcc & beak & n & c & cc\\\\\n\t tt01  &  14 & gogg &  48.08563 & 559.2588 &  97.17350 &  97.17350 & 204.59580 &        NA &        NA & ⋯ & kk & stop & velar & no  & mono & cvcc & beak & n & c & cc\\\\\n\t tt01  &  15 & gogg &  51.33272 & 510.3394 &  89.06054 &  89.06054 & 178.50653 &        NA &        NA & ⋯ & kk & stop & velar & no  & mono & cvcc & beak & n & c & cc\\\\\n\t ⋮ & ⋮ & ⋮ & ⋮ & ⋮ & ⋮ & ⋮ & ⋮ & ⋮ & ⋮ & ⋱ & ⋮ & ⋮ & ⋮ & ⋮ & ⋮ & ⋮ & ⋮ & ⋮ & ⋮ & ⋮\\\\\n\t brs02 & 164 & tefla & 507.28844 & 507.4252 &  80.30581 &  80.30581 & 127.63930 &        NA &        NA & ⋯ & p  & stop & labial & no  & di & cvccv & play chess & v & x & cx\\\\\n\t brs02 & 165 & tefla & 509.57025 & 483.7823 &  89.95534 &  89.95534 & 143.57884 &        NA &        NA & ⋯ & p  & stop & labial & no  & di & cvccv & play chess & v & x & cx\\\\\n\t brs02 & 166 & tefla & 511.87617 & 540.5392 & 103.13891 & 103.13891 & 151.71632 &        NA &        NA & ⋯ & p  & stop & labial & no  & di & cvccv & play chess & v & x & cx\\\\\n\t bte03 & 123 & tefla & 677.42136 & 523.0396 & 113.79644 & 113.79644 & 173.17663 &        NA &        NA & ⋯ & p  & stop & labial & no  & di & cvccv & play chess & v & x & cx\\\\\n\t bte03 & 124 & tefla & 680.69618 & 517.1438 &  71.82949 &  71.82949 & 159.77737 &        NA &        NA & ⋯ & p  & stop & labial & no  & di & cvccv & play chess & v & x & cx\\\\\n\t bte03 & 125 & tefla & 684.59029 & 464.9631 &  92.86333 &  92.86333 & 134.97553 &        NA &        NA & ⋯ & p  & stop & labial & no  & di & cvccv & play chess & v & x & cx\\\\\n\t jj04  &  51 & tefla & 189.25478 & 548.8656 &  92.90602 &  92.90602 & 184.38596 &        NA &        NA & ⋯ & p  & stop & labial & no  & di & cvccv & play chess & v & x & cx\\\\\n\t jj04  &  52 & tefla & 191.71431 & 522.3307 &  80.28059 &  80.28059 & 117.04422 &        NA &        NA & ⋯ & p  & stop & labial & no  & di & cvccv & play chess & v & x & cx\\\\\n\t jj04  &  53 & tefla & 193.97935 & 475.9533 &  71.25000 &  71.25000 & 146.20559 &        NA &        NA & ⋯ & p  & stop & labial & no  & di & cvccv & play chess & v & x & cx\\\\\n\t shg05 &  29 & tefla &  80.23565 & 377.4278 &  69.29909 &  69.29909 &  89.23955 &        NA &        NA & ⋯ & p  & stop & labial & no  & di & cvccv & play chess & v & x & cx\\\\\n\t shg05 &  30 & tefla &  82.72738 & 391.9082 &  61.15282 &  61.15282 &  99.54298 &        NA &        NA & ⋯ & p  & stop & labial & no  & di & cvccv & play chess & v & x & cx\\\\\n\t shg05 &  31 & tefla &  85.55915 & 416.2830 &  65.34914 &  65.34914 &  90.77822 &        NA &        NA & ⋯ & p  & stop & labial & no  & di & cvccv & play chess & v & x & cx\\\\\n\t tt01  & 131 & tefla & 397.05796 & 434.9247 &  90.07027 &  90.07027 & 131.78652 &        NA &        NA & ⋯ & p  & stop & labial & no  & di & cvccv & play chess & v & x & cx\\\\\n\t tt01  & 132 & tefla & 399.75025 & 420.3157 &  96.47652 &  96.47652 & 113.99541 &        NA &        NA & ⋯ & p  & stop & labial & no  & di & cvccv & play chess & v & x & cx\\\\\n\t tt01  & 133 & tefla & 402.30499 & 435.9949 &  93.24957 &  93.24957 & 119.65175 &        NA &        NA & ⋯ & p  & stop & labial & no  & di & cvccv & play chess & v & x & cx\\\\\n\t brs02 & 123 & tipla & 391.28791 & 563.4972 & 149.80738 &  63.23927 & 210.41138 &  1.778156 &  88.34627 & ⋯ & ʰp & stop & labial & yes & di & cvccv & tiptoe     & v & x & cx\\\\\n\t brs02 & 124 & tipla & 393.77230 & 557.1368 & 150.32603 &  66.99652 & 225.13601 & 17.338861 & 100.66837 & ⋯ & ʰp & stop & labial & yes & di & cvccv & tiptoe     & v & x & cx\\\\\n\t brs02 & 125 & tipla & 396.29691 & 589.4934 & 160.61043 &  87.66297 & 218.43735 & 11.038415 &  83.98587 & ⋯ & ʰp & stop & labial & yes & di & cvccv & tiptoe     & v & x & cx\\\\\n\t bte03 & 164 & tipla & 860.28318 & 625.8535 & 136.99004 & 102.86259 & 198.35835 & 53.418594 &  87.54605 & ⋯ & ʰp & stop & labial & yes & di & cvccv & tiptoe     & v & x & cx\\\\\n\t bte03 & 165 & tipla & 863.78283 & 607.4289 & 159.83840 & 105.14647 & 192.91144 & 33.816184 &  88.50811 & ⋯ & ʰp & stop & labial & yes & di & cvccv & tiptoe     & v & x & cx\\\\\n\t bte03 & 166 & tipla & 868.19878 & 483.1097 & 138.88540 &  83.87162 & 154.76587 &  0.000000 &  55.01378 & ⋯ & ʰp & stop & labial & yes & di & cvccv & tiptoe     & v & x & cx\\\\\n\t jj04  &  31 & tipla & 124.71034 & 536.1340 & 109.37886 &  74.81857 & 177.76496 & 47.062597 &  81.62289 & ⋯ & ʰp & stop & labial & yes & di & cvccv & tiptoe     & v & x & cx\\\\\n\t jj04  &  32 & tipla & 127.28134 & 551.4736 & 126.19217 &  68.96232 & 181.25561 & 31.180067 &  88.40992 & ⋯ & ʰp & stop & labial & yes & di & cvccv & tiptoe     & v & x & cx\\\\\n\t jj04  &  33 & tipla & 129.48575 & 574.5267 & 110.96225 &  71.67778 & 176.39105 & 58.027211 &  97.31168 & ⋯ & ʰp & stop & labial & yes & di & cvccv & tiptoe     & v & x & cx\\\\\n\t shg05 & 158 & tipla & 418.45171 & 601.7271 &  69.90480 &  47.73020 & 161.07050 & 52.182000 &  74.35660 & ⋯ & ʰp & stop & labial & yes & di & cvccv & tiptoe     & v & x & cx\\\\\n\t shg05 & 159 & tipla & 420.96675 & 411.4435 &  65.94374 &  48.28963 & 133.40656 & 49.750945 &  67.40505 & ⋯ & ʰp & stop & labial & yes & di & cvccv & tiptoe     & v & x & cx\\\\\n\t shg05 & 160 & tipla & 422.99278 & 409.4655 &  65.72272 &  39.96058 & 145.74784 & 39.612168 &  65.37430 & ⋯ & ʰp & stop & labial & yes & di & cvccv & tiptoe     & v & x & cx\\\\\n\t tt01  & 104 & tipla & 317.26532 & 515.5126 &  95.75639 &  70.22795 & 187.69232 & 60.475403 &  86.00385 & ⋯ & ʰp & stop & labial & yes & di & cvccv & tiptoe     & v & x & cx\\\\\n\t tt01  & 105 & tipla & 320.11993 & 468.7423 &  90.74427 &  78.34587 & 165.03340 & 69.794869 &  82.19327 & ⋯ & ʰp & stop & labial & yes & di & cvccv & tiptoe     & v & x & cx\\\\\n\t tt01  & 106 & tipla & 323.03586 & 469.8649 & 104.47303 &  93.77173 & 141.80800 & 46.975939 &  57.67724 & ⋯ & ʰp & stop & labial & yes & di & cvccv & tiptoe     & v & x & cx\\\\\n\\end{tabular}\n",
            "text/plain": [
              "    speaker index word  time      word.dur voicing.dur vowel.dur cluster.dur\n",
              "1   brs02   137   kokk  438.02832 489.2532 153.17607   100.91771 231.29938  \n",
              "2   brs02   138   kokk  440.61933 444.0905 138.68315    72.55401 216.99153  \n",
              "3   brs02   139   kokk  443.07138 449.9383 169.77900   107.46184 194.68334  \n",
              "4   bte03    15   kokk  132.67144 529.7192  93.55598    93.00907 245.02401  \n",
              "5   bte03    16   kokk  137.56550 514.8230 159.27326   107.42444 230.21275  \n",
              "6   bte03    17   kokk  143.38381 519.2895 136.19726    99.31589 228.93690  \n",
              "7   jj04      4   kokk   45.93431 445.6592 108.00514    77.86753 176.18979  \n",
              "8   jj04      5   kokk   49.32262 379.7148 100.10910    65.98440 131.17987  \n",
              "9   jj04      6   kokk   51.80259 376.0025 131.27615    82.21591 142.22388  \n",
              "10  shg05   113   kokk  309.72030 350.2034  68.10528    59.50103 166.52371  \n",
              "11  shg05   114   kokk  312.01393 350.7511  86.12662    77.59983 154.28654  \n",
              "12  shg05   115   kokk  314.33173 359.3402 104.91519    81.97041 149.25461  \n",
              "13  tt01     37   kokk  119.19929 560.1532  85.93326    79.04965 191.91659  \n",
              "14  tt01     38   kokk  122.31784 524.0415 115.30592    83.88650 231.93942  \n",
              "15  tt01     39   kokk  125.55692 560.0630 107.38639    81.96280 239.47398  \n",
              "16  brs02   102   gogg  336.11847 368.7237 109.48264   109.48264 122.07976  \n",
              "17  brs02   103   gogg  338.59150 379.0528 114.42490   114.42490 143.47998  \n",
              "18  brs02   104   gogg  341.18800 412.3219 107.28181   107.28181 142.77936  \n",
              "19  bte03     4   gogg   64.25130 557.2902 100.47251   100.47251 237.50268  \n",
              "20  bte03     5   gogg   69.46999 583.5479 110.61186   110.61186 213.44592  \n",
              "21  bte03     6   gogg   73.80826 456.4811 108.39121   108.39121 209.66970  \n",
              "22  jj04     57   gogg  203.45037 444.7821  98.92600    98.92600 177.34552  \n",
              "23  jj04     58   gogg  205.48377 428.4086 104.07879   104.07879 149.97480  \n",
              "24  jj04     59   gogg  207.66526 399.4461 105.05559   105.05559 152.06430  \n",
              "25  shg05   131   gogg  353.84715 284.5925  90.81942    90.81942  95.47484  \n",
              "26  shg05   132   gogg  356.28892 289.5847 100.51126   100.51126  89.09148  \n",
              "27  shg05   133   gogg  358.72718 274.9919  91.99187    91.99187  85.96372  \n",
              "28  tt01     13   gogg   44.86251 584.1639  94.57466    94.57466 205.11662  \n",
              "29  tt01     14   gogg   48.08563 559.2588  97.17350    97.17350 204.59580  \n",
              "30  tt01     15   gogg   51.33272 510.3394  89.06054    89.06054 178.50653  \n",
              "⋮   ⋮       ⋮     ⋮     ⋮         ⋮        ⋮           ⋮         ⋮          \n",
              "777 brs02   164   tefla 507.28844 507.4252  80.30581    80.30581 127.63930  \n",
              "778 brs02   165   tefla 509.57025 483.7823  89.95534    89.95534 143.57884  \n",
              "779 brs02   166   tefla 511.87617 540.5392 103.13891   103.13891 151.71632  \n",
              "780 bte03   123   tefla 677.42136 523.0396 113.79644   113.79644 173.17663  \n",
              "781 bte03   124   tefla 680.69618 517.1438  71.82949    71.82949 159.77737  \n",
              "782 bte03   125   tefla 684.59029 464.9631  92.86333    92.86333 134.97553  \n",
              "783 jj04     51   tefla 189.25478 548.8656  92.90602    92.90602 184.38596  \n",
              "784 jj04     52   tefla 191.71431 522.3307  80.28059    80.28059 117.04422  \n",
              "785 jj04     53   tefla 193.97935 475.9533  71.25000    71.25000 146.20559  \n",
              "786 shg05    29   tefla  80.23565 377.4278  69.29909    69.29909  89.23955  \n",
              "787 shg05    30   tefla  82.72738 391.9082  61.15282    61.15282  99.54298  \n",
              "788 shg05    31   tefla  85.55915 416.2830  65.34914    65.34914  90.77822  \n",
              "789 tt01    131   tefla 397.05796 434.9247  90.07027    90.07027 131.78652  \n",
              "790 tt01    132   tefla 399.75025 420.3157  96.47652    96.47652 113.99541  \n",
              "791 tt01    133   tefla 402.30499 435.9949  93.24957    93.24957 119.65175  \n",
              "792 brs02   123   tipla 391.28791 563.4972 149.80738    63.23927 210.41138  \n",
              "793 brs02   124   tipla 393.77230 557.1368 150.32603    66.99652 225.13601  \n",
              "794 brs02   125   tipla 396.29691 589.4934 160.61043    87.66297 218.43735  \n",
              "795 bte03   164   tipla 860.28318 625.8535 136.99004   102.86259 198.35835  \n",
              "796 bte03   165   tipla 863.78283 607.4289 159.83840   105.14647 192.91144  \n",
              "797 bte03   166   tipla 868.19878 483.1097 138.88540    83.87162 154.76587  \n",
              "798 jj04     31   tipla 124.71034 536.1340 109.37886    74.81857 177.76496  \n",
              "799 jj04     32   tipla 127.28134 551.4736 126.19217    68.96232 181.25561  \n",
              "800 jj04     33   tipla 129.48575 574.5267 110.96225    71.67778 176.39105  \n",
              "801 shg05   158   tipla 418.45171 601.7271  69.90480    47.73020 161.07050  \n",
              "802 shg05   159   tipla 420.96675 411.4435  65.94374    48.28963 133.40656  \n",
              "803 shg05   160   tipla 422.99278 409.4655  65.72272    39.96058 145.74784  \n",
              "804 tt01    104   tipla 317.26532 515.5126  95.75639    70.22795 187.69232  \n",
              "805 tt01    105   tipla 320.11993 468.7423  90.74427    78.34587 165.03340  \n",
              "806 tt01    106   tipla 323.03586 469.8649 104.47303    93.77173 141.80800  \n",
              "    spreading.dur sonorant.dur ⋯ consonant manner place  aspiration syllables\n",
              "1   114.33275     166.59111    ⋯ ʰk        stop   velar  yes        mono     \n",
              "2    98.20649     164.33563    ⋯ ʰk        stop   velar  yes        mono     \n",
              "3    50.07513     112.39229    ⋯ ʰk        stop   velar  yes        mono     \n",
              "4   119.20499     119.75190    ⋯ ʰk        stop   velar  yes        mono     \n",
              "5    45.14472      96.99355    ⋯ ʰk        stop   velar  yes        mono     \n",
              "6    72.28930     109.17066    ⋯ ʰk        stop   velar  yes        mono     \n",
              "7    67.75561      97.89322    ⋯ ʰk        stop   velar  yes        mono     \n",
              "8    35.45345      69.57814    ⋯ ʰk        stop   velar  yes        mono     \n",
              "9    28.82011      77.88035    ⋯ ʰk        stop   velar  yes        mono     \n",
              "10   95.66178     104.26603    ⋯ ʰk        stop   velar  yes        mono     \n",
              "11   77.37591      85.90270    ⋯ ʰk        stop   velar  yes        mono     \n",
              "12   62.89683      85.84161    ⋯ ʰk        stop   velar  yes        mono     \n",
              "13   95.16904     102.05264    ⋯ ʰk        stop   velar  yes        mono     \n",
              "14  108.19070     139.61012    ⋯ ʰk        stop   velar  yes        mono     \n",
              "15  106.59386     132.01745    ⋯ ʰk        stop   velar  yes        mono     \n",
              "16         NA            NA    ⋯ kk        stop   velar  no         mono     \n",
              "17         NA            NA    ⋯ kk        stop   velar  no         mono     \n",
              "18         NA            NA    ⋯ kk        stop   velar  no         mono     \n",
              "19         NA            NA    ⋯ kk        stop   velar  no         mono     \n",
              "20         NA            NA    ⋯ kk        stop   velar  no         mono     \n",
              "21         NA            NA    ⋯ kk        stop   velar  no         mono     \n",
              "22         NA            NA    ⋯ kk        stop   velar  no         mono     \n",
              "23         NA            NA    ⋯ kk        stop   velar  no         mono     \n",
              "24         NA            NA    ⋯ kk        stop   velar  no         mono     \n",
              "25         NA            NA    ⋯ kk        stop   velar  no         mono     \n",
              "26         NA            NA    ⋯ kk        stop   velar  no         mono     \n",
              "27         NA            NA    ⋯ kk        stop   velar  no         mono     \n",
              "28         NA            NA    ⋯ kk        stop   velar  no         mono     \n",
              "29         NA            NA    ⋯ kk        stop   velar  no         mono     \n",
              "30         NA            NA    ⋯ kk        stop   velar  no         mono     \n",
              "⋮   ⋮             ⋮            ⋱ ⋮         ⋮      ⋮      ⋮          ⋮        \n",
              "777        NA            NA    ⋯ p         stop   labial no         di       \n",
              "778        NA            NA    ⋯ p         stop   labial no         di       \n",
              "779        NA            NA    ⋯ p         stop   labial no         di       \n",
              "780        NA            NA    ⋯ p         stop   labial no         di       \n",
              "781        NA            NA    ⋯ p         stop   labial no         di       \n",
              "782        NA            NA    ⋯ p         stop   labial no         di       \n",
              "783        NA            NA    ⋯ p         stop   labial no         di       \n",
              "784        NA            NA    ⋯ p         stop   labial no         di       \n",
              "785        NA            NA    ⋯ p         stop   labial no         di       \n",
              "786        NA            NA    ⋯ p         stop   labial no         di       \n",
              "787        NA            NA    ⋯ p         stop   labial no         di       \n",
              "788        NA            NA    ⋯ p         stop   labial no         di       \n",
              "789        NA            NA    ⋯ p         stop   labial no         di       \n",
              "790        NA            NA    ⋯ p         stop   labial no         di       \n",
              "791        NA            NA    ⋯ p         stop   labial no         di       \n",
              "792  1.778156      88.34627    ⋯ ʰp        stop   labial yes        di       \n",
              "793 17.338861     100.66837    ⋯ ʰp        stop   labial yes        di       \n",
              "794 11.038415      83.98587    ⋯ ʰp        stop   labial yes        di       \n",
              "795 53.418594      87.54605    ⋯ ʰp        stop   labial yes        di       \n",
              "796 33.816184      88.50811    ⋯ ʰp        stop   labial yes        di       \n",
              "797  0.000000      55.01378    ⋯ ʰp        stop   labial yes        di       \n",
              "798 47.062597      81.62289    ⋯ ʰp        stop   labial yes        di       \n",
              "799 31.180067      88.40992    ⋯ ʰp        stop   labial yes        di       \n",
              "800 58.027211      97.31168    ⋯ ʰp        stop   labial yes        di       \n",
              "801 52.182000      74.35660    ⋯ ʰp        stop   labial yes        di       \n",
              "802 49.750945      67.40505    ⋯ ʰp        stop   labial yes        di       \n",
              "803 39.612168      65.37430    ⋯ ʰp        stop   labial yes        di       \n",
              "804 60.475403      86.00385    ⋯ ʰp        stop   labial yes        di       \n",
              "805 69.794869      82.19327    ⋯ ʰp        stop   labial yes        di       \n",
              "806 46.975939      57.67724    ⋯ ʰp        stop   labial yes        di       \n",
              "    syl_structure gloss      pos comp contx\n",
              "1   cvcc          cook       n   c    cc   \n",
              "2   cvcc          cook       n   c    cc   \n",
              "3   cvcc          cook       n   c    cc   \n",
              "4   cvcc          cook       n   c    cc   \n",
              "5   cvcc          cook       n   c    cc   \n",
              "6   cvcc          cook       n   c    cc   \n",
              "7   cvcc          cook       n   c    cc   \n",
              "8   cvcc          cook       n   c    cc   \n",
              "9   cvcc          cook       n   c    cc   \n",
              "10  cvcc          cook       n   c    cc   \n",
              "11  cvcc          cook       n   c    cc   \n",
              "12  cvcc          cook       n   c    cc   \n",
              "13  cvcc          cook       n   c    cc   \n",
              "14  cvcc          cook       n   c    cc   \n",
              "15  cvcc          cook       n   c    cc   \n",
              "16  cvcc          beak       n   c    cc   \n",
              "17  cvcc          beak       n   c    cc   \n",
              "18  cvcc          beak       n   c    cc   \n",
              "19  cvcc          beak       n   c    cc   \n",
              "20  cvcc          beak       n   c    cc   \n",
              "21  cvcc          beak       n   c    cc   \n",
              "22  cvcc          beak       n   c    cc   \n",
              "23  cvcc          beak       n   c    cc   \n",
              "24  cvcc          beak       n   c    cc   \n",
              "25  cvcc          beak       n   c    cc   \n",
              "26  cvcc          beak       n   c    cc   \n",
              "27  cvcc          beak       n   c    cc   \n",
              "28  cvcc          beak       n   c    cc   \n",
              "29  cvcc          beak       n   c    cc   \n",
              "30  cvcc          beak       n   c    cc   \n",
              "⋮   ⋮             ⋮          ⋮   ⋮    ⋮    \n",
              "777 cvccv         play chess v   x    cx   \n",
              "778 cvccv         play chess v   x    cx   \n",
              "779 cvccv         play chess v   x    cx   \n",
              "780 cvccv         play chess v   x    cx   \n",
              "781 cvccv         play chess v   x    cx   \n",
              "782 cvccv         play chess v   x    cx   \n",
              "783 cvccv         play chess v   x    cx   \n",
              "784 cvccv         play chess v   x    cx   \n",
              "785 cvccv         play chess v   x    cx   \n",
              "786 cvccv         play chess v   x    cx   \n",
              "787 cvccv         play chess v   x    cx   \n",
              "788 cvccv         play chess v   x    cx   \n",
              "789 cvccv         play chess v   x    cx   \n",
              "790 cvccv         play chess v   x    cx   \n",
              "791 cvccv         play chess v   x    cx   \n",
              "792 cvccv         tiptoe     v   x    cx   \n",
              "793 cvccv         tiptoe     v   x    cx   \n",
              "794 cvccv         tiptoe     v   x    cx   \n",
              "795 cvccv         tiptoe     v   x    cx   \n",
              "796 cvccv         tiptoe     v   x    cx   \n",
              "797 cvccv         tiptoe     v   x    cx   \n",
              "798 cvccv         tiptoe     v   x    cx   \n",
              "799 cvccv         tiptoe     v   x    cx   \n",
              "800 cvccv         tiptoe     v   x    cx   \n",
              "801 cvccv         tiptoe     v   x    cx   \n",
              "802 cvccv         tiptoe     v   x    cx   \n",
              "803 cvccv         tiptoe     v   x    cx   \n",
              "804 cvccv         tiptoe     v   x    cx   \n",
              "805 cvccv         tiptoe     v   x    cx   \n",
              "806 cvccv         tiptoe     v   x    cx   "
            ]
          },
          "metadata": {}
        }
      ],
      "source": [
        "df <- read_csv('https://raw.githubusercontent.com/LingData2019/LingData2020/master/data/icelandic.csv')\n",
        "df"
      ]
    },
    {
      "cell_type": "code",
      "source": [
        "df %>% group_by(roundness) %>%\n",
        "  summarize(vowel.dur = median(vowel.dur))"
      ],
      "metadata": {
        "colab": {
          "base_uri": "https://localhost:8080/",
          "height": 161
        },
        "id": "XErQHunVpKsw",
        "outputId": "1e9f748c-00ec-4189-9b4b-2d18d3c29255"
      },
      "execution_count": 19,
      "outputs": [
        {
          "output_type": "display_data",
          "data": {
            "text/html": [
              "<table class=\"dataframe\">\n",
              "<caption>A tibble: 2 × 2</caption>\n",
              "<thead>\n",
              "\t<tr><th scope=col>roundness</th><th scope=col>vowel.dur</th></tr>\n",
              "\t<tr><th scope=col>&lt;chr&gt;</th><th scope=col>&lt;dbl&gt;</th></tr>\n",
              "</thead>\n",
              "<tbody>\n",
              "\t<tr><td>round    </td><td>90.14707</td></tr>\n",
              "\t<tr><td>unrounded</td><td>82.37594</td></tr>\n",
              "</tbody>\n",
              "</table>\n"
            ],
            "text/markdown": "\nA tibble: 2 × 2\n\n| roundness &lt;chr&gt; | vowel.dur &lt;dbl&gt; |\n|---|---|\n| round     | 90.14707 |\n| unrounded | 82.37594 |\n\n",
            "text/latex": "A tibble: 2 × 2\n\\begin{tabular}{ll}\n roundness & vowel.dur\\\\\n <chr> & <dbl>\\\\\n\\hline\n\t round     & 90.14707\\\\\n\t unrounded & 82.37594\\\\\n\\end{tabular}\n",
            "text/plain": [
              "  roundness vowel.dur\n",
              "1 round     90.14707 \n",
              "2 unrounded 82.37594 "
            ]
          },
          "metadata": {}
        }
      ]
    },
    {
      "cell_type": "code",
      "source": [
        "df %>% mutate(roundness = factor(roundness, level_order)) %>% group_by(roundness)"
      ],
      "metadata": {
        "colab": {
          "base_uri": "https://localhost:8080/",
          "height": 697
        },
        "id": "boiTRW0KrQsY",
        "outputId": "ecfed21d-59b6-4623-953a-1ef4e70a8c9f"
      },
      "execution_count": 22,
      "outputs": [
        {
          "output_type": "error",
          "ename": "ERROR",
          "evalue": "\u001b[1m\u001b[33mError\u001b[39m in `mutate()`:\u001b[22m\n\u001b[1m\u001b[22m\u001b[36mℹ\u001b[39m In argument: `roundness = factor(roundness, level_order)`.\n\u001b[1mCaused by error:\u001b[22m\n\u001b[33m!\u001b[39m object 'level_order' not found\n",
          "traceback": [
            "\u001b[1m\u001b[33mError\u001b[39m in `mutate()`:\u001b[22m\n\u001b[1m\u001b[22m\u001b[36mℹ\u001b[39m In argument: `roundness = factor(roundness, level_order)`.\n\u001b[1mCaused by error:\u001b[22m\n\u001b[33m!\u001b[39m object 'level_order' not found\nTraceback:\n",
            "1. group_by(., roundness)",
            "2. mutate(., roundness = factor(roundness, level_order))",
            "3. mutate.data.frame(., roundness = factor(roundness, level_order))",
            "4. mutate_cols(.data, dplyr_quosures(...), by)",
            "5. withCallingHandlers(for (i in seq_along(dots)) {\n .     poke_error_context(dots, i, mask = mask)\n .     context_poke(\"column\", old_current_column)\n .     new_columns <- mutate_col(dots[[i]], data, mask, new_columns)\n . }, error = dplyr_error_handler(dots = dots, mask = mask, bullets = mutate_bullets, \n .     error_call = error_call, error_class = \"dplyr:::mutate_error\"), \n .     warning = dplyr_warning_handler(state = warnings_state, mask = mask, \n .         error_call = error_call))",
            "6. mutate_col(dots[[i]], data, mask, new_columns)",
            "7. mask$eval_all_mutate(quo)",
            "8. eval()",
            "9. factor(roundness, level_order)",
            "10. .handleSimpleError(function (cnd) \n  . {\n  .     local_error_context(dots, i = frame[[i_sym]], mask = mask)\n  .     if (inherits(cnd, \"dplyr:::internal_error\")) {\n  .         parent <- error_cnd(message = bullets(cnd))\n  .     }\n  .     else {\n  .         parent <- cnd\n  .     }\n  .     message <- c(cnd_bullet_header(action), i = if (has_active_group_context(mask)) cnd_bullet_cur_group_label())\n  .     abort(message, class = error_class, parent = parent, call = error_call)\n  . }, \"object 'level_order' not found\", base::quote(NULL))",
            "11. h(simpleError(msg, call))",
            "12. abort(message, class = error_class, parent = parent, call = error_call)",
            "13. signal_abort(cnd, .file)",
            "14. signalCondition(cnd)"
          ]
        }
      ]
    },
    {
      "cell_type": "code",
      "source": [
        "# 1) построить боксплот для переменной vowel.dur при условиях, заданных в столбце roundness\n",
        "# с использованием ggplot и аргумента notch=TRUE в геоме geom_boxplot\n",
        "# нанести на боксплот медиану или среднее для каждого ящика в виде точки\n",
        "\n",
        "plt = df %>%\n",
        "  ggplot(aes(x = roundness, y=vowel.dur, fill=roundness)) +\n",
        "  geom_boxplot(, notch=TRUE) +\n",
        "  stat_summary(fun.y=mean, geom=\"point\", shape=20, size=10, color=\"grey\") +\n",
        "  theme_minimal()\n",
        "\n",
        "plt\n",
        "\n",
        "# ширина насечки -- доверительный интервал"
      ],
      "metadata": {
        "colab": {
          "base_uri": "https://localhost:8080/",
          "height": 437
        },
        "id": "Navm2bUNmbur",
        "outputId": "4a3c0759-e514-484d-a6eb-5fa2e4c1e569"
      },
      "execution_count": 38,
      "outputs": [
        {
          "output_type": "display_data",
          "data": {
            "text/plain": [
              "plot without title"
            ],
            "image/png": "[encoded data removed]"
          },
          "metadata": {
            "image/png": {
              "width": 420,
              "height": 420
            }
          }
        }
      ]
    },
    {
      "cell_type": "code",
      "source": [
        "# 2) применить t-test и его непараметрический аналог\n",
        "round_times <- df %>%\n",
        "  filter(roundness == \"round\") %>%\n",
        "  select(time)\n",
        "round_times %>% count()\n",
        "\n",
        "unrounded_times <- df %>%\n",
        "  filter(roundness == \"unrounded\") %>%\n",
        "  select(time)\n",
        "unrounded_times %>% count()\n",
        "\n",
        "t.test(round_times, unrounded_times, paired = FALSE/TRUE)"
      ],
      "metadata": {
        "colab": {
          "base_uri": "https://localhost:8080/",
          "height": 467
        },
        "id": "ffTxyl26uKe5",
        "outputId": "0fbf7579-782d-4d51-e629-5024e92413a8"
      },
      "execution_count": 43,
      "outputs": [
        {
          "output_type": "display_data",
          "data": {
            "text/html": [
              "<table class=\"dataframe\">\n",
              "<caption>A tibble: 1 × 1</caption>\n",
              "<thead>\n",
              "\t<tr><th scope=col>n</th></tr>\n",
              "\t<tr><th scope=col>&lt;int&gt;</th></tr>\n",
              "</thead>\n",
              "<tbody>\n",
              "\t<tr><td>300</td></tr>\n",
              "</tbody>\n",
              "</table>\n"
            ],
            "text/markdown": "\nA tibble: 1 × 1\n\n| n &lt;int&gt; |\n|---|\n| 300 |\n\n",
            "text/latex": "A tibble: 1 × 1\n\\begin{tabular}{l}\n n\\\\\n <int>\\\\\n\\hline\n\t 300\\\\\n\\end{tabular}\n",
            "text/plain": [
              "  n  \n",
              "1 300"
            ]
          },
          "metadata": {}
        },
        {
          "output_type": "display_data",
          "data": {
            "text/html": [
              "<table class=\"dataframe\">\n",
              "<caption>A tibble: 1 × 1</caption>\n",
              "<thead>\n",
              "\t<tr><th scope=col>n</th></tr>\n",
              "\t<tr><th scope=col>&lt;int&gt;</th></tr>\n",
              "</thead>\n",
              "<tbody>\n",
              "\t<tr><td>506</td></tr>\n",
              "</tbody>\n",
              "</table>\n"
            ],
            "text/markdown": "\nA tibble: 1 × 1\n\n| n &lt;int&gt; |\n|---|\n| 506 |\n\n",
            "text/latex": "A tibble: 1 × 1\n\\begin{tabular}{l}\n n\\\\\n <int>\\\\\n\\hline\n\t 506\\\\\n\\end{tabular}\n",
            "text/plain": [
              "  n  \n",
              "1 506"
            ]
          },
          "metadata": {}
        },
        {
          "output_type": "display_data",
          "data": {
            "text/plain": [
              "\n",
              "\tWelch Two Sample t-test\n",
              "\n",
              "data:  round_times and unrounded_times\n",
              "t = -0.9631, df = 589.36, p-value = 0.3359\n",
              "alternative hypothesis: true difference in means is not equal to 0\n",
              "95 percent confidence interval:\n",
              " -40.69893  13.91676\n",
              "sample estimates:\n",
              "mean of x mean of y \n",
              " 295.8432  309.2343 \n"
            ]
          },
          "metadata": {}
        }
      ]
    },
    {
      "cell_type": "code",
      "source": [
        "# p-value = 0.3359 -> не можем отвергнуть H0: разница средних статистически не значима"
      ],
      "metadata": {
        "id": "ORbbUWo31nhk"
      },
      "execution_count": null,
      "outputs": []
    },
    {
      "cell_type": "code",
      "source": [
        "# Тест Уилкоксона\n",
        "\n",
        "wilcox.test(df$round_times ~ df$unrounded_times, paired = TRUE)"
      ],
      "metadata": {
        "colab": {
          "base_uri": "https://localhost:8080/",
          "height": 280
        },
        "id": "T3RKNDPvvG5B",
        "outputId": "e223dd57-bab9-4125-f581-637522da9e73"
      },
      "execution_count": 54,
      "outputs": [
        {
          "output_type": "error",
          "ename": "ERROR",
          "evalue": "Error in wilcox.test.formula(df$round_times ~ df$unrounded_times, paired = TRUE): cannot use 'paired' in formula method\n",
          "traceback": [
            "Error in wilcox.test.formula(df$round_times ~ df$unrounded_times, paired = TRUE): cannot use 'paired' in formula method\nTraceback:\n",
            "1. wilcox.test.formula(df$round_times ~ df$unrounded_times, paired = TRUE)",
            "2. stop(\"cannot use 'paired' in formula method\")",
            "3. .handleSimpleError(function (cnd) \n . {\n .     watcher$capture_plot_and_output()\n .     cnd <- sanitize_call(cnd)\n .     watcher$push(cnd)\n .     switch(on_error, continue = invokeRestart(\"eval_continue\"), \n .         stop = invokeRestart(\"eval_stop\"), error = NULL)\n . }, \"cannot use 'paired' in formula method\", base::quote(wilcox.test.formula(df$round_times ~ \n .     df$unrounded_times, paired = TRUE)))"
          ]
        }
      ]
    },
    {
      "cell_type": "code",
      "source": [
        "# Тест Манна-Уитни\n",
        "\n",
        "wilcox.test(round_times ~ unround_times, paired = FALSE)"
      ],
      "metadata": {
        "colab": {
          "base_uri": "https://localhost:8080/",
          "height": 280
        },
        "id": "YzZ76CRmvmTc",
        "outputId": "45dde2e9-8405-40f4-a332-f0a3c489ba91"
      },
      "execution_count": 50,
      "outputs": [
        {
          "output_type": "error",
          "ename": "ERROR",
          "evalue": "Error in wilcox.test.formula(round_times ~ unround_times, paired = FALSE): cannot use 'paired' in formula method\n",
          "traceback": [
            "Error in wilcox.test.formula(round_times ~ unround_times, paired = FALSE): cannot use 'paired' in formula method\nTraceback:\n",
            "1. wilcox.test.formula(round_times ~ unround_times, paired = FALSE)",
            "2. stop(\"cannot use 'paired' in formula method\")",
            "3. .handleSimpleError(function (cnd) \n . {\n .     watcher$capture_plot_and_output()\n .     cnd <- sanitize_call(cnd)\n .     watcher$push(cnd)\n .     switch(on_error, continue = invokeRestart(\"eval_continue\"), \n .         stop = invokeRestart(\"eval_stop\"), error = NULL)\n . }, \"cannot use 'paired' in formula method\", base::quote(wilcox.test.formula(round_times ~ \n .     unround_times, paired = FALSE)))"
          ]
        }
      ]
    },
    {
      "cell_type": "code",
      "source": [
        "# Pearson's correlation\n",
        "\n",
        "cor.test(df$vowel.dur, df$cluster.dur)"
      ],
      "metadata": {
        "colab": {
          "base_uri": "https://localhost:8080/",
          "height": 208
        },
        "id": "umHowcqa2Cip",
        "outputId": "b9088926-ecc6-4fc0-8310-dd5a1e4d5484"
      },
      "execution_count": 56,
      "outputs": [
        {
          "output_type": "display_data",
          "data": {
            "text/plain": [
              "\n",
              "\tPearson's product-moment correlation\n",
              "\n",
              "data:  df$vowel.dur and df$cluster.dur\n",
              "t = -3.3094, df = 804, p-value = 0.0009766\n",
              "alternative hypothesis: true correlation is not equal to 0\n",
              "95 percent confidence interval:\n",
              " -0.18351242 -0.04724865\n",
              "sample estimates:\n",
              "      cor \n",
              "-0.115926 \n"
            ]
          },
          "metadata": {}
        }
      ]
    },
    {
      "cell_type": "code",
      "source": [
        "# Spearman's correlation\n",
        "\n",
        "cor.test(df$vowel.dur, df$cluster.dur, method='spearman')"
      ],
      "metadata": {
        "colab": {
          "base_uri": "https://localhost:8080/",
          "height": 208
        },
        "id": "ZQury_ITA0e6",
        "outputId": "927adaa7-e981-4222-be34-fb4fbeb294ca"
      },
      "execution_count": 57,
      "outputs": [
        {
          "output_type": "stream",
          "name": "stderr",
          "text": [
            "Warning message in cor.test.default(df$vowel.dur, df$cluster.dur, method = \"spearman\"):\n",
            "“Cannot compute exact p-value with ties”\n"
          ]
        },
        {
          "output_type": "display_data",
          "data": {
            "text/plain": [
              "\n",
              "\tSpearman's rank correlation rho\n",
              "\n",
              "data:  df$vowel.dur and df$cluster.dur\n",
              "S = 86266195, p-value = 0.745\n",
              "alternative hypothesis: true rho is not equal to 0\n",
              "sample estimates:\n",
              "       rho \n",
              "0.01147551 \n"
            ]
          },
          "metadata": {}
        }
      ]
    },
    {
      "cell_type": "code",
      "source": [
        "# Kendall's correlation\n",
        "\n",
        "cor.test(df$vowel.dur, df$cluster.dur, method='kendall')"
      ],
      "metadata": {
        "colab": {
          "base_uri": "https://localhost:8080/",
          "height": 173
        },
        "id": "Jm1eg0FTA-We",
        "outputId": "e4ab5957-de97-4fae-e2c5-3407956f16e3"
      },
      "execution_count": 58,
      "outputs": [
        {
          "output_type": "display_data",
          "data": {
            "text/plain": [
              "\n",
              "\tKendall's rank correlation tau\n",
              "\n",
              "data:  df$vowel.dur and df$cluster.dur\n",
              "z = 0.43094, p-value = 0.6665\n",
              "alternative hypothesis: true tau is not equal to 0\n",
              "sample estimates:\n",
              "       tau \n",
              "0.01014182 \n"
            ]
          },
          "metadata": {}
        }
      ]
    }
  ]
}